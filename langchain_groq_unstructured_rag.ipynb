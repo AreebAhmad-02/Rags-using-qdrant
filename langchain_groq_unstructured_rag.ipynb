{
  "cells": [
    {
      "cell_type": "markdown",
      "metadata": {
        "id": "view-in-github",
        "colab_type": "text"
      },
      "source": [
        "<a href=\"https://colab.research.google.com/github/AreebAhmad-02/Rags-using-qdrant/blob/main/langchain_groq_unstructured_rag.ipynb\" target=\"_parent\"><img src=\"https://colab.research.google.com/assets/colab-badge.svg\" alt=\"Open In Colab\"/></a>"
      ]
    },
    {
      "cell_type": "markdown",
      "id": "a77e4616-c43b-42d4-88bf-40eeaab5e6cf",
      "metadata": {
        "id": "a77e4616-c43b-42d4-88bf-40eeaab5e6cf"
      },
      "source": [
        "# Build Your Own Retrieval Augmented Generation (RAG) Bot\n",
        "\n",
        "\n",
        "\n",
        "## Tech used\n",
        "- LangChain [link](https://www.langchain.com/)\n",
        "- Unstructured [link](https://unstructured.io/)\n",
        "- LangSmith [link](https://smith.langchain.com/)\n",
        "- Qdrant Cloud [link](https://cloud.qdrant.io)\n",
        "- Groq API [link](https://console.groq.com/playground)\n",
        "- Llama3 via Groq API\n",
        "- Fastembed [link](https://github.com/qdrant/fastembed)\n",
        "\n",
        "## File type used\n",
        "- PDF\n",
        "- Markdown"
      ]
    },
    {
      "cell_type": "markdown",
      "id": "dc2f9ec6-b56b-444c-9d9f-6f0b39973450",
      "metadata": {
        "id": "dc2f9ec6-b56b-444c-9d9f-6f0b39973450"
      },
      "source": [
        "### Some important links\n",
        "- https://unstructured.io/\n",
        "- https://unstructured-io.github.io/unstructured/index.html\n",
        "- https://docs.unstructured.io/api-reference/api-services/python-sdk\n",
        "- https://www.deeplearning.ai/short-courses/preprocessing-unstructured-data-for-llm-applications/"
      ]
    },
    {
      "cell_type": "markdown",
      "id": "282b549f",
      "metadata": {
        "id": "282b549f"
      },
      "source": [
        "## Setup"
      ]
    },
    {
      "cell_type": "code",
      "execution_count": 1,
      "id": "2454abe1",
      "metadata": {
        "colab": {
          "base_uri": "https://localhost:8080/"
        },
        "id": "2454abe1",
        "outputId": "f54b96ed-b22e-4758-dbcd-9aeb88051df4"
      },
      "outputs": [
        {
          "output_type": "stream",
          "name": "stdout",
          "text": [
            "Requirement already satisfied: unstructured[all-docs] in /usr/local/lib/python3.10/dist-packages (0.14.5)\n",
            "Requirement already satisfied: unstructured-client in /usr/local/lib/python3.10/dist-packages (0.23.3)\n",
            "Requirement already satisfied: watermark in /usr/local/lib/python3.10/dist-packages (2.4.3)\n",
            "Requirement already satisfied: langchain-groq in /usr/local/lib/python3.10/dist-packages (0.1.5)\n",
            "Requirement already satisfied: langchain in /usr/local/lib/python3.10/dist-packages (0.2.3)\n",
            "Requirement already satisfied: fastembed in /usr/local/lib/python3.10/dist-packages (0.3.0)\n",
            "Requirement already satisfied: qdrant_client in /usr/local/lib/python3.10/dist-packages (1.9.1)\n",
            "Requirement already satisfied: python-dotenv in /usr/local/lib/python3.10/dist-packages (1.0.1)\n",
            "Requirement already satisfied: chardet in /usr/local/lib/python3.10/dist-packages (from unstructured[all-docs]) (5.2.0)\n",
            "Requirement already satisfied: filetype in /usr/local/lib/python3.10/dist-packages (from unstructured[all-docs]) (1.2.0)\n",
            "Requirement already satisfied: python-magic in /usr/local/lib/python3.10/dist-packages (from unstructured[all-docs]) (0.4.27)\n",
            "Requirement already satisfied: lxml in /usr/local/lib/python3.10/dist-packages (from unstructured[all-docs]) (4.9.4)\n",
            "Requirement already satisfied: nltk in /usr/local/lib/python3.10/dist-packages (from unstructured[all-docs]) (3.8.1)\n",
            "Requirement already satisfied: tabulate in /usr/local/lib/python3.10/dist-packages (from unstructured[all-docs]) (0.9.0)\n",
            "Requirement already satisfied: requests in /usr/local/lib/python3.10/dist-packages (from unstructured[all-docs]) (2.31.0)\n",
            "Requirement already satisfied: beautifulsoup4 in /usr/local/lib/python3.10/dist-packages (from unstructured[all-docs]) (4.12.3)\n",
            "Requirement already satisfied: emoji in /usr/local/lib/python3.10/dist-packages (from unstructured[all-docs]) (2.12.1)\n",
            "Requirement already satisfied: dataclasses-json in /usr/local/lib/python3.10/dist-packages (from unstructured[all-docs]) (0.6.7)\n",
            "Requirement already satisfied: python-iso639 in /usr/local/lib/python3.10/dist-packages (from unstructured[all-docs]) (2024.4.27)\n",
            "Requirement already satisfied: langdetect in /usr/local/lib/python3.10/dist-packages (from unstructured[all-docs]) (1.0.9)\n",
            "Requirement already satisfied: numpy in /usr/local/lib/python3.10/dist-packages (from unstructured[all-docs]) (1.25.2)\n",
            "Requirement already satisfied: rapidfuzz in /usr/local/lib/python3.10/dist-packages (from unstructured[all-docs]) (3.9.3)\n",
            "Requirement already satisfied: backoff in /usr/local/lib/python3.10/dist-packages (from unstructured[all-docs]) (2.2.1)\n",
            "Requirement already satisfied: typing-extensions in /usr/local/lib/python3.10/dist-packages (from unstructured[all-docs]) (4.12.1)\n",
            "Requirement already satisfied: wrapt in /usr/local/lib/python3.10/dist-packages (from unstructured[all-docs]) (1.14.1)\n",
            "Requirement already satisfied: pandas in /usr/local/lib/python3.10/dist-packages (from unstructured[all-docs]) (2.0.3)\n",
            "Requirement already satisfied: python-oxmsg in /usr/local/lib/python3.10/dist-packages (from unstructured[all-docs]) (0.0.1)\n",
            "Requirement already satisfied: pypandoc in /usr/local/lib/python3.10/dist-packages (from unstructured[all-docs]) (1.13)\n",
            "Requirement already satisfied: markdown in /usr/local/lib/python3.10/dist-packages (from unstructured[all-docs]) (3.6)\n",
            "Requirement already satisfied: networkx in /usr/local/lib/python3.10/dist-packages (from unstructured[all-docs]) (3.3)\n",
            "Requirement already satisfied: pikepdf in /usr/local/lib/python3.10/dist-packages (from unstructured[all-docs]) (9.0.0)\n",
            "Requirement already satisfied: pdfminer.six in /usr/local/lib/python3.10/dist-packages (from unstructured[all-docs]) (20231228)\n",
            "Requirement already satisfied: pypdf in /usr/local/lib/python3.10/dist-packages (from unstructured[all-docs]) (4.2.0)\n",
            "Requirement already satisfied: xlrd in /usr/local/lib/python3.10/dist-packages (from unstructured[all-docs]) (2.0.1)\n",
            "Requirement already satisfied: onnx in /usr/local/lib/python3.10/dist-packages (from unstructured[all-docs]) (1.16.1)\n",
            "Requirement already satisfied: python-docx>=1.1.2 in /usr/local/lib/python3.10/dist-packages (from unstructured[all-docs]) (1.1.2)\n",
            "Requirement already satisfied: pytesseract in /usr/local/lib/python3.10/dist-packages (from unstructured[all-docs]) (0.3.10)\n",
            "Requirement already satisfied: google-cloud-vision in /usr/local/lib/python3.10/dist-packages (from unstructured[all-docs]) (2.7.2)\n",
            "Requirement already satisfied: unstructured.pytesseract>=0.3.12 in /usr/local/lib/python3.10/dist-packages (from unstructured[all-docs]) (0.3.12)\n",
            "Requirement already satisfied: openpyxl in /usr/local/lib/python3.10/dist-packages (from unstructured[all-docs]) (3.1.3)\n",
            "Requirement already satisfied: effdet in /usr/local/lib/python3.10/dist-packages (from unstructured[all-docs]) (0.4.1)\n",
            "Requirement already satisfied: pdf2image in /usr/local/lib/python3.10/dist-packages (from unstructured[all-docs]) (1.17.0)\n",
            "Requirement already satisfied: python-pptx<=0.6.23 in /usr/local/lib/python3.10/dist-packages (from unstructured[all-docs]) (0.6.23)\n",
            "Requirement already satisfied: unstructured-inference==0.7.33 in /usr/local/lib/python3.10/dist-packages (from unstructured[all-docs]) (0.7.33)\n",
            "Requirement already satisfied: pillow-heif in /usr/local/lib/python3.10/dist-packages (from unstructured[all-docs]) (0.16.0)\n",
            "Requirement already satisfied: layoutparser in /usr/local/lib/python3.10/dist-packages (from unstructured-inference==0.7.33->unstructured[all-docs]) (0.3.4)\n",
            "Requirement already satisfied: python-multipart in /usr/local/lib/python3.10/dist-packages (from unstructured-inference==0.7.33->unstructured[all-docs]) (0.0.9)\n",
            "Requirement already satisfied: huggingface-hub in /usr/local/lib/python3.10/dist-packages (from unstructured-inference==0.7.33->unstructured[all-docs]) (0.23.2)\n",
            "Requirement already satisfied: opencv-python!=4.7.0.68 in /usr/local/lib/python3.10/dist-packages (from unstructured-inference==0.7.33->unstructured[all-docs]) (4.8.0.76)\n",
            "Requirement already satisfied: onnxruntime>=1.17.0 in /usr/local/lib/python3.10/dist-packages (from unstructured-inference==0.7.33->unstructured[all-docs]) (1.18.0)\n",
            "Requirement already satisfied: matplotlib in /usr/local/lib/python3.10/dist-packages (from unstructured-inference==0.7.33->unstructured[all-docs]) (3.7.1)\n",
            "Requirement already satisfied: torch in /usr/local/lib/python3.10/dist-packages (from unstructured-inference==0.7.33->unstructured[all-docs]) (2.3.0+cu121)\n",
            "Requirement already satisfied: timm in /usr/local/lib/python3.10/dist-packages (from unstructured-inference==0.7.33->unstructured[all-docs]) (1.0.3)\n",
            "Requirement already satisfied: transformers>=4.25.1 in /usr/local/lib/python3.10/dist-packages (from unstructured-inference==0.7.33->unstructured[all-docs]) (4.41.2)\n",
            "Requirement already satisfied: certifi>=2023.7.22 in /usr/local/lib/python3.10/dist-packages (from unstructured-client) (2024.6.2)\n",
            "Requirement already satisfied: charset-normalizer>=3.2.0 in /usr/local/lib/python3.10/dist-packages (from unstructured-client) (3.3.2)\n",
            "Requirement already satisfied: deepdiff>=6.0 in /usr/local/lib/python3.10/dist-packages (from unstructured-client) (7.0.1)\n",
            "Requirement already satisfied: httpx>=0.27.0 in /usr/local/lib/python3.10/dist-packages (from unstructured-client) (0.27.0)\n",
            "Requirement already satisfied: idna>=3.4 in /usr/local/lib/python3.10/dist-packages (from unstructured-client) (3.7)\n",
            "Requirement already satisfied: jsonpath-python>=1.0.6 in /usr/local/lib/python3.10/dist-packages (from unstructured-client) (1.0.6)\n",
            "Requirement already satisfied: marshmallow>=3.19.0 in /usr/local/lib/python3.10/dist-packages (from unstructured-client) (3.21.3)\n",
            "Requirement already satisfied: mypy-extensions>=1.0.0 in /usr/local/lib/python3.10/dist-packages (from unstructured-client) (1.0.0)\n",
            "Requirement already satisfied: nest-asyncio>=1.6.0 in /usr/local/lib/python3.10/dist-packages (from unstructured-client) (1.6.0)\n",
            "Requirement already satisfied: packaging>=23.1 in /usr/local/lib/python3.10/dist-packages (from unstructured-client) (23.2)\n",
            "Requirement already satisfied: python-dateutil>=2.8.2 in /usr/local/lib/python3.10/dist-packages (from unstructured-client) (2.8.2)\n",
            "Requirement already satisfied: requests-toolbelt>=1.0.0 in /usr/local/lib/python3.10/dist-packages (from unstructured-client) (1.0.0)\n",
            "Requirement already satisfied: six>=1.16.0 in /usr/local/lib/python3.10/dist-packages (from unstructured-client) (1.16.0)\n",
            "Requirement already satisfied: typing-inspect>=0.9.0 in /usr/local/lib/python3.10/dist-packages (from unstructured-client) (0.9.0)\n",
            "Requirement already satisfied: urllib3>=1.26.18 in /usr/local/lib/python3.10/dist-packages (from unstructured-client) (2.0.7)\n",
            "Requirement already satisfied: ipython>=6.0 in /usr/local/lib/python3.10/dist-packages (from watermark) (7.34.0)\n",
            "Requirement already satisfied: importlib-metadata>=1.4 in /usr/local/lib/python3.10/dist-packages (from watermark) (7.1.0)\n",
            "Requirement already satisfied: setuptools in /usr/local/lib/python3.10/dist-packages (from watermark) (67.7.2)\n",
            "Requirement already satisfied: groq<1,>=0.4.1 in /usr/local/lib/python3.10/dist-packages (from langchain-groq) (0.8.0)\n",
            "Requirement already satisfied: langchain-core<0.3,>=0.1.45 in /usr/local/lib/python3.10/dist-packages (from langchain-groq) (0.2.5)\n",
            "Requirement already satisfied: PyYAML>=5.3 in /usr/local/lib/python3.10/dist-packages (from langchain) (6.0.1)\n",
            "Requirement already satisfied: SQLAlchemy<3,>=1.4 in /usr/local/lib/python3.10/dist-packages (from langchain) (2.0.30)\n",
            "Requirement already satisfied: aiohttp<4.0.0,>=3.8.3 in /usr/local/lib/python3.10/dist-packages (from langchain) (3.9.5)\n",
            "Requirement already satisfied: async-timeout<5.0.0,>=4.0.0 in /usr/local/lib/python3.10/dist-packages (from langchain) (4.0.3)\n",
            "Requirement already satisfied: langchain-text-splitters<0.3.0,>=0.2.0 in /usr/local/lib/python3.10/dist-packages (from langchain) (0.2.1)\n",
            "Requirement already satisfied: langsmith<0.2.0,>=0.1.17 in /usr/local/lib/python3.10/dist-packages (from langchain) (0.1.76)\n",
            "Requirement already satisfied: pydantic<3,>=1 in /usr/local/lib/python3.10/dist-packages (from langchain) (2.7.3)\n",
            "Requirement already satisfied: tenacity<9.0.0,>=8.1.0 in /usr/local/lib/python3.10/dist-packages (from langchain) (8.3.0)\n",
            "Requirement already satisfied: PyStemmer<3.0.0,>=2.2.0 in /usr/local/lib/python3.10/dist-packages (from fastembed) (2.2.0.1)\n",
            "Requirement already satisfied: loguru<0.8.0,>=0.7.2 in /usr/local/lib/python3.10/dist-packages (from fastembed) (0.7.2)\n",
            "Requirement already satisfied: mmh3<5.0,>=4.0 in /usr/local/lib/python3.10/dist-packages (from fastembed) (4.1.0)\n",
            "Requirement already satisfied: pillow<11.0.0,>=10.3.0 in /usr/local/lib/python3.10/dist-packages (from fastembed) (10.3.0)\n",
            "Requirement already satisfied: snowballstemmer<3.0.0,>=2.2.0 in /usr/local/lib/python3.10/dist-packages (from fastembed) (2.2.0)\n",
            "Requirement already satisfied: tokenizers<1.0,>=0.15 in /usr/local/lib/python3.10/dist-packages (from fastembed) (0.19.1)\n",
            "Requirement already satisfied: tqdm<5.0,>=4.66 in /usr/local/lib/python3.10/dist-packages (from fastembed) (4.66.4)\n",
            "Requirement already satisfied: grpcio>=1.41.0 in /usr/local/lib/python3.10/dist-packages (from qdrant_client) (1.64.1)\n",
            "Requirement already satisfied: grpcio-tools>=1.41.0 in /usr/local/lib/python3.10/dist-packages (from qdrant_client) (1.64.1)\n",
            "Requirement already satisfied: portalocker<3.0.0,>=2.7.0 in /usr/local/lib/python3.10/dist-packages (from qdrant_client) (2.8.2)\n",
            "Requirement already satisfied: aiosignal>=1.1.2 in /usr/local/lib/python3.10/dist-packages (from aiohttp<4.0.0,>=3.8.3->langchain) (1.3.1)\n",
            "Requirement already satisfied: attrs>=17.3.0 in /usr/local/lib/python3.10/dist-packages (from aiohttp<4.0.0,>=3.8.3->langchain) (23.2.0)\n",
            "Requirement already satisfied: frozenlist>=1.1.1 in /usr/local/lib/python3.10/dist-packages (from aiohttp<4.0.0,>=3.8.3->langchain) (1.4.1)\n",
            "Requirement already satisfied: multidict<7.0,>=4.5 in /usr/local/lib/python3.10/dist-packages (from aiohttp<4.0.0,>=3.8.3->langchain) (6.0.5)\n",
            "Requirement already satisfied: yarl<2.0,>=1.0 in /usr/local/lib/python3.10/dist-packages (from aiohttp<4.0.0,>=3.8.3->langchain) (1.9.4)\n",
            "Requirement already satisfied: ordered-set<4.2.0,>=4.1.0 in /usr/local/lib/python3.10/dist-packages (from deepdiff>=6.0->unstructured-client) (4.1.0)\n",
            "Requirement already satisfied: anyio<5,>=3.5.0 in /usr/local/lib/python3.10/dist-packages (from groq<1,>=0.4.1->langchain-groq) (3.7.1)\n",
            "Requirement already satisfied: distro<2,>=1.7.0 in /usr/lib/python3/dist-packages (from groq<1,>=0.4.1->langchain-groq) (1.7.0)\n",
            "Requirement already satisfied: sniffio in /usr/local/lib/python3.10/dist-packages (from groq<1,>=0.4.1->langchain-groq) (1.3.1)\n",
            "Requirement already satisfied: protobuf<6.0dev,>=5.26.1 in /usr/local/lib/python3.10/dist-packages (from grpcio-tools>=1.41.0->qdrant_client) (5.27.1)\n",
            "Requirement already satisfied: httpcore==1.* in /usr/local/lib/python3.10/dist-packages (from httpx>=0.27.0->unstructured-client) (1.0.5)\n",
            "Requirement already satisfied: h11<0.15,>=0.13 in /usr/local/lib/python3.10/dist-packages (from httpcore==1.*->httpx>=0.27.0->unstructured-client) (0.14.0)\n",
            "Requirement already satisfied: h2<5,>=3 in /usr/local/lib/python3.10/dist-packages (from httpx>=0.27.0->unstructured-client) (4.1.0)\n",
            "Requirement already satisfied: filelock in /usr/local/lib/python3.10/dist-packages (from huggingface-hub->unstructured-inference==0.7.33->unstructured[all-docs]) (3.14.0)\n",
            "Requirement already satisfied: fsspec>=2023.5.0 in /usr/local/lib/python3.10/dist-packages (from huggingface-hub->unstructured-inference==0.7.33->unstructured[all-docs]) (2023.6.0)\n",
            "Requirement already satisfied: zipp>=0.5 in /usr/local/lib/python3.10/dist-packages (from importlib-metadata>=1.4->watermark) (3.19.1)\n",
            "Requirement already satisfied: jedi>=0.16 in /usr/local/lib/python3.10/dist-packages (from ipython>=6.0->watermark) (0.19.1)\n",
            "Requirement already satisfied: decorator in /usr/local/lib/python3.10/dist-packages (from ipython>=6.0->watermark) (4.4.2)\n",
            "Requirement already satisfied: pickleshare in /usr/local/lib/python3.10/dist-packages (from ipython>=6.0->watermark) (0.7.5)\n",
            "Requirement already satisfied: traitlets>=4.2 in /usr/local/lib/python3.10/dist-packages (from ipython>=6.0->watermark) (5.7.1)\n",
            "Requirement already satisfied: prompt-toolkit!=3.0.0,!=3.0.1,<3.1.0,>=2.0.0 in /usr/local/lib/python3.10/dist-packages (from ipython>=6.0->watermark) (3.0.45)\n",
            "Requirement already satisfied: pygments in /usr/local/lib/python3.10/dist-packages (from ipython>=6.0->watermark) (2.16.1)\n",
            "Requirement already satisfied: backcall in /usr/local/lib/python3.10/dist-packages (from ipython>=6.0->watermark) (0.2.0)\n",
            "Requirement already satisfied: matplotlib-inline in /usr/local/lib/python3.10/dist-packages (from ipython>=6.0->watermark) (0.1.7)\n",
            "Requirement already satisfied: pexpect>4.3 in /usr/local/lib/python3.10/dist-packages (from ipython>=6.0->watermark) (4.9.0)\n",
            "Requirement already satisfied: jsonpatch<2.0,>=1.33 in /usr/local/lib/python3.10/dist-packages (from langchain-core<0.3,>=0.1.45->langchain-groq) (1.33)\n",
            "Requirement already satisfied: orjson<4.0.0,>=3.9.14 in /usr/local/lib/python3.10/dist-packages (from langsmith<0.2.0,>=0.1.17->langchain) (3.10.4)\n",
            "Requirement already satisfied: coloredlogs in /usr/local/lib/python3.10/dist-packages (from onnxruntime>=1.17.0->unstructured-inference==0.7.33->unstructured[all-docs]) (15.0.1)\n",
            "Requirement already satisfied: flatbuffers in /usr/local/lib/python3.10/dist-packages (from onnxruntime>=1.17.0->unstructured-inference==0.7.33->unstructured[all-docs]) (24.3.25)\n",
            "Requirement already satisfied: sympy in /usr/local/lib/python3.10/dist-packages (from onnxruntime>=1.17.0->unstructured-inference==0.7.33->unstructured[all-docs]) (1.12.1)\n",
            "Requirement already satisfied: annotated-types>=0.4.0 in /usr/local/lib/python3.10/dist-packages (from pydantic<3,>=1->langchain) (0.7.0)\n",
            "Requirement already satisfied: pydantic-core==2.18.4 in /usr/local/lib/python3.10/dist-packages (from pydantic<3,>=1->langchain) (2.18.4)\n",
            "Requirement already satisfied: XlsxWriter>=0.5.7 in /usr/local/lib/python3.10/dist-packages (from python-pptx<=0.6.23->unstructured[all-docs]) (3.2.0)\n",
            "Requirement already satisfied: greenlet!=0.4.17 in /usr/local/lib/python3.10/dist-packages (from SQLAlchemy<3,>=1.4->langchain) (3.0.3)\n",
            "Requirement already satisfied: soupsieve>1.2 in /usr/local/lib/python3.10/dist-packages (from beautifulsoup4->unstructured[all-docs]) (2.5)\n",
            "Requirement already satisfied: torchvision in /usr/local/lib/python3.10/dist-packages (from effdet->unstructured[all-docs]) (0.18.0+cu121)\n",
            "Requirement already satisfied: pycocotools>=2.0.2 in /usr/local/lib/python3.10/dist-packages (from effdet->unstructured[all-docs]) (2.0.7)\n",
            "Requirement already satisfied: omegaconf>=2.0 in /usr/local/lib/python3.10/dist-packages (from effdet->unstructured[all-docs]) (2.3.0)\n",
            "Requirement already satisfied: google-api-core[grpc]!=2.0.*,!=2.1.*,!=2.2.*,!=2.3.0,<3.0.0dev,>=1.31.5 in /usr/local/lib/python3.10/dist-packages (from google-cloud-vision->unstructured[all-docs]) (2.8.0)\n",
            "Requirement already satisfied: proto-plus>=1.15.0 in /usr/local/lib/python3.10/dist-packages (from google-cloud-vision->unstructured[all-docs]) (1.20.4)\n",
            "Requirement already satisfied: click in /usr/local/lib/python3.10/dist-packages (from nltk->unstructured[all-docs]) (8.1.7)\n",
            "Requirement already satisfied: joblib in /usr/local/lib/python3.10/dist-packages (from nltk->unstructured[all-docs]) (1.4.2)\n",
            "Requirement already satisfied: regex>=2021.8.3 in /usr/local/lib/python3.10/dist-packages (from nltk->unstructured[all-docs]) (2024.5.15)\n",
            "Requirement already satisfied: et-xmlfile in /usr/local/lib/python3.10/dist-packages (from openpyxl->unstructured[all-docs]) (1.1.0)\n",
            "Requirement already satisfied: pytz>=2020.1 in /usr/local/lib/python3.10/dist-packages (from pandas->unstructured[all-docs]) (2023.4)\n",
            "Requirement already satisfied: tzdata>=2022.1 in /usr/local/lib/python3.10/dist-packages (from pandas->unstructured[all-docs]) (2024.1)\n",
            "Requirement already satisfied: cryptography>=36.0.0 in /usr/local/lib/python3.10/dist-packages (from pdfminer.six->unstructured[all-docs]) (42.0.7)\n",
            "Requirement already satisfied: Deprecated in /usr/local/lib/python3.10/dist-packages (from pikepdf->unstructured[all-docs]) (1.2.14)\n",
            "Requirement already satisfied: olefile in /usr/local/lib/python3.10/dist-packages (from python-oxmsg->unstructured[all-docs]) (0.47)\n",
            "Requirement already satisfied: exceptiongroup in /usr/local/lib/python3.10/dist-packages (from anyio<5,>=3.5.0->groq<1,>=0.4.1->langchain-groq) (1.2.1)\n",
            "Requirement already satisfied: cffi>=1.12 in /usr/local/lib/python3.10/dist-packages (from cryptography>=36.0.0->pdfminer.six->unstructured[all-docs]) (1.16.0)\n",
            "Requirement already satisfied: googleapis-common-protos<2.0dev,>=1.52.0 in /usr/local/lib/python3.10/dist-packages (from google-api-core[grpc]!=2.0.*,!=2.1.*,!=2.2.*,!=2.3.0,<3.0.0dev,>=1.31.5->google-cloud-vision->unstructured[all-docs]) (1.63.1)\n",
            "Requirement already satisfied: google-auth<3.0dev,>=1.25.0 in /usr/local/lib/python3.10/dist-packages (from google-api-core[grpc]!=2.0.*,!=2.1.*,!=2.2.*,!=2.3.0,<3.0.0dev,>=1.31.5->google-cloud-vision->unstructured[all-docs]) (2.27.0)\n",
            "Requirement already satisfied: grpcio-status<2.0dev,>=1.33.2 in /usr/local/lib/python3.10/dist-packages (from google-api-core[grpc]!=2.0.*,!=2.1.*,!=2.2.*,!=2.3.0,<3.0.0dev,>=1.31.5->google-cloud-vision->unstructured[all-docs]) (1.48.2)\n",
            "Requirement already satisfied: hyperframe<7,>=6.0 in /usr/local/lib/python3.10/dist-packages (from h2<5,>=3->httpx>=0.27.0->unstructured-client) (6.0.1)\n",
            "Requirement already satisfied: hpack<5,>=4.0 in /usr/local/lib/python3.10/dist-packages (from h2<5,>=3->httpx>=0.27.0->unstructured-client) (4.0.0)\n",
            "Requirement already satisfied: parso<0.9.0,>=0.8.3 in /usr/local/lib/python3.10/dist-packages (from jedi>=0.16->ipython>=6.0->watermark) (0.8.4)\n",
            "Requirement already satisfied: jsonpointer>=1.9 in /usr/local/lib/python3.10/dist-packages (from jsonpatch<2.0,>=1.33->langchain-core<0.3,>=0.1.45->langchain-groq) (3.0.0)\n",
            "Requirement already satisfied: antlr4-python3-runtime==4.9.* in /usr/local/lib/python3.10/dist-packages (from omegaconf>=2.0->effdet->unstructured[all-docs]) (4.9.3)\n",
            "Requirement already satisfied: ptyprocess>=0.5 in /usr/local/lib/python3.10/dist-packages (from pexpect>4.3->ipython>=6.0->watermark) (0.7.0)\n",
            "Requirement already satisfied: wcwidth in /usr/local/lib/python3.10/dist-packages (from prompt-toolkit!=3.0.0,!=3.0.1,<3.1.0,>=2.0.0->ipython>=6.0->watermark) (0.2.13)\n",
            "Requirement already satisfied: contourpy>=1.0.1 in /usr/local/lib/python3.10/dist-packages (from matplotlib->unstructured-inference==0.7.33->unstructured[all-docs]) (1.2.1)\n",
            "Requirement already satisfied: cycler>=0.10 in /usr/local/lib/python3.10/dist-packages (from matplotlib->unstructured-inference==0.7.33->unstructured[all-docs]) (0.12.1)\n",
            "Requirement already satisfied: fonttools>=4.22.0 in /usr/local/lib/python3.10/dist-packages (from matplotlib->unstructured-inference==0.7.33->unstructured[all-docs]) (4.53.0)\n",
            "Requirement already satisfied: kiwisolver>=1.0.1 in /usr/local/lib/python3.10/dist-packages (from matplotlib->unstructured-inference==0.7.33->unstructured[all-docs]) (1.4.5)\n",
            "Requirement already satisfied: pyparsing>=2.3.1 in /usr/local/lib/python3.10/dist-packages (from matplotlib->unstructured-inference==0.7.33->unstructured[all-docs]) (3.1.2)\n",
            "Requirement already satisfied: safetensors in /usr/local/lib/python3.10/dist-packages (from timm->unstructured-inference==0.7.33->unstructured[all-docs]) (0.4.3)\n",
            "Requirement already satisfied: jinja2 in /usr/local/lib/python3.10/dist-packages (from torch->unstructured-inference==0.7.33->unstructured[all-docs]) (3.1.4)\n",
            "Requirement already satisfied: nvidia-cuda-nvrtc-cu12==12.1.105 in /usr/local/lib/python3.10/dist-packages (from torch->unstructured-inference==0.7.33->unstructured[all-docs]) (12.1.105)\n",
            "Requirement already satisfied: nvidia-cuda-runtime-cu12==12.1.105 in /usr/local/lib/python3.10/dist-packages (from torch->unstructured-inference==0.7.33->unstructured[all-docs]) (12.1.105)\n",
            "Requirement already satisfied: nvidia-cuda-cupti-cu12==12.1.105 in /usr/local/lib/python3.10/dist-packages (from torch->unstructured-inference==0.7.33->unstructured[all-docs]) (12.1.105)\n",
            "Requirement already satisfied: nvidia-cudnn-cu12==8.9.2.26 in /usr/local/lib/python3.10/dist-packages (from torch->unstructured-inference==0.7.33->unstructured[all-docs]) (8.9.2.26)\n",
            "Requirement already satisfied: nvidia-cublas-cu12==12.1.3.1 in /usr/local/lib/python3.10/dist-packages (from torch->unstructured-inference==0.7.33->unstructured[all-docs]) (12.1.3.1)\n",
            "Requirement already satisfied: nvidia-cufft-cu12==11.0.2.54 in /usr/local/lib/python3.10/dist-packages (from torch->unstructured-inference==0.7.33->unstructured[all-docs]) (11.0.2.54)\n",
            "Requirement already satisfied: nvidia-curand-cu12==10.3.2.106 in /usr/local/lib/python3.10/dist-packages (from torch->unstructured-inference==0.7.33->unstructured[all-docs]) (10.3.2.106)\n",
            "Requirement already satisfied: nvidia-cusolver-cu12==11.4.5.107 in /usr/local/lib/python3.10/dist-packages (from torch->unstructured-inference==0.7.33->unstructured[all-docs]) (11.4.5.107)\n",
            "Requirement already satisfied: nvidia-cusparse-cu12==12.1.0.106 in /usr/local/lib/python3.10/dist-packages (from torch->unstructured-inference==0.7.33->unstructured[all-docs]) (12.1.0.106)\n",
            "Requirement already satisfied: nvidia-nccl-cu12==2.20.5 in /usr/local/lib/python3.10/dist-packages (from torch->unstructured-inference==0.7.33->unstructured[all-docs]) (2.20.5)\n",
            "Requirement already satisfied: nvidia-nvtx-cu12==12.1.105 in /usr/local/lib/python3.10/dist-packages (from torch->unstructured-inference==0.7.33->unstructured[all-docs]) (12.1.105)\n",
            "Requirement already satisfied: triton==2.3.0 in /usr/local/lib/python3.10/dist-packages (from torch->unstructured-inference==0.7.33->unstructured[all-docs]) (2.3.0)\n",
            "Requirement already satisfied: nvidia-nvjitlink-cu12 in /usr/local/lib/python3.10/dist-packages (from nvidia-cusolver-cu12==11.4.5.107->torch->unstructured-inference==0.7.33->unstructured[all-docs]) (12.5.40)\n",
            "Requirement already satisfied: humanfriendly>=9.1 in /usr/local/lib/python3.10/dist-packages (from coloredlogs->onnxruntime>=1.17.0->unstructured-inference==0.7.33->unstructured[all-docs]) (10.0)\n",
            "Requirement already satisfied: scipy in /usr/local/lib/python3.10/dist-packages (from layoutparser->unstructured-inference==0.7.33->unstructured[all-docs]) (1.11.4)\n",
            "Requirement already satisfied: iopath in /usr/local/lib/python3.10/dist-packages (from layoutparser->unstructured-inference==0.7.33->unstructured[all-docs]) (0.1.10)\n",
            "Requirement already satisfied: pdfplumber in /usr/local/lib/python3.10/dist-packages (from layoutparser->unstructured-inference==0.7.33->unstructured[all-docs]) (0.11.0)\n",
            "Requirement already satisfied: mpmath<1.4.0,>=1.1.0 in /usr/local/lib/python3.10/dist-packages (from sympy->onnxruntime>=1.17.0->unstructured-inference==0.7.33->unstructured[all-docs]) (1.3.0)\n",
            "Requirement already satisfied: pycparser in /usr/local/lib/python3.10/dist-packages (from cffi>=1.12->cryptography>=36.0.0->pdfminer.six->unstructured[all-docs]) (2.22)\n",
            "Requirement already satisfied: cachetools<6.0,>=2.0.0 in /usr/local/lib/python3.10/dist-packages (from google-auth<3.0dev,>=1.25.0->google-api-core[grpc]!=2.0.*,!=2.1.*,!=2.2.*,!=2.3.0,<3.0.0dev,>=1.31.5->google-cloud-vision->unstructured[all-docs]) (5.3.3)\n",
            "Requirement already satisfied: pyasn1-modules>=0.2.1 in /usr/local/lib/python3.10/dist-packages (from google-auth<3.0dev,>=1.25.0->google-api-core[grpc]!=2.0.*,!=2.1.*,!=2.2.*,!=2.3.0,<3.0.0dev,>=1.31.5->google-cloud-vision->unstructured[all-docs]) (0.4.0)\n",
            "Requirement already satisfied: rsa<5,>=3.1.4 in /usr/local/lib/python3.10/dist-packages (from google-auth<3.0dev,>=1.25.0->google-api-core[grpc]!=2.0.*,!=2.1.*,!=2.2.*,!=2.3.0,<3.0.0dev,>=1.31.5->google-cloud-vision->unstructured[all-docs]) (4.9)\n",
            "Requirement already satisfied: MarkupSafe>=2.0 in /usr/local/lib/python3.10/dist-packages (from jinja2->torch->unstructured-inference==0.7.33->unstructured[all-docs]) (2.1.5)\n",
            "Requirement already satisfied: pypdfium2>=4.18.0 in /usr/local/lib/python3.10/dist-packages (from pdfplumber->layoutparser->unstructured-inference==0.7.33->unstructured[all-docs]) (4.30.0)\n",
            "Requirement already satisfied: pyasn1<0.7.0,>=0.4.6 in /usr/local/lib/python3.10/dist-packages (from pyasn1-modules>=0.2.1->google-auth<3.0dev,>=1.25.0->google-api-core[grpc]!=2.0.*,!=2.1.*,!=2.2.*,!=2.3.0,<3.0.0dev,>=1.31.5->google-cloud-vision->unstructured[all-docs]) (0.6.0)\n"
          ]
        }
      ],
      "source": [
        "#%%capture\n",
        "!pip install \"unstructured[all-docs]\" unstructured-client watermark langchain-groq langchain fastembed qdrant_client python-dotenv"
      ]
    },
    {
      "cell_type": "code",
      "source": [
        "# Install Requirements\n",
        "!apt-get -qq install poppler-utils tesseract-ocr\n",
        "# Upgrade Pillow to latest version\n",
        "%pip install -q --user --upgrade pillow"
      ],
      "metadata": {
        "colab": {
          "base_uri": "https://localhost:8080/"
        },
        "id": "rC9tdyjhtDHt",
        "outputId": "847f5341-44b4-4c01-fb42-21ead213a36b"
      },
      "id": "rC9tdyjhtDHt",
      "execution_count": 2,
      "outputs": [
        {
          "output_type": "stream",
          "name": "stdout",
          "text": [
            "Selecting previously unselected package poppler-utils.\n",
            "(Reading database ... 121913 files and directories currently installed.)\n",
            "Preparing to unpack .../poppler-utils_22.02.0-2ubuntu0.4_amd64.deb ...\n",
            "Unpacking poppler-utils (22.02.0-2ubuntu0.4) ...\n",
            "Selecting previously unselected package tesseract-ocr-eng.\n",
            "Preparing to unpack .../tesseract-ocr-eng_1%3a4.00~git30-7274cfa-1.1_all.deb ...\n",
            "Unpacking tesseract-ocr-eng (1:4.00~git30-7274cfa-1.1) ...\n",
            "Selecting previously unselected package tesseract-ocr-osd.\n",
            "Preparing to unpack .../tesseract-ocr-osd_1%3a4.00~git30-7274cfa-1.1_all.deb ...\n",
            "Unpacking tesseract-ocr-osd (1:4.00~git30-7274cfa-1.1) ...\n",
            "Selecting previously unselected package tesseract-ocr.\n",
            "Preparing to unpack .../tesseract-ocr_4.1.1-2.1build1_amd64.deb ...\n",
            "Unpacking tesseract-ocr (4.1.1-2.1build1) ...\n",
            "Setting up tesseract-ocr-eng (1:4.00~git30-7274cfa-1.1) ...\n",
            "Setting up tesseract-ocr-osd (1:4.00~git30-7274cfa-1.1) ...\n",
            "Setting up poppler-utils (22.02.0-2ubuntu0.4) ...\n",
            "Setting up tesseract-ocr (4.1.1-2.1build1) ...\n",
            "Processing triggers for man-db (2.10.2-1) ...\n"
          ]
        }
      ]
    },
    {
      "cell_type": "code",
      "execution_count": 3,
      "id": "44c93749",
      "metadata": {
        "id": "44c93749"
      },
      "outputs": [],
      "source": [
        "%load_ext watermark"
      ]
    },
    {
      "cell_type": "code",
      "source": [
        "%watermark"
      ],
      "metadata": {
        "colab": {
          "base_uri": "https://localhost:8080/"
        },
        "id": "UYEgJl5vFtVI",
        "outputId": "4f2630b6-4f84-4436-9e72-cf105c23d76a"
      },
      "id": "UYEgJl5vFtVI",
      "execution_count": 4,
      "outputs": [
        {
          "output_type": "stream",
          "name": "stdout",
          "text": [
            "Last updated: 2024-06-11T11:55:06.491555+00:00\n",
            "\n",
            "Python implementation: CPython\n",
            "Python version       : 3.10.12\n",
            "IPython version      : 7.34.0\n",
            "\n",
            "Compiler    : GCC 11.4.0\n",
            "OS          : Linux\n",
            "Release     : 6.1.85+\n",
            "Machine     : x86_64\n",
            "Processor   : x86_64\n",
            "CPU cores   : 2\n",
            "Architecture: 64bit\n",
            "\n"
          ]
        }
      ]
    },
    {
      "cell_type": "markdown",
      "source": [],
      "metadata": {
        "id": "83E-JkQXFs7x"
      },
      "id": "83E-JkQXFs7x"
    },
    {
      "cell_type": "code",
      "execution_count": 5,
      "id": "30697566-ee92-47f1-a8eb-c17848e9a03b",
      "metadata": {
        "id": "30697566-ee92-47f1-a8eb-c17848e9a03b"
      },
      "outputs": [],
      "source": [
        "# Warning control\n",
        "import warnings\n",
        "warnings.filterwarnings('ignore')\n"
      ]
    },
    {
      "cell_type": "code",
      "execution_count": 6,
      "id": "916a2cac-7bc8-4cd8-ae26-3d1076e8384b",
      "metadata": {
        "id": "916a2cac-7bc8-4cd8-ae26-3d1076e8384b"
      },
      "outputs": [],
      "source": [
        "from unstructured.chunking.title import chunk_by_title\n",
        "from unstructured.partition.md import partition_md\n",
        "from unstructured.partition.pdf import partition_pdf\n",
        "from unstructured.staging.base import dict_to_elements"
      ]
    },
    {
      "cell_type": "code",
      "execution_count": 7,
      "id": "edc87392",
      "metadata": {
        "id": "edc87392"
      },
      "outputs": [],
      "source": [
        "#import langchain, groq, fastembed, qdrant_client, unstructured"
      ]
    },
    {
      "cell_type": "code",
      "execution_count": 8,
      "id": "2a74718c",
      "metadata": {
        "colab": {
          "base_uri": "https://localhost:8080/"
        },
        "id": "2a74718c",
        "outputId": "b250171f-5674-428e-bca5-a0effdd3dc40"
      },
      "outputs": [
        {
          "output_type": "stream",
          "name": "stdout",
          "text": [
            "\n"
          ]
        }
      ],
      "source": [
        "%watermark --iversions"
      ]
    },
    {
      "cell_type": "code",
      "execution_count": 10,
      "id": "6588244d",
      "metadata": {
        "colab": {
          "base_uri": "https://localhost:8080/"
        },
        "id": "6588244d",
        "outputId": "e907c64c-76cb-4c1f-edef-62cd35a55dba"
      },
      "outputs": [
        {
          "output_type": "stream",
          "name": "stdout",
          "text": [
            "Help on package unstructured.partition in unstructured:\n",
            "\n",
            "NAME\n",
            "    unstructured.partition\n",
            "\n",
            "PACKAGE CONTENTS\n",
            "    api\n",
            "    auto\n",
            "    common\n",
            "    csv\n",
            "    doc\n",
            "    docx\n",
            "    email\n",
            "    epub\n",
            "    html\n",
            "    image\n",
            "    json\n",
            "    lang\n",
            "    md\n",
            "    model_init\n",
            "    msg\n",
            "    odt\n",
            "    org\n",
            "    pdf\n",
            "    pdf_image (package)\n",
            "    ppt\n",
            "    pptx\n",
            "    rst\n",
            "    rtf\n",
            "    strategies\n",
            "    text\n",
            "    text_type\n",
            "    tsv\n",
            "    utils (package)\n",
            "    xlsx\n",
            "    xml\n",
            "\n",
            "FILE\n",
            "    /usr/local/lib/python3.10/dist-packages/unstructured/partition/__init__.py\n",
            "\n",
            "\n"
          ]
        }
      ],
      "source": [
        "import unstructured.partition\n",
        "\n",
        "help(unstructured.partition)"
      ]
    },
    {
      "cell_type": "markdown",
      "id": "76132dfe-7360-4147-a5b1-0e571917e08b",
      "metadata": {
        "id": "76132dfe-7360-4147-a5b1-0e571917e08b"
      },
      "source": [
        "## Preprocess the PDF"
      ]
    },
    {
      "cell_type": "code",
      "execution_count": 11,
      "id": "7be519e2",
      "metadata": {
        "id": "7be519e2"
      },
      "outputs": [],
      "source": [
        "partition_pdf??"
      ]
    },
    {
      "cell_type": "code",
      "source": [
        "import os.path\n",
        "from google.colab import files\n",
        "# Specify the path to your file\n",
        "filename = \"/content/data/The_Alchemist.pdf\"\n",
        "\n",
        "\n",
        "\n",
        "\n",
        "# Check if the file exists\n",
        "if os.path.exists(filename):\n",
        "    print(\"The file exists.\")\n",
        "else:\n",
        "    print(\"The file does not exist.\")"
      ],
      "metadata": {
        "colab": {
          "base_uri": "https://localhost:8080/"
        },
        "id": "BLb613-nj2_e",
        "outputId": "355eb58b-04db-4ea6-fc0f-1c4f8de61635"
      },
      "id": "BLb613-nj2_e",
      "execution_count": 12,
      "outputs": [
        {
          "output_type": "stream",
          "name": "stdout",
          "text": [
            "The file does not exist.\n"
          ]
        }
      ]
    },
    {
      "cell_type": "code",
      "source": [
        "!pip install poppler-utils\n"
      ],
      "metadata": {
        "colab": {
          "base_uri": "https://localhost:8080/"
        },
        "id": "NPNqGjE3mMe9",
        "outputId": "e8c1d47b-cb02-4d53-fcef-9f92d9547def"
      },
      "id": "NPNqGjE3mMe9",
      "execution_count": 13,
      "outputs": [
        {
          "output_type": "stream",
          "name": "stdout",
          "text": [
            "Collecting poppler-utils\n",
            "  Downloading poppler_utils-0.1.0-py3-none-any.whl (9.2 kB)\n",
            "Requirement already satisfied: Click>=7.0 in /usr/local/lib/python3.10/dist-packages (from poppler-utils) (8.1.7)\n",
            "Installing collected packages: poppler-utils\n",
            "Successfully installed poppler-utils-0.1.0\n"
          ]
        }
      ]
    },
    {
      "cell_type": "code",
      "execution_count": 18,
      "id": "9b75d977-7d80-427d-9b24-4fcf1384fc7f",
      "metadata": {
        "colab": {
          "base_uri": "https://localhost:8080/",
          "height": 185,
          "referenced_widgets": [
            "900f19e4b0024a319457ccabb0f62f3e",
            "604eb40195204f9797fc66fe8521d07f",
            "4ba04793daf54c5f8a17ce429b38aad7",
            "5d52b442eb4b4788b8b40f1b174a0763",
            "9bdaaa696a0744b8ba10b85a9be7095c",
            "37b7544e18fc4f2b95ea1d3f9ea20d60",
            "cda695e51f8d497c80bcdefdb26f24af",
            "d6e9d15a1c9d46fb8f48329d1bb58484",
            "da14044efe244080a43598f7ca126701",
            "aeed719d36494970a8d4328424ddab1f",
            "1380dc9702d649c482ad25df63fc9a0d",
            "8d50263de5494625a79e11663f01a2d8",
            "500ae660bcae4b26a9ed0c46fd742b0a",
            "f705a157570e4fc9aa8e1f1ee0c6fd37",
            "e91d36ed9aa1427299bef1556ec03eac",
            "ba0a505757cd405ca4f66df5ece64a08",
            "3b77206e8e94454094799113f6fcc6b5",
            "f16199433eea42c6abb2688244230a2d",
            "3a3473ef25e34f71a6058014d8e077f9",
            "77c03223e4af4580833c1e0b8761d6c5",
            "b62373d0817148ce8677634483825a60",
            "8cd3bdb19cbd487facd9170bad42988c",
            "166909c19f524184a538be9935694c4d",
            "7b3e2008041c43e0b8ac5f1d9d160ba5",
            "87221c2e2ec44dccb917b5269cd2cb1b",
            "bf416d3e073b46f0a006c280bb549e17",
            "30ba6a89b64f4b18873cff50c098b75c",
            "9cf80c1eb31c4875b3f93615ea97d102",
            "ad84924f31734c69994e465339f7ace8",
            "1684de657eab4df8bffd9ab1c6a3d18c",
            "12cec1197ff44de2a5b925fbfacb9657",
            "5967634764ea47848cbd726963ced236",
            "44ca1c6c9f594eaeb8b3e49f4562e64e"
          ]
        },
        "id": "9b75d977-7d80-427d-9b24-4fcf1384fc7f",
        "outputId": "baf9f1c7-9208-46ea-d5a8-3cf500f8697a"
      },
      "outputs": [
        {
          "output_type": "display_data",
          "data": {
            "text/plain": [
              "config.json:   0%|          | 0.00/1.47k [00:00<?, ?B/s]"
            ],
            "application/vnd.jupyter.widget-view+json": {
              "version_major": 2,
              "version_minor": 0,
              "model_id": "900f19e4b0024a319457ccabb0f62f3e"
            }
          },
          "metadata": {}
        },
        {
          "output_type": "display_data",
          "data": {
            "text/plain": [
              "model.safetensors:   0%|          | 0.00/115M [00:00<?, ?B/s]"
            ],
            "application/vnd.jupyter.widget-view+json": {
              "version_major": 2,
              "version_minor": 0,
              "model_id": "8d50263de5494625a79e11663f01a2d8"
            }
          },
          "metadata": {}
        },
        {
          "output_type": "display_data",
          "data": {
            "text/plain": [
              "model.safetensors:   0%|          | 0.00/46.8M [00:00<?, ?B/s]"
            ],
            "application/vnd.jupyter.widget-view+json": {
              "version_major": 2,
              "version_minor": 0,
              "model_id": "166909c19f524184a538be9935694c4d"
            }
          },
          "metadata": {}
        },
        {
          "output_type": "stream",
          "name": "stderr",
          "text": [
            "Some weights of the model checkpoint at microsoft/table-transformer-structure-recognition were not used when initializing TableTransformerForObjectDetection: ['model.backbone.conv_encoder.model.layer2.0.downsample.1.num_batches_tracked', 'model.backbone.conv_encoder.model.layer3.0.downsample.1.num_batches_tracked', 'model.backbone.conv_encoder.model.layer4.0.downsample.1.num_batches_tracked']\n",
            "- This IS expected if you are initializing TableTransformerForObjectDetection from the checkpoint of a model trained on another task or with another architecture (e.g. initializing a BertForSequenceClassification model from a BertForPreTraining model).\n",
            "- This IS NOT expected if you are initializing TableTransformerForObjectDetection from the checkpoint of a model that you expect to be exactly identical (initializing a BertForSequenceClassification model from a BertForSequenceClassification model).\n"
          ]
        }
      ],
      "source": [
        "from unstructured.partition.pdf import partition_pdf\n",
        "\n",
        "# Specify the path to your PDF file\n",
        "filename = \"/content/data/The_Alchemist.pdf\"\n",
        "\n",
        "#path = \"images\"\n",
        "\n",
        "# Extract images, tables, and chunk text\n",
        "pdf_elements = partition_pdf(\n",
        "    filename=filename,\n",
        "\n",
        "    strategy = \"hi_res\",\n",
        "    # hi_res_model_name=\"yolox\",\n",
        "\n",
        "    infer_table_structure=True,\n",
        "    chunking_strategy=\"by_title\",\n",
        "    multipage_sections = True,\n",
        "    # max_characters=3000,\n",
        "    new_after_n_chars=3000,\n",
        "    # combine_text_under_n_chars=100,\n",
        "    #extract_image_block_output_dir=path,\n",
        ")"
      ]
    },
    {
      "cell_type": "code",
      "source": [
        "# Function to convert metadata to a serializable format\n",
        "def convert_metadata(metadata):\n",
        "    if isinstance(metadata, dict):\n",
        "        return {k: convert_metadata(v) for k, v in metadata.items()}\n",
        "    elif isinstance(metadata, list):\n",
        "        return [convert_metadata(v) for v in metadata]\n",
        "    elif isinstance(metadata, (str, int, float, bool, type(None))):\n",
        "        return metadata\n",
        "    else:\n",
        "        return str(metadata)  # Convert any other types to string"
      ],
      "metadata": {
        "id": "O9oe_FzrgRhA"
      },
      "id": "O9oe_FzrgRhA",
      "execution_count": 57,
      "outputs": []
    },
    {
      "cell_type": "code",
      "source": [
        "copy_of_pdf_elements  = pdf_elements.copy()"
      ],
      "metadata": {
        "id": "WVELCeA3g0mM"
      },
      "id": "WVELCeA3g0mM",
      "execution_count": 59,
      "outputs": []
    },
    {
      "cell_type": "code",
      "source": [
        "import json\n",
        "\n",
        "elements_dicts = []\n",
        "for el in copy_of_pdf_elements:\n",
        "    elements_dicts.append({\n",
        "        'category': el.category,\n",
        "        'text': el.text,\n",
        "        'metadata': convert_metadata(el.metadata),  # Convert metadata\n",
        "    })\n",
        "\n",
        "# Define the output JSON file path\n",
        "output_filename = \"pdf_elements.json\"\n",
        "\n",
        "# Save the elements to a JSON file\n",
        "with open(output_filename, 'w', encoding='utf-8') as json_file:\n",
        "    json.dump(elements_dicts, json_file, ensure_ascii=False, indent=4)\n",
        "\n",
        "print(f\"PDF elements have been saved to {output_filename}\")"
      ],
      "metadata": {
        "colab": {
          "base_uri": "https://localhost:8080/"
        },
        "id": "VOkP-gg5fnei",
        "outputId": "4c3aa8b3-5954-4fc8-ed6c-49f3d5364394"
      },
      "id": "VOkP-gg5fnei",
      "execution_count": 60,
      "outputs": [
        {
          "output_type": "stream",
          "name": "stdout",
          "text": [
            "PDF elements have been saved to pdf_elements.json\n"
          ]
        }
      ]
    },
    {
      "cell_type": "code",
      "execution_count": 19,
      "id": "2b035bac",
      "metadata": {
        "id": "2b035bac",
        "outputId": "056552a1-78be-4da9-fe81-be14b7e899cc",
        "colab": {
          "base_uri": "https://localhost:8080/"
        }
      },
      "outputs": [
        {
          "output_type": "execute_result",
          "data": {
            "text/plain": [
              "{\"<class 'unstructured.documents.elements.CompositeElement'>\": 611}"
            ]
          },
          "metadata": {},
          "execution_count": 19
        }
      ],
      "source": [
        "# Create a dictionary to store counts of each type\n",
        "category_counts = {}\n",
        "\n",
        "for element in pdf_elements:\n",
        "    category = str(type(element))\n",
        "    if category in category_counts:\n",
        "        category_counts[category] += 1\n",
        "    else:\n",
        "        category_counts[category] = 1\n",
        "\n",
        "# Unique_categories will have unique elements\n",
        "unique_categories = set(category_counts.keys())\n",
        "category_counts"
      ]
    },
    {
      "cell_type": "code",
      "execution_count": 20,
      "id": "e196d030",
      "metadata": {
        "id": "e196d030",
        "outputId": "04e721a0-0d26-4e85-82e6-ecb70a34ba0e",
        "colab": {
          "base_uri": "https://localhost:8080/"
        }
      },
      "outputs": [
        {
          "output_type": "stream",
          "name": "stdout",
          "text": [
            "{'CompositeElement'}\n"
          ]
        }
      ],
      "source": [
        "element_dict = [el.to_dict() for el in pdf_elements]\n",
        "\n",
        "unique_types = set()\n",
        "\n",
        "for item in element_dict:\n",
        "    unique_types.add(item['type'])\n",
        "\n",
        "print(unique_types)"
      ]
    },
    {
      "cell_type": "code",
      "execution_count": null,
      "id": "0cda6772",
      "metadata": {
        "id": "0cda6772"
      },
      "outputs": [],
      "source": [
        "# Extract images, tables, and chunk text\n",
        "pdf_elements = partition_pdf(\n",
        "    filename=filename,\n",
        "    extract_images_in_pdf=False,\n",
        "    strategy = \"hi_res\",\n",
        "    hi_res_model_name=\"yolox\",\n",
        "    infer_table_structure=True,\n",
        "    #chunking_strategy=\"by_title\",\n",
        "    max_characters=3000,\n",
        "    #new_after_n_chars=3800,\n",
        "    combine_text_under_n_chars=200,\n",
        "    #extract_image_block_output_dir=path,\n",
        ")\n",
        "\n",
        "for element in pdf_elements:\n",
        "    category = str(type(element))\n",
        "    if category in category_counts:\n",
        "        category_counts[category] += 1\n",
        "    else:\n",
        "        category_counts[category] = 1\n",
        "\n",
        "# Unique_categories will have unique elements\n",
        "unique_categories = set(category_counts.keys())\n",
        "print(category_counts)\n",
        "\n",
        "element_dict = [el.to_dict() for el in pdf_elements]\n",
        "\n",
        "unique_types = set()\n",
        "\n",
        "for item in element_dict:\n",
        "    unique_types.add(item['type'])\n",
        "\n",
        "print(unique_types)"
      ]
    },
    {
      "cell_type": "code",
      "execution_count": 40,
      "id": "8ed8e92e-5d85-4d9e-9867-6ed8a190b9d5",
      "metadata": {
        "id": "8ed8e92e-5d85-4d9e-9867-6ed8a190b9d5",
        "outputId": "84ff884e-947f-4add-fef5-f296c0b9277f",
        "colab": {
          "base_uri": "https://localhost:8080/"
        }
      },
      "outputs": [
        {
          "output_type": "execute_result",
          "data": {
            "text/plain": [
              "{'type': 'CompositeElement',\n",
              " 'element_id': '85dc15464cf08778aa81b1199ac7121e',\n",
              " 'text': 'ALCHEMIST\\n\\nArse\\n\\nPAULO COFLIO,\\n\\nTHE ALCHEMIST\\n\\nPAULO COELHO\\n\\nTRANSLATED BY ALAN R. CLARKE\\n\\nContents\\n\\nINTRODUCTION\\n\\nI remember receiving a letter from the American publisher Harper Collins…\\n\\nPROLOGUE\\n\\nThe alchemist picked up a book that someone\\n\\nin the…\\n\\nONE\\n\\nThe boy’s name was Santiago. Dusk was falling as the…\\n\\nTWO\\n\\nThe boy had been working for the crystal merchant for…\\n\\nEPILOGUE',\n",
              " 'metadata': {'filetype': 'application/pdf',\n",
              "  'languages': ['eng'],\n",
              "  'last_modified': '2024-06-11T11:55:23',\n",
              "  'page_number': 1,\n",
              "  'orig_elements': 'eJzNWO9P40YQ/VesfGat3dnf941ytKByBEFOVUVPaHe9BovEjhJzd+jU/72ztiNxR9qSSE77hTDPHtme5zfzxrffJnEeF7Fu76pi8i6b0EhlSRWQUhhFhAqWGKoYMSIYQ5kKqmCTo2yyiK0rXOsw59skNM2qqGrXxnUXz91z89TePcTq/qFFBDi3mDPAX6qifUCUKSkQXTZV3aa821tDc3qUCY0/n46yIVQwhKw7sAXoExCZrJ/XbVyk57iqvsb5zdKFOPkTD5TVPLbPy9gduvow6e6mvn9y990t305ifT/51KHr9m7RFFVZxa4gQEEQqghjM8beSfkOeMpeYuZd/bTwcZUeJV2jjV/Tw06OL07OTj+c38zSeZuLzqp23t3KjwUHrkvjfEnKUmPB8YaJF+BIiOBBGsYc0NEKDl39DB0K2oeMik2B1d8hfcr/p+SrdXxTtRn1VrNCkSi0w2obQ1zBIykAWCiEh9KO93pzynKEmDWQ81TNAQBAgHXl5VTmehsyJP1jxYvYxtBWTX0XsKbru+Wq8XgazUEJYAem5Or448U0O5n+fHE+PXoTN0oabyEYEoQAIqBgxKIGCLXeG2019b4YjRslZI4ngrC5TnUfYsHY8OJTwPpvAfqM/XgRXFg+Pi/8JS+zs9Nstw7lXaTcgiageSCCK088D/gnOtBKBM+jG48XznJ8dUFBbjte+pgzu6GBi6ShV0CfsR8v3Eptx+dFbNPL6cXZ9E20BFuWRutApAoF0mIiDmkmiGTSaAUxAJTj0cJoV3Wtc9XR0sdJHaZnwcrcbAH6jP1oUYoxeWBaZtfHlzcXx7PT99lPv6Nwji+z6zw7uTi+/vX0JU2XbrVybfU5zlLiFrq0AePAeMJKjpPHC0GMcyXRjCljgblSqtHo0kykqc3B5jKxsYkN77udxSa2Le7O31ND0ooDzBz5kqyTpm5jeuY3tTUerHcFThqK0hHMBWLSzPFaUhpKpZXk4xkv9LZ4ouI8F53zGmIzdDFNedLTq7g7f9+mpoQ5MCHnl7Pr6fuPJ7Pz6eVOasEtBFQJJfFJKCJoT5yyhlDGoBAUtFN6RFfceVy0HL0HG2KLlgC6XgZGbwX6jD29gJRSHZqebIVFT0fwnxCrz1V9n7kMb6BFqFw1i6x9iNnxIq6q4Ops+eTn1foBj5251RJ/Tpr5vKrXfzzhtdWbVCekM7KUydpxitJTnBhusA2WnBouCxTeeG0QDOu8NFOsJ24DAFN948O5n6bUa6BP2V95cGBqr66nF9NfPu42o2jENR9sug7gLhoiRZMnFK6mUICjDo1eGI8crDSaYcZBDT1xAxi52felydV2pEvaU3nUyAO4ve/omaGs3Dw8xEW1brNlFR5jkT0tUXy+aR5Rda7N1s0iNvXb9lopRUTS0KMrnfpl1MhcoKSMzjrKCl3AeLvT0B9ZMnv8RcNkQqne/QlcdPlWoEv5L78jfEdLVaeGt0M7K7UTnsaS8BjR1fECJ5ZlWHfFwQUZPIM4YjuDrnspY/rlaANoIXoJca3StvQa6FP204tkAPrAxEwvd3Tb1mjgmmHrKnDMOGlwZ5Wa0IL5Mkp0EGq85Wjz+hsp++1oA1g70MA46z4ebEH6pD0HDeX00J47dTLfPCfNMLvOareI2Re3zm5c3Vbuvsmz90/rxw4qXXIL6DDWO6rMy9IXBbpBYBK7m3KGOKEKEqQ13DtvfRjvCwTgUoTTGywfPpL2MRem36W4UYm4H+P+/D0nkpLyAFZdfcfjb9OdFGYjZzqiOZeQdihgaOQUKgwdBKMlo4VXI65PvaCEVH3Nhxhfhz5mXHT71Cugz9hTXYoewMWpLeLKHlyR+Rjr7EuzekwSKptVZ83DCh/DzTN06OEBFZcO7CAs6jVPdBHOsEMKKx2xRaFxkJUmamdLruSoblylLcpuplcXM0pl3xNxI0qcvQL6jD1J5LhTH5jF06vzf/Pin/4CTQbxTg==',\n",
              "  'file_directory': '/content/data',\n",
              "  'filename': 'The_Alchemist.pdf'}}"
            ]
          },
          "metadata": {},
          "execution_count": 40
        }
      ],
      "source": [
        "pdf_elements[0].to_dict()"
      ]
    },
    {
      "cell_type": "code",
      "source": [
        "pdf_elements[5].text"
      ],
      "metadata": {
        "colab": {
          "base_uri": "https://localhost:8080/",
          "height": 105
        },
        "id": "gmSeR7aMYS1c",
        "outputId": "5ef8530d-bdc5-4dc6-ab8e-2d76b796f87b"
      },
      "id": "gmSeR7aMYS1c",
      "execution_count": 41,
      "outputs": [
        {
          "output_type": "execute_result",
          "data": {
            "text/plain": [
              "'The only honest response is: I don’t know. All I know is that, like Santiago the shepherd boy, we all need to be aware of our personal calling. What is a personal calling? It is God’s blessing, it is the path that God chose for you here on Earth. Whenever we do something that fills us with enthusiasm, we are following our legend. However, we don’t all have the courage to confront our own dream.\\n\\nWhy?'"
            ],
            "application/vnd.google.colaboratory.intrinsic+json": {
              "type": "string"
            }
          },
          "metadata": {},
          "execution_count": 41
        }
      ]
    },
    {
      "cell_type": "code",
      "execution_count": 23,
      "id": "f50942e5-33e4-43d9-ad89-a3840a944ed8",
      "metadata": {
        "id": "f50942e5-33e4-43d9-ad89-a3840a944ed8",
        "colab": {
          "base_uri": "https://localhost:8080/"
        },
        "outputId": "44cf3953-cdb7-461d-aded-1493fb8ed3de"
      },
      "outputs": [
        {
          "output_type": "execute_result",
          "data": {
            "text/plain": [
              "[]"
            ]
          },
          "metadata": {},
          "execution_count": 23
        }
      ],
      "source": [
        "tables = [el for el in pdf_elements if el.category == \"Table\"]\n",
        "tables"
      ]
    },
    {
      "cell_type": "code",
      "execution_count": null,
      "id": "a733c9d8-d6a5-4bad-8ba0-b1393165b6e7",
      "metadata": {
        "id": "a733c9d8-d6a5-4bad-8ba0-b1393165b6e7"
      },
      "outputs": [],
      "source": [
        "table_html = tables[0].metadata.text_as_html"
      ]
    },
    {
      "cell_type": "code",
      "execution_count": null,
      "id": "27481fdb-e8d1-430d-8919-46205765c044",
      "metadata": {
        "id": "27481fdb-e8d1-430d-8919-46205765c044"
      },
      "outputs": [],
      "source": [
        "from io import StringIO\n",
        "from lxml import etree\n",
        "\n",
        "parser = etree.XMLParser(remove_blank_text=True)\n",
        "file_obj = StringIO(table_html)\n",
        "tree = etree.parse(file_obj, parser)\n",
        "print(etree.tostring(tree, pretty_print=True).decode())"
      ]
    },
    {
      "cell_type": "code",
      "source": [
        "categoriees = [el.category for el in pdf_elements]"
      ],
      "metadata": {
        "id": "FO19qTH8ZF3S"
      },
      "id": "FO19qTH8ZF3S",
      "execution_count": 34,
      "outputs": []
    },
    {
      "cell_type": "code",
      "source": [
        "set(categoriees)"
      ],
      "metadata": {
        "colab": {
          "base_uri": "https://localhost:8080/"
        },
        "id": "5gX3_O2bZgBz",
        "outputId": "b9123db0-4a07-4495-cc92-d720b0871b4f"
      },
      "id": "5gX3_O2bZgBz",
      "execution_count": 36,
      "outputs": [
        {
          "output_type": "execute_result",
          "data": {
            "text/plain": [
              "{'CompositeElement'}"
            ]
          },
          "metadata": {},
          "execution_count": 36
        }
      ]
    },
    {
      "cell_type": "code",
      "execution_count": 38,
      "id": "ffd80c89-5c09-4b89-b36b-9017d334499a",
      "metadata": {
        "id": "ffd80c89-5c09-4b89-b36b-9017d334499a"
      },
      "outputs": [],
      "source": [
        "# Find the element with text \"References\" and category \"Title\"\n",
        "reference_title = [\n",
        "    el for el in pdf_elements\n",
        "    if el.text == \"References\"\n",
        "    and el.category == \"CompositeElements\"\n",
        "][0]"
      ]
    },
    {
      "cell_type": "code",
      "source": [
        "# searching for part two in every chunk\n",
        "search_text = \"part two\"\n",
        "\n",
        "def finding_text_in_chunks(search_text):\n",
        "  # Iterate through the elements and search for the text\n",
        "  found_elements = []\n",
        "  for el in pdf_elements:\n",
        "      if search_text.lower() in el.text.lower():\n",
        "          found_elements.append(el)\n",
        "\n",
        "  # Print out the elements that contain the search text\n",
        "  if found_elements:\n",
        "      print(f'Found \"{search_text}\" in the following elements:')\n",
        "      for el in found_elements:\n",
        "          print(f'Category: {el.category}, Text: {el.text[:200]}')\n",
        "  else:\n",
        "      print(f'\"{search_text}\" not found in any elements.')\n",
        "\n",
        "  return found_elements"
      ],
      "metadata": {
        "id": "wchZThwNdYmO"
      },
      "id": "wchZThwNdYmO",
      "execution_count": 53,
      "outputs": []
    },
    {
      "cell_type": "code",
      "source": [
        "found_elements_for_about_publishers = finding_text_in_chunks(\"about the publisher\")"
      ],
      "metadata": {
        "colab": {
          "base_uri": "https://localhost:8080/"
        },
        "id": "Yn9EDxWkeaMS",
        "outputId": "40134ffc-9889-4f0d-b9c8-625ba7880b7d"
      },
      "id": "Yn9EDxWkeaMS",
      "execution_count": 54,
      "outputs": [
        {
          "output_type": "stream",
          "name": "stdout",
          "text": [
            "Found \"about the publisher\" in the following elements:\n",
            "Category: CompositeElement, Text: The boy reached the small, abandoned church just as night…\n",
            "\n",
            "ABOUT THE AUTHOR\n",
            "\n",
            "INTERNATIONAL ACCLAIM\n",
            "\n",
            "BOOKS BY PAULO COELHO\n",
            "\n",
            "CREDITS\n",
            "\n",
            "COVER  \n",
            "\n",
            "COPYRIGHT\n",
            "\n",
            "ABOUT THE PUBLISHER\n",
            "Category: CompositeElement, Text: PerfectBound™ and the PerfectBound™ logo are trademarks of HarperCollins Publishers, Inc.\n",
            "\n",
            "Mobipocket Reader July 2005 ISBN 0-06-088268-9\n",
            "\n",
            "Library of Congress Cataloging-in-Publication Data has been\n",
            "\n",
            "\n"
          ]
        }
      ]
    },
    {
      "cell_type": "code",
      "source": [
        "found_elements_for_about_publishers[0].text"
      ],
      "metadata": {
        "colab": {
          "base_uri": "https://localhost:8080/",
          "height": 70
        },
        "id": "jtKcUNAPiu51",
        "outputId": "fee66084-97c4-4974-a821-4f58cb6c4e09"
      },
      "id": "jtKcUNAPiu51",
      "execution_count": 72,
      "outputs": [
        {
          "output_type": "execute_result",
          "data": {
            "text/plain": [
              "'The boy reached the small, abandoned church just as night…\\n\\nABOUT THE AUTHOR\\n\\nINTERNATIONAL ACCLAIM\\n\\nBOOKS BY PAULO COELHO\\n\\nCREDITS\\n\\nCOVER  \\n\\nCOPYRIGHT\\n\\nABOUT THE PUBLISHER'"
            ],
            "application/vnd.google.colaboratory.intrinsic+json": {
              "type": "string"
            }
          },
          "metadata": {},
          "execution_count": 72
        }
      ]
    },
    {
      "cell_type": "code",
      "source": [
        "# found_elements_for_about_publishers[0].text\n",
        "found_elements_for_about_publishers[1].id"
      ],
      "metadata": {
        "colab": {
          "base_uri": "https://localhost:8080/",
          "height": 36
        },
        "id": "Ciksc1arhs8V",
        "outputId": "2e9598de-c45f-40c9-caa8-cd85cc18a512"
      },
      "id": "Ciksc1arhs8V",
      "execution_count": 70,
      "outputs": [
        {
          "output_type": "execute_result",
          "data": {
            "text/plain": [
              "'1cf7f4d5e57b52cf10a7679d32eab0ae'"
            ],
            "application/vnd.google.colaboratory.intrinsic+json": {
              "type": "string"
            }
          },
          "metadata": {},
          "execution_count": 70
        }
      ]
    },
    {
      "cell_type": "code",
      "source": [
        "publisher_el_id = [el.id for el in found_elements_for_about_publishers]\n",
        "print(publisher_el_id)"
      ],
      "metadata": {
        "colab": {
          "base_uri": "https://localhost:8080/"
        },
        "id": "XbU4LaOOjNvw",
        "outputId": "6385a368-2ec3-4bd8-c5ec-5bbbcbed28ba"
      },
      "id": "XbU4LaOOjNvw",
      "execution_count": 75,
      "outputs": [
        {
          "output_type": "stream",
          "name": "stdout",
          "text": [
            "['57fd0772bc067337c6aceb324e55f476', '1cf7f4d5e57b52cf10a7679d32eab0ae']\n"
          ]
        }
      ]
    },
    {
      "cell_type": "code",
      "source": [
        "len(pdf_elements)"
      ],
      "metadata": {
        "colab": {
          "base_uri": "https://localhost:8080/"
        },
        "id": "j0zW7r-zjeZV",
        "outputId": "9bb2eb53-d1de-45b3-f69e-6dce339e166b"
      },
      "id": "j0zW7r-zjeZV",
      "execution_count": 76,
      "outputs": [
        {
          "output_type": "execute_result",
          "data": {
            "text/plain": [
              "611"
            ]
          },
          "metadata": {},
          "execution_count": 76
        }
      ]
    },
    {
      "cell_type": "code",
      "source": [
        "# Remove elements containing the specific text from pdf_elements\n",
        "pdf_elements = [el for el in pdf_elements if el.id not in publisher_el_id]\n"
      ],
      "metadata": {
        "id": "qGmkSbvgaQOq"
      },
      "id": "qGmkSbvgaQOq",
      "execution_count": 80,
      "outputs": []
    },
    {
      "cell_type": "code",
      "source": [
        "len(pdf_elements)"
      ],
      "metadata": {
        "colab": {
          "base_uri": "https://localhost:8080/"
        },
        "id": "C60aU938jrL_",
        "outputId": "4b9925c4-7b69-4835-8e04-e3070a5cd756"
      },
      "id": "C60aU938jrL_",
      "execution_count": 81,
      "outputs": [
        {
          "output_type": "execute_result",
          "data": {
            "text/plain": [
              "609"
            ]
          },
          "metadata": {},
          "execution_count": 81
        }
      ]
    },
    {
      "cell_type": "code",
      "source": [
        "# checking agin for the about the publisher page in pdf_elements\n",
        "finding_text_in_chunks(\"about the publisher\")"
      ],
      "metadata": {
        "colab": {
          "base_uri": "https://localhost:8080/"
        },
        "id": "wsAG-0lwj011",
        "outputId": "09d2a317-d196-4b58-9d31-169a63184a23"
      },
      "id": "wsAG-0lwj011",
      "execution_count": 82,
      "outputs": [
        {
          "output_type": "stream",
          "name": "stdout",
          "text": [
            "\"about the publisher\" not found in any elements.\n"
          ]
        },
        {
          "output_type": "execute_result",
          "data": {
            "text/plain": [
              "[]"
            ]
          },
          "metadata": {},
          "execution_count": 82
        }
      ]
    },
    {
      "cell_type": "code",
      "execution_count": null,
      "id": "303b9220-6367-4acc-a301-72e90620ed6f",
      "metadata": {
        "id": "303b9220-6367-4acc-a301-72e90620ed6f"
      },
      "outputs": [],
      "source": [
        "# Get the ID of the reference title element\n",
        "abou_id = reference_title.id"
      ]
    },
    {
      "cell_type": "code",
      "execution_count": null,
      "id": "2b1b9656-0018-4936-a9c9-3beac7a7c610",
      "metadata": {
        "id": "2b1b9656-0018-4936-a9c9-3beac7a7c610",
        "outputId": "db345deb-e358-4bf8-b783-c92587d9bc9b"
      },
      "outputs": [
        {
          "name": "stdout",
          "output_type": "stream",
          "text": [
            "Nomic AI. 2023. Atlas. https://atlas.nomic.ai/.\n"
          ]
        }
      ],
      "source": [
        "for element in pdf_elements:\n",
        "    if element.metadata.parent_id == references_id:\n",
        "        print(element)\n",
        "        break"
      ]
    },
    {
      "cell_type": "code",
      "execution_count": null,
      "id": "c7c9c2ce-433c-493f-8d01-3d257bf1eff1",
      "metadata": {
        "id": "c7c9c2ce-433c-493f-8d01-3d257bf1eff1"
      },
      "outputs": [],
      "source": [
        "# Filter out elements with a parent_id matching references_id\n",
        "pdf_elements = [el for el in pdf_elements if el.metadata.parent_id != references_id]"
      ]
    },
    {
      "cell_type": "markdown",
      "id": "b3495de3-1ad8-4f81-b979-d67de01bd8d2",
      "metadata": {
        "id": "b3495de3-1ad8-4f81-b979-d67de01bd8d2"
      },
      "source": [
        "### Filter out headers"
      ]
    },
    {
      "cell_type": "code",
      "execution_count": 61,
      "id": "29593c8d-a579-454f-872f-9001caa5613c",
      "metadata": {
        "id": "29593c8d-a579-454f-872f-9001caa5613c"
      },
      "outputs": [],
      "source": [
        "headers = [el for el in pdf_elements if el.category == \"Header\"]"
      ]
    },
    {
      "cell_type": "code",
      "execution_count": 62,
      "id": "7d7e6a38",
      "metadata": {
        "id": "7d7e6a38",
        "outputId": "161f301e-122f-4c8e-eb8a-18ff4d93b7fc",
        "colab": {
          "base_uri": "https://localhost:8080/"
        }
      },
      "outputs": [
        {
          "output_type": "execute_result",
          "data": {
            "text/plain": [
              "0"
            ]
          },
          "metadata": {},
          "execution_count": 62
        }
      ],
      "source": [
        "len(headers)"
      ]
    },
    {
      "cell_type": "code",
      "execution_count": null,
      "id": "2e2a006f-9125-4c13-a2ee-a86452b59b2b",
      "metadata": {
        "id": "2e2a006f-9125-4c13-a2ee-a86452b59b2b"
      },
      "outputs": [],
      "source": [
        "headers[0].to_dict()"
      ]
    },
    {
      "cell_type": "code",
      "execution_count": null,
      "id": "4c40d66a-4be5-4051-8226-5be421118ab3",
      "metadata": {
        "id": "4c40d66a-4be5-4051-8226-5be421118ab3"
      },
      "outputs": [],
      "source": [
        "# Filters out elements from the `pdf_elements` list that have the category \"Header\".\n",
        "pdf_elements = [el for el in pdf_elements if el.category != \"Header\"]"
      ]
    },
    {
      "cell_type": "code",
      "execution_count": null,
      "id": "3b88af65",
      "metadata": {
        "id": "3b88af65",
        "outputId": "e930f0dc-304e-47d4-d8bf-0f3d542e2116"
      },
      "outputs": [
        {
          "data": {
            "text/plain": [
              "72"
            ]
          },
          "execution_count": 28,
          "metadata": {},
          "output_type": "execute_result"
        }
      ],
      "source": [
        "len(pdf_elements)"
      ]
    },
    {
      "cell_type": "code",
      "execution_count": null,
      "id": "81dcbbc3",
      "metadata": {
        "id": "81dcbbc3"
      },
      "outputs": [],
      "source": [
        "# lets again see some random index\n",
        "pdf_elements[33].to_dict()"
      ]
    },
    {
      "cell_type": "markdown",
      "id": "527495ff-0e84-400e-b6a6-982a5288f2f5",
      "metadata": {
        "id": "527495ff-0e84-400e-b6a6-982a5288f2f5"
      },
      "source": [
        "## Preprocess the README"
      ]
    },
    {
      "cell_type": "code",
      "execution_count": null,
      "id": "b2e35d92-78bc-46be-985e-6baba4830b12",
      "metadata": {
        "id": "b2e35d92-78bc-46be-985e-6baba4830b12"
      },
      "outputs": [],
      "source": [
        "filename_md = \"data/uber_10q_march_2022.md\""
      ]
    },
    {
      "cell_type": "code",
      "execution_count": null,
      "id": "946d2081-9070-423b-99f0-ce260e9a6491",
      "metadata": {
        "id": "946d2081-9070-423b-99f0-ce260e9a6491"
      },
      "outputs": [],
      "source": [
        "md_elements = partition_md(filename=filename_md)"
      ]
    },
    {
      "cell_type": "code",
      "execution_count": null,
      "id": "9eee4f04",
      "metadata": {
        "id": "9eee4f04"
      },
      "outputs": [],
      "source": [
        "# lets again see some random index\n",
        "md_elements[33].to_dict(), pdf_elements[33].to_dict()"
      ]
    },
    {
      "cell_type": "markdown",
      "id": "b5533a29-62fe-432b-bfa0-499d4029fdbf",
      "metadata": {
        "id": "b5533a29-62fe-432b-bfa0-499d4029fdbf"
      },
      "source": [
        "#### Let's still do some more exploration"
      ]
    },
    {
      "cell_type": "code",
      "execution_count": null,
      "id": "b00b8c11",
      "metadata": {
        "id": "b00b8c11",
        "outputId": "4e9af1ca-2cec-4f64-f1e6-d08e9de1b3ce"
      },
      "outputs": [
        {
          "data": {
            "text/plain": [
              "(72, 1506)"
            ]
          },
          "execution_count": 33,
          "metadata": {},
          "output_type": "execute_result"
        }
      ],
      "source": [
        "len(pdf_elements), len(md_elements)"
      ]
    },
    {
      "cell_type": "code",
      "execution_count": null,
      "id": "6b739a36-8f61-46ac-861b-641f56b140f0",
      "metadata": {
        "id": "6b739a36-8f61-46ac-861b-641f56b140f0"
      },
      "outputs": [],
      "source": [
        "elements = chunk_by_title(pdf_elements + md_elements) # you can play around with the chunk_by_title arguments"
      ]
    },
    {
      "cell_type": "code",
      "execution_count": null,
      "id": "2df9e6ae",
      "metadata": {
        "id": "2df9e6ae",
        "outputId": "1360b075-e81b-4f29-b3bd-800d86dfc963"
      },
      "outputs": [
        {
          "data": {
            "text/plain": [
              "731"
            ]
          },
          "execution_count": 35,
          "metadata": {},
          "output_type": "execute_result"
        }
      ],
      "source": [
        "len(elements)"
      ]
    },
    {
      "cell_type": "code",
      "execution_count": null,
      "id": "3d69d3d0",
      "metadata": {
        "id": "3d69d3d0"
      },
      "outputs": [],
      "source": [
        "pdf_elements[0].to_dict()"
      ]
    },
    {
      "cell_type": "code",
      "execution_count": null,
      "id": "b2789bb8",
      "metadata": {
        "id": "b2789bb8"
      },
      "outputs": [],
      "source": [
        "pdf_elements[1].to_dict()"
      ]
    },
    {
      "cell_type": "code",
      "execution_count": null,
      "id": "ab0af605",
      "metadata": {
        "id": "ab0af605",
        "outputId": "b342fb67-bfa8-49eb-8f78-a54ebbeee2d1"
      },
      "outputs": [
        {
          "data": {
            "text/plain": [
              "{'type': 'CompositeElement',\n",
              " 'element_id': 'de7552d5-35e4-4f67-9e92-8bb73a59f958',\n",
              " 'text': '3 2 0 2\\n\\n1 v 1 3 9 4 0 . 1 1 3 2 : v i X r a\\n\\nGPT4All: An Ecosystem of Open Source Compressed Language Models\\n\\nYuvanesh Anand Nomic AI yuvanesh@nomic.ai\\n\\nZach Nussbaum Nomic AI zach@nomic.ai\\n\\nAdam Treat Nomic AI adam@nomic.ai\\n\\nAaron Miller Nomic AI aaron@nomic.ai\\n\\nRichard Guo Nomic AI richard@nomic.ai\\n\\nBen Schmidt Nomic AI ben@nomic.ai\\n\\nGPT4All Community Planet Earth\\n\\nBrandon Duderstadt∗ Nomic AI brandon@nomic.ai\\n\\nAndriy Mulyar∗ Nomic AI andriy@nomic.ai',\n",
              " 'metadata': {'file_directory': 'data',\n",
              "  'filename': 'gpt4all.pdf',\n",
              "  'filetype': 'application/pdf',\n",
              "  'languages': ['eng'],\n",
              "  'last_modified': '2024-05-03T13:31:00',\n",
              "  'page_number': 1,\n",
              "  'orig_elements': 'eJzlWNtuGzcQ/RVCz86W94uf6rRBUKBJg8YF2rqBwMvQWmAvwmqVRgny75292FZiubEL6MH1k3QOh1guz+FwZi8+LaCCGpp+WabFKVkEGlXMMTvhOTPKMeAmqeiMlSorFxYnZFFD75PvPcZ/WsS27VLZ+B42I678rt32yxWUl6seGS6Ewzkz/XeZ+hWyTCuJ7Lotm36Yd3EhVYGMEbyw707IDK0UhRsgo7Rwt/EUjsRis9v0UA9v8Kb8ANXbtY+w+IwDuaxgmcoOYt92uyFgXPo80vgaBu5y3UtfVcU65auhfrceh/x6XZXR92XbfDcPV7653PrL8Y0vFtBcLt6N7KZf1m0qcwnjXnLK5TOqnlFxzsSpYKeUDrPXOHPZbOsA3bATwyJ7+DDs1UIQTijhQ9TV439r8Nlw2XblR0jnQxxO+Fo1aiBFSVPmiloIjCvHGZfUSm4i0/nIqjHO7KTLjLWlBd/T6TYxzXjcyo1Md6OCDDmzEBM4kF6DNSoH622OJhgHzC32pWbkPWFEEEckSl7g/wFxcop8SX4nHfEPtoF30qYA3GfDldXeZ0s9c1qppDgP5mg24IwW6oRgxphO7xVWpjCj6lLYQhwixhn/aoMEPToANVxG1GmzXHdtwDBaSMsV+9/75OWbc3lWVafkrCEvYjttE2kz+WUNDXnbbrsI5Ie2Xnew2UAiP88rJ6/aBNVm30PnZV/BQd+ADMxkIVQU3KJ4uCZGM+VWGpZkOppvmGOFPSGCqsk3M5ZMz+nEyILdxlP8E04ef2zf+wY2KzSFbxJ53dZlJGc/kd3Mf98MTOHLe8lvWbBRM9BeOOYd2KBUoMZb6xE5ejT5FV4Xbk/+GV/LbYwqzG385OX/08cVeb3dbILf1jfqf0T6YconlDnpQH1STAtnEhfGgzHORO+th6Mpb6384uDP+FppNtQJ5gDx5LU/S74m5x34/kZ41Kd+4JF3jnPnTRSSowmC8CxIaWjikguw+ngZn1M7lAY3KX8mJBaEeioNJCvoAeIe0t9ZK3AlrXyM3vjmCf3CG75rG/KqrCro9twxsAft8dp3Hb7Ke7iroExRUxtjFJCUMkZ4pXgMwdKYXPL5eDbhxo0esKwQY0E5YWxrCjndFLLQt/EU/4Szw69lXPkukZfb9sYA3UQ+LENE4SRlnGNu4DYGEbSxQoHlWeug1fFqQsPZWARcST9j5cSUMBwfO4ev8T2kv7uTwPfUj9Eb3zyf+954PvQLcVXjzt94I8B/TA1UgWE6K4vWdABRS66jsYplllJO8ng3CLVubAquDHJFKCVnAq07fIa4RTz59DA3k0O/WG+bst+RN7g46MkL3+F23ycv4EkxFMsyzrISFH8jzykYrfEM4SOP+IGQiuEK0EpMos7YaFvQMU9QdwhP8U9Y8+cdtohYFvy4TdBtUJj+ry3nzOzlgCniYfcDliGGqcS48Ci+SdRSE7F6DNpmF7w9mg+cscNZvvbBjAfd5VRQ4oVADxD3cMKdNwQ2xoo/Rqt887h+UT82qSt35NW22vnua5f4cfA+l8W7fwDSHD2i'}}"
            ]
          },
          "execution_count": 38,
          "metadata": {},
          "output_type": "execute_result"
        }
      ],
      "source": [
        "elements[0].to_dict()"
      ]
    },
    {
      "cell_type": "code",
      "execution_count": null,
      "id": "c63851b7",
      "metadata": {
        "id": "c63851b7",
        "outputId": "e14fe23f-101f-4d7a-d0eb-e8a85fa27415"
      },
      "outputs": [
        {
          "name": "stdout",
          "output_type": "stream",
          "text": [
            "\u001b[0;31mSignature:\u001b[0m\n",
            "\u001b[0mchunk_by_title\u001b[0m\u001b[0;34m(\u001b[0m\u001b[0;34m\u001b[0m\n",
            "\u001b[0;34m\u001b[0m    \u001b[0melements\u001b[0m\u001b[0;34m:\u001b[0m \u001b[0;34m'Iterable[Element]'\u001b[0m\u001b[0;34m,\u001b[0m\u001b[0;34m\u001b[0m\n",
            "\u001b[0;34m\u001b[0m    \u001b[0;34m*\u001b[0m\u001b[0;34m,\u001b[0m\u001b[0;34m\u001b[0m\n",
            "\u001b[0;34m\u001b[0m    \u001b[0mcombine_text_under_n_chars\u001b[0m\u001b[0;34m:\u001b[0m \u001b[0;34m'Optional[int]'\u001b[0m \u001b[0;34m=\u001b[0m \u001b[0;32mNone\u001b[0m\u001b[0;34m,\u001b[0m\u001b[0;34m\u001b[0m\n",
            "\u001b[0;34m\u001b[0m    \u001b[0minclude_orig_elements\u001b[0m\u001b[0;34m:\u001b[0m \u001b[0;34m'Optional[bool]'\u001b[0m \u001b[0;34m=\u001b[0m \u001b[0;32mNone\u001b[0m\u001b[0;34m,\u001b[0m\u001b[0;34m\u001b[0m\n",
            "\u001b[0;34m\u001b[0m    \u001b[0mmax_characters\u001b[0m\u001b[0;34m:\u001b[0m \u001b[0;34m'Optional[int]'\u001b[0m \u001b[0;34m=\u001b[0m \u001b[0;32mNone\u001b[0m\u001b[0;34m,\u001b[0m\u001b[0;34m\u001b[0m\n",
            "\u001b[0;34m\u001b[0m    \u001b[0mmultipage_sections\u001b[0m\u001b[0;34m:\u001b[0m \u001b[0;34m'Optional[bool]'\u001b[0m \u001b[0;34m=\u001b[0m \u001b[0;32mNone\u001b[0m\u001b[0;34m,\u001b[0m\u001b[0;34m\u001b[0m\n",
            "\u001b[0;34m\u001b[0m    \u001b[0mnew_after_n_chars\u001b[0m\u001b[0;34m:\u001b[0m \u001b[0;34m'Optional[int]'\u001b[0m \u001b[0;34m=\u001b[0m \u001b[0;32mNone\u001b[0m\u001b[0;34m,\u001b[0m\u001b[0;34m\u001b[0m\n",
            "\u001b[0;34m\u001b[0m    \u001b[0moverlap\u001b[0m\u001b[0;34m:\u001b[0m \u001b[0;34m'Optional[int]'\u001b[0m \u001b[0;34m=\u001b[0m \u001b[0;32mNone\u001b[0m\u001b[0;34m,\u001b[0m\u001b[0;34m\u001b[0m\n",
            "\u001b[0;34m\u001b[0m    \u001b[0moverlap_all\u001b[0m\u001b[0;34m:\u001b[0m \u001b[0;34m'Optional[bool]'\u001b[0m \u001b[0;34m=\u001b[0m \u001b[0;32mNone\u001b[0m\u001b[0;34m,\u001b[0m\u001b[0;34m\u001b[0m\n",
            "\u001b[0;34m\u001b[0m\u001b[0;34m)\u001b[0m \u001b[0;34m->\u001b[0m \u001b[0;34m'list[Element]'\u001b[0m\u001b[0;34m\u001b[0m\u001b[0;34m\u001b[0m\u001b[0m\n",
            "\u001b[0;31mSource:\u001b[0m   \n",
            "\u001b[0;32mdef\u001b[0m \u001b[0mchunk_by_title\u001b[0m\u001b[0;34m(\u001b[0m\u001b[0;34m\u001b[0m\n",
            "\u001b[0;34m\u001b[0m    \u001b[0melements\u001b[0m\u001b[0;34m:\u001b[0m \u001b[0mIterable\u001b[0m\u001b[0;34m[\u001b[0m\u001b[0mElement\u001b[0m\u001b[0;34m]\u001b[0m\u001b[0;34m,\u001b[0m\u001b[0;34m\u001b[0m\n",
            "\u001b[0;34m\u001b[0m    \u001b[0;34m*\u001b[0m\u001b[0;34m,\u001b[0m\u001b[0;34m\u001b[0m\n",
            "\u001b[0;34m\u001b[0m    \u001b[0mcombine_text_under_n_chars\u001b[0m\u001b[0;34m:\u001b[0m \u001b[0mOptional\u001b[0m\u001b[0;34m[\u001b[0m\u001b[0mint\u001b[0m\u001b[0;34m]\u001b[0m \u001b[0;34m=\u001b[0m \u001b[0;32mNone\u001b[0m\u001b[0;34m,\u001b[0m\u001b[0;34m\u001b[0m\n",
            "\u001b[0;34m\u001b[0m    \u001b[0minclude_orig_elements\u001b[0m\u001b[0;34m:\u001b[0m \u001b[0mOptional\u001b[0m\u001b[0;34m[\u001b[0m\u001b[0mbool\u001b[0m\u001b[0;34m]\u001b[0m \u001b[0;34m=\u001b[0m \u001b[0;32mNone\u001b[0m\u001b[0;34m,\u001b[0m\u001b[0;34m\u001b[0m\n",
            "\u001b[0;34m\u001b[0m    \u001b[0mmax_characters\u001b[0m\u001b[0;34m:\u001b[0m \u001b[0mOptional\u001b[0m\u001b[0;34m[\u001b[0m\u001b[0mint\u001b[0m\u001b[0;34m]\u001b[0m \u001b[0;34m=\u001b[0m \u001b[0;32mNone\u001b[0m\u001b[0;34m,\u001b[0m\u001b[0;34m\u001b[0m\n",
            "\u001b[0;34m\u001b[0m    \u001b[0mmultipage_sections\u001b[0m\u001b[0;34m:\u001b[0m \u001b[0mOptional\u001b[0m\u001b[0;34m[\u001b[0m\u001b[0mbool\u001b[0m\u001b[0;34m]\u001b[0m \u001b[0;34m=\u001b[0m \u001b[0;32mNone\u001b[0m\u001b[0;34m,\u001b[0m\u001b[0;34m\u001b[0m\n",
            "\u001b[0;34m\u001b[0m    \u001b[0mnew_after_n_chars\u001b[0m\u001b[0;34m:\u001b[0m \u001b[0mOptional\u001b[0m\u001b[0;34m[\u001b[0m\u001b[0mint\u001b[0m\u001b[0;34m]\u001b[0m \u001b[0;34m=\u001b[0m \u001b[0;32mNone\u001b[0m\u001b[0;34m,\u001b[0m\u001b[0;34m\u001b[0m\n",
            "\u001b[0;34m\u001b[0m    \u001b[0moverlap\u001b[0m\u001b[0;34m:\u001b[0m \u001b[0mOptional\u001b[0m\u001b[0;34m[\u001b[0m\u001b[0mint\u001b[0m\u001b[0;34m]\u001b[0m \u001b[0;34m=\u001b[0m \u001b[0;32mNone\u001b[0m\u001b[0;34m,\u001b[0m\u001b[0;34m\u001b[0m\n",
            "\u001b[0;34m\u001b[0m    \u001b[0moverlap_all\u001b[0m\u001b[0;34m:\u001b[0m \u001b[0mOptional\u001b[0m\u001b[0;34m[\u001b[0m\u001b[0mbool\u001b[0m\u001b[0;34m]\u001b[0m \u001b[0;34m=\u001b[0m \u001b[0;32mNone\u001b[0m\u001b[0;34m,\u001b[0m\u001b[0;34m\u001b[0m\n",
            "\u001b[0;34m\u001b[0m\u001b[0;34m)\u001b[0m \u001b[0;34m->\u001b[0m \u001b[0mlist\u001b[0m\u001b[0;34m[\u001b[0m\u001b[0mElement\u001b[0m\u001b[0;34m]\u001b[0m\u001b[0;34m:\u001b[0m\u001b[0;34m\u001b[0m\n",
            "\u001b[0;34m\u001b[0m    \u001b[0;34m\"\"\"Uses title elements to identify sections within the document for chunking.\u001b[0m\n",
            "\u001b[0;34m\u001b[0m\n",
            "\u001b[0;34m    Splits off into a new CompositeElement when a title is detected or if metadata changes, which\u001b[0m\n",
            "\u001b[0;34m    happens when page numbers or sections change. Cuts off sections once they have exceeded a\u001b[0m\n",
            "\u001b[0;34m    character length of max_characters.\u001b[0m\n",
            "\u001b[0;34m\u001b[0m\n",
            "\u001b[0;34m    Parameters\u001b[0m\n",
            "\u001b[0;34m    ----------\u001b[0m\n",
            "\u001b[0;34m    elements\u001b[0m\n",
            "\u001b[0;34m        A list of unstructured elements. Usually the output of a partition function.\u001b[0m\n",
            "\u001b[0;34m    combine_text_under_n_chars\u001b[0m\n",
            "\u001b[0;34m        Combines elements (for example a series of titles) until a section reaches a length of\u001b[0m\n",
            "\u001b[0;34m        n characters. Defaults to `max_characters` which combines chunks whenever space allows.\u001b[0m\n",
            "\u001b[0;34m        Specifying 0 for this argument suppresses combining of small chunks. Note this value is\u001b[0m\n",
            "\u001b[0;34m        \"capped\" at the `new_after_n_chars` value since a value higher than that would not change\u001b[0m\n",
            "\u001b[0;34m        this parameter's effect.\u001b[0m\n",
            "\u001b[0;34m    include_orig_elements\u001b[0m\n",
            "\u001b[0;34m        When `True` (default), add elements from pre-chunk to the `.metadata.orig_elements` field\u001b[0m\n",
            "\u001b[0;34m        of the chunk(s) formed from that pre-chunk. Among other things, this allows access to\u001b[0m\n",
            "\u001b[0;34m        original-element metadata that cannot be consolidated and is dropped in the course of\u001b[0m\n",
            "\u001b[0;34m        chunking.\u001b[0m\n",
            "\u001b[0;34m    max_characters\u001b[0m\n",
            "\u001b[0;34m        Chunks elements text and text_as_html (if present) into chunks of length\u001b[0m\n",
            "\u001b[0;34m        n characters (hard max)\u001b[0m\n",
            "\u001b[0;34m    multipage_sections\u001b[0m\n",
            "\u001b[0;34m        If True, sections can span multiple pages. Defaults to True.\u001b[0m\n",
            "\u001b[0;34m    new_after_n_chars\u001b[0m\n",
            "\u001b[0;34m        Cuts off new sections once they reach a length of n characters (soft max). Defaults to\u001b[0m\n",
            "\u001b[0;34m        `max_characters` when not specified, which effectively disables any soft window.\u001b[0m\n",
            "\u001b[0;34m        Specifying 0 for this argument causes each element to appear in a chunk by itself (although\u001b[0m\n",
            "\u001b[0;34m        an element with text longer than `max_characters` will be still be split into two or more\u001b[0m\n",
            "\u001b[0;34m        chunks).\u001b[0m\n",
            "\u001b[0;34m    overlap\u001b[0m\n",
            "\u001b[0;34m        Specifies the length of a string (\"tail\") to be drawn from each chunk and prefixed to the\u001b[0m\n",
            "\u001b[0;34m        next chunk as a context-preserving mechanism. By default, this only applies to split-chunks\u001b[0m\n",
            "\u001b[0;34m        where an oversized element is divided into multiple chunks by text-splitting.\u001b[0m\n",
            "\u001b[0;34m    overlap_all\u001b[0m\n",
            "\u001b[0;34m        Default: `False`. When `True`, apply overlap between \"normal\" chunks formed from whole\u001b[0m\n",
            "\u001b[0;34m        elements and not subject to text-splitting. Use this with caution as it entails a certain\u001b[0m\n",
            "\u001b[0;34m        level of \"pollution\" of otherwise clean semantic chunk boundaries.\u001b[0m\n",
            "\u001b[0;34m    \"\"\"\u001b[0m\u001b[0;34m\u001b[0m\n",
            "\u001b[0;34m\u001b[0m    \u001b[0mopts\u001b[0m \u001b[0;34m=\u001b[0m \u001b[0m_ByTitleChunkingOptions\u001b[0m\u001b[0;34m.\u001b[0m\u001b[0mnew\u001b[0m\u001b[0;34m(\u001b[0m\u001b[0;34m\u001b[0m\n",
            "\u001b[0;34m\u001b[0m        \u001b[0mcombine_text_under_n_chars\u001b[0m\u001b[0;34m=\u001b[0m\u001b[0mcombine_text_under_n_chars\u001b[0m\u001b[0;34m,\u001b[0m\u001b[0;34m\u001b[0m\n",
            "\u001b[0;34m\u001b[0m        \u001b[0minclude_orig_elements\u001b[0m\u001b[0;34m=\u001b[0m\u001b[0minclude_orig_elements\u001b[0m\u001b[0;34m,\u001b[0m\u001b[0;34m\u001b[0m\n",
            "\u001b[0;34m\u001b[0m        \u001b[0mmax_characters\u001b[0m\u001b[0;34m=\u001b[0m\u001b[0mmax_characters\u001b[0m\u001b[0;34m,\u001b[0m\u001b[0;34m\u001b[0m\n",
            "\u001b[0;34m\u001b[0m        \u001b[0mmultipage_sections\u001b[0m\u001b[0;34m=\u001b[0m\u001b[0mmultipage_sections\u001b[0m\u001b[0;34m,\u001b[0m\u001b[0;34m\u001b[0m\n",
            "\u001b[0;34m\u001b[0m        \u001b[0mnew_after_n_chars\u001b[0m\u001b[0;34m=\u001b[0m\u001b[0mnew_after_n_chars\u001b[0m\u001b[0;34m,\u001b[0m\u001b[0;34m\u001b[0m\n",
            "\u001b[0;34m\u001b[0m        \u001b[0moverlap\u001b[0m\u001b[0;34m=\u001b[0m\u001b[0moverlap\u001b[0m\u001b[0;34m,\u001b[0m\u001b[0;34m\u001b[0m\n",
            "\u001b[0;34m\u001b[0m        \u001b[0moverlap_all\u001b[0m\u001b[0;34m=\u001b[0m\u001b[0moverlap_all\u001b[0m\u001b[0;34m,\u001b[0m\u001b[0;34m\u001b[0m\n",
            "\u001b[0;34m\u001b[0m    \u001b[0;34m)\u001b[0m\u001b[0;34m\u001b[0m\n",
            "\u001b[0;34m\u001b[0m    \u001b[0;32mreturn\u001b[0m \u001b[0m_chunk_by_title\u001b[0m\u001b[0;34m(\u001b[0m\u001b[0melements\u001b[0m\u001b[0;34m,\u001b[0m \u001b[0mopts\u001b[0m\u001b[0;34m)\u001b[0m\u001b[0;34m\u001b[0m\u001b[0;34m\u001b[0m\u001b[0m\n",
            "\u001b[0;31mFile:\u001b[0m      ~/Documents/yt-code/youtube-stuffs/data-cleaning/.venv/lib/python3.11/site-packages/unstructured/chunking/title.py\n",
            "\u001b[0;31mType:\u001b[0m      function"
          ]
        }
      ],
      "source": [
        "chunk_by_title??"
      ]
    },
    {
      "cell_type": "code",
      "execution_count": null,
      "id": "5def9454",
      "metadata": {
        "id": "5def9454"
      },
      "outputs": [],
      "source": [
        "#chunk_elements = chunk_by_title((pdf_elements + md_elements),combine_text_under_n_chars=100,max_characters=3000)\n",
        "#len(chunk_elements)"
      ]
    },
    {
      "cell_type": "markdown",
      "id": "178d0ac3",
      "metadata": {
        "id": "178d0ac3"
      },
      "source": [
        "## Load the Documents into the Vector DB"
      ]
    },
    {
      "cell_type": "code",
      "execution_count": null,
      "id": "a87e5924-6c42-47ab-8cd1-2c22caed71c6",
      "metadata": {
        "id": "a87e5924-6c42-47ab-8cd1-2c22caed71c6"
      },
      "outputs": [],
      "source": [
        "import os\n",
        "from langchain_core.documents import Document\n",
        "from langchain_community.embeddings.fastembed import FastEmbedEmbeddings\n",
        "from langchain_community.vectorstores import Qdrant"
      ]
    },
    {
      "cell_type": "code",
      "execution_count": null,
      "id": "9af0f348-0697-4bed-8f97-a0ee03475ffe",
      "metadata": {
        "id": "9af0f348-0697-4bed-8f97-a0ee03475ffe"
      },
      "outputs": [],
      "source": [
        "documents = []\n",
        "for element in elements:\n",
        "    metadata = element.metadata.to_dict()\n",
        "    del metadata[\"languages\"]\n",
        "    metadata[\"source\"] = metadata[\"filename\"]\n",
        "    documents.append(Document(page_content=element.text, metadata=metadata))"
      ]
    },
    {
      "cell_type": "code",
      "execution_count": null,
      "id": "187514ca",
      "metadata": {
        "id": "187514ca",
        "outputId": "185f384c-9a0a-4d8d-99bb-8834b328f617"
      },
      "outputs": [
        {
          "data": {
            "text/plain": [
              "731"
            ]
          },
          "execution_count": 94,
          "metadata": {},
          "output_type": "execute_result"
        }
      ],
      "source": [
        "len(documents)"
      ]
    },
    {
      "cell_type": "code",
      "execution_count": null,
      "id": "cbd8d9e9",
      "metadata": {
        "id": "cbd8d9e9",
        "outputId": "aa9d40d5-87ba-45c3-bc28-ecee325c0b36"
      },
      "outputs": [
        {
          "data": {
            "text/plain": [
              "True"
            ]
          },
          "execution_count": 43,
          "metadata": {},
          "output_type": "execute_result"
        }
      ],
      "source": [
        "from dotenv import load_dotenv\n",
        "load_dotenv()"
      ]
    },
    {
      "cell_type": "code",
      "execution_count": null,
      "id": "e5502d16",
      "metadata": {
        "id": "e5502d16"
      },
      "outputs": [],
      "source": [
        "qdrant_url = os.getenv(\"QDRANT_URL\")\n",
        "qdrant_api_key = os.getenv(\"QDRANT_API_KEY\")\n",
        "groq_api_key = os.getenv(\"GROQ_API_KEY\")"
      ]
    },
    {
      "cell_type": "code",
      "execution_count": null,
      "id": "43ce7dc4-a23f-4024-b647-1eae469efc77",
      "metadata": {
        "id": "43ce7dc4-a23f-4024-b647-1eae469efc77",
        "outputId": "88fcf2b8-9216-4a6c-a831-2d69918deea7"
      },
      "outputs": [
        {
          "name": "stderr",
          "output_type": "stream",
          "text": [
            "Fetching 5 files: 100%|██████████| 5/5 [00:00<00:00, 78251.94it/s]\n"
          ]
        }
      ],
      "source": [
        "embeddings = FastEmbedEmbeddings()"
      ]
    },
    {
      "cell_type": "code",
      "execution_count": null,
      "id": "b2bc691d-18e8-4833-9009-e13f7fa13e0e",
      "metadata": {
        "id": "b2bc691d-18e8-4833-9009-e13f7fa13e0e"
      },
      "outputs": [],
      "source": [
        "# this will take some time, patience is the key :)\n",
        "vectorstore = Qdrant.from_documents(documents=documents,\n",
        "                                    embedding = embeddings,\n",
        "                                    url = qdrant_url,\n",
        "                                    collection_name=\"rag\",\n",
        "                                    api_key=qdrant_api_key)"
      ]
    },
    {
      "cell_type": "code",
      "execution_count": null,
      "id": "a775b466-16af-4bf1-94d5-c96563ce50d0",
      "metadata": {
        "id": "a775b466-16af-4bf1-94d5-c96563ce50d0"
      },
      "outputs": [],
      "source": [
        "retriever = vectorstore.as_retriever(\n",
        "    search_type=\"similarity\",\n",
        "    search_kwargs={\"k\": 3}\n",
        ")"
      ]
    },
    {
      "cell_type": "markdown",
      "id": "61aadbc2",
      "metadata": {
        "id": "61aadbc2"
      },
      "source": [
        "## Creating RAG (Qdrant, Groq, LangChain, Llama3)"
      ]
    },
    {
      "cell_type": "code",
      "execution_count": null,
      "id": "6b3a5fa6-7169-4f1f-aabd-15eec4da8f53",
      "metadata": {
        "id": "6b3a5fa6-7169-4f1f-aabd-15eec4da8f53"
      },
      "outputs": [],
      "source": [
        "from langchain.prompts.prompt import PromptTemplate\n",
        "from langchain_groq import ChatGroq\n",
        "from langchain.chains import chat_history_aware_retriever\n",
        "from langchain.chains.qa_with_sources import load_qa_with_sources_chain"
      ]
    },
    {
      "cell_type": "code",
      "execution_count": null,
      "id": "238ea8c4-c099-490a-877c-2050b65fd2b0",
      "metadata": {
        "id": "238ea8c4-c099-490a-877c-2050b65fd2b0"
      },
      "outputs": [],
      "source": [
        "template = \"\"\"You are an AI assistant for answering questions about the GPT4All paper and Quarterly Report Pursuant to Section 13 or 15(d) of the Securities Exchange Act of 1934 for the quarterly period ended March 31, 2022.\n",
        "You are given the following extracted parts of a long document and a question. Provide a conversational answer.\n",
        "If you don't know the answer, just say \"Hmm, I'm not sure.\" Don't try to make up an answer.\n",
        "Question: {question}\n",
        "=========\n",
        "{context}\n",
        "=========\n",
        "Answer in Markdown:\"\"\"\n",
        "prompt = PromptTemplate(template=template, input_variables=[\"question\", \"context\"])"
      ]
    },
    {
      "cell_type": "code",
      "execution_count": null,
      "id": "42096f06-ae93-4d5d-acb6-02b760745b9e",
      "metadata": {
        "id": "42096f06-ae93-4d5d-acb6-02b760745b9e"
      },
      "outputs": [],
      "source": [
        "llm = ChatGroq(temperature=0,model_name=\"llama3-8b-8192\")\n",
        "\n",
        "doc_chain = load_qa_with_sources_chain(llm, chain_type=\"map_reduce\")\n",
        "question_generator_chain = LLMChain(llm=llm, prompt=prompt)\n",
        "qa_chain = ConversationalRetrievalChain(\n",
        "    retriever=retriever,\n",
        "    question_generator=question_generator_chain,\n",
        "    combine_docs_chain=doc_chain,\n",
        ")"
      ]
    },
    {
      "cell_type": "code",
      "execution_count": null,
      "id": "d9329374-1a3f-44aa-8cd0-14a6d8bcae7e",
      "metadata": {
        "id": "d9329374-1a3f-44aa-8cd0-14a6d8bcae7e",
        "outputId": "5f1da69a-eac8-4237-e9cd-9dd47f49ee89"
      },
      "outputs": [
        {
          "data": {
            "text/plain": [
              "'The net loss including non-controlling interests of Uber in 2021 was $(122) million.\\nSOURCES: uber_10q_march_2022.md'"
            ]
          },
          "execution_count": 61,
          "metadata": {},
          "output_type": "execute_result"
        }
      ],
      "source": [
        "qa_chain.invoke({\n",
        "    \"question\": \"What was the net loss including non-controlling interests of Uber in 2021\", #line 533\n",
        "    \"chat_history\": []\n",
        "})[\"answer\"]"
      ]
    },
    {
      "cell_type": "code",
      "execution_count": null,
      "id": "c2f3d9ab-9cb4-4b64-8ed6-db3467f2a548",
      "metadata": {
        "id": "c2f3d9ab-9cb4-4b64-8ed6-db3467f2a548"
      },
      "outputs": [],
      "source": [
        "# hybrid search in action\n",
        "filter_retriever = vectorstore.as_retriever(\n",
        "    search_type=\"similarity\",\n",
        "    search_kwargs={\"k\": 1, \"filter\": {\"source\": \"gpt4all.pdf\"}}\n",
        ")"
      ]
    },
    {
      "cell_type": "code",
      "execution_count": null,
      "id": "ebca3607-5cc0-46e3-9f1e-ef60955d3abd",
      "metadata": {
        "id": "ebca3607-5cc0-46e3-9f1e-ef60955d3abd"
      },
      "outputs": [],
      "source": [
        "filter_chain = ConversationalRetrievalChain(\n",
        "    retriever=filter_retriever,\n",
        "    question_generator=question_generator_chain,\n",
        "    combine_docs_chain=doc_chain,\n",
        ")"
      ]
    },
    {
      "cell_type": "code",
      "execution_count": null,
      "id": "67c0ff39-291e-4cd1-9aef-b2db960a728b",
      "metadata": {
        "id": "67c0ff39-291e-4cd1-9aef-b2db960a728b",
        "outputId": "4620ad90-4300-4f60-d8bf-0a6bd01b8a51"
      },
      "outputs": [
        {
          "data": {
            "text/plain": [
              "\"I'm happy to help!\\n\\nFINAL ANSWER: The president did not mention Michael Jackson.\\nSOURCES:\\n\\nFINAL ANSWER: This Agreement is governed by English law.\\nSOURCES: 28-pl\\n\\nFINAL ANSWER: The president did not mention Michael Jackson.\\nSOURCES:\\n\\nFINAL ANSWER: GPT4All-Snoozy was developed using roughly the same procedure as the previous GPT4All models, but with a few key modifications.\\nSOURCES: gpt4all.pdf\""
            ]
          },
          "execution_count": 92,
          "metadata": {},
          "output_type": "execute_result"
        }
      ],
      "source": [
        "filter_chain.invoke({\n",
        "    \"question\": \"How was GPT4All-Snoozy developed ?\",\n",
        "    \"chat_history\": [],\n",
        "    \"filter\": filter,\n",
        "})[\"answer\"]"
      ]
    },
    {
      "cell_type": "code",
      "execution_count": null,
      "id": "64114f95-ca0e-4de8-a335-fa8a4849da96",
      "metadata": {
        "id": "64114f95-ca0e-4de8-a335-fa8a4849da96"
      },
      "outputs": [],
      "source": []
    }
  ],
  "metadata": {
    "kernelspec": {
      "display_name": "Python 3",
      "name": "python3"
    },
    "language_info": {
      "codemirror_mode": {
        "name": "ipython",
        "version": 3
      },
      "file_extension": ".py",
      "mimetype": "text/x-python",
      "name": "python",
      "nbconvert_exporter": "python",
      "pygments_lexer": "ipython3",
      "version": "3.11.0"
    },
    "colab": {
      "provenance": [],
      "include_colab_link": true
    },
    "widgets": {
      "application/vnd.jupyter.widget-state+json": {
        "900f19e4b0024a319457ccabb0f62f3e": {
          "model_module": "@jupyter-widgets/controls",
          "model_name": "HBoxModel",
          "model_module_version": "1.5.0",
          "state": {
            "_dom_classes": [],
            "_model_module": "@jupyter-widgets/controls",
            "_model_module_version": "1.5.0",
            "_model_name": "HBoxModel",
            "_view_count": null,
            "_view_module": "@jupyter-widgets/controls",
            "_view_module_version": "1.5.0",
            "_view_name": "HBoxView",
            "box_style": "",
            "children": [
              "IPY_MODEL_604eb40195204f9797fc66fe8521d07f",
              "IPY_MODEL_4ba04793daf54c5f8a17ce429b38aad7",
              "IPY_MODEL_5d52b442eb4b4788b8b40f1b174a0763"
            ],
            "layout": "IPY_MODEL_9bdaaa696a0744b8ba10b85a9be7095c"
          }
        },
        "604eb40195204f9797fc66fe8521d07f": {
          "model_module": "@jupyter-widgets/controls",
          "model_name": "HTMLModel",
          "model_module_version": "1.5.0",
          "state": {
            "_dom_classes": [],
            "_model_module": "@jupyter-widgets/controls",
            "_model_module_version": "1.5.0",
            "_model_name": "HTMLModel",
            "_view_count": null,
            "_view_module": "@jupyter-widgets/controls",
            "_view_module_version": "1.5.0",
            "_view_name": "HTMLView",
            "description": "",
            "description_tooltip": null,
            "layout": "IPY_MODEL_37b7544e18fc4f2b95ea1d3f9ea20d60",
            "placeholder": "​",
            "style": "IPY_MODEL_cda695e51f8d497c80bcdefdb26f24af",
            "value": "config.json: 100%"
          }
        },
        "4ba04793daf54c5f8a17ce429b38aad7": {
          "model_module": "@jupyter-widgets/controls",
          "model_name": "FloatProgressModel",
          "model_module_version": "1.5.0",
          "state": {
            "_dom_classes": [],
            "_model_module": "@jupyter-widgets/controls",
            "_model_module_version": "1.5.0",
            "_model_name": "FloatProgressModel",
            "_view_count": null,
            "_view_module": "@jupyter-widgets/controls",
            "_view_module_version": "1.5.0",
            "_view_name": "ProgressView",
            "bar_style": "success",
            "description": "",
            "description_tooltip": null,
            "layout": "IPY_MODEL_d6e9d15a1c9d46fb8f48329d1bb58484",
            "max": 1469,
            "min": 0,
            "orientation": "horizontal",
            "style": "IPY_MODEL_da14044efe244080a43598f7ca126701",
            "value": 1469
          }
        },
        "5d52b442eb4b4788b8b40f1b174a0763": {
          "model_module": "@jupyter-widgets/controls",
          "model_name": "HTMLModel",
          "model_module_version": "1.5.0",
          "state": {
            "_dom_classes": [],
            "_model_module": "@jupyter-widgets/controls",
            "_model_module_version": "1.5.0",
            "_model_name": "HTMLModel",
            "_view_count": null,
            "_view_module": "@jupyter-widgets/controls",
            "_view_module_version": "1.5.0",
            "_view_name": "HTMLView",
            "description": "",
            "description_tooltip": null,
            "layout": "IPY_MODEL_aeed719d36494970a8d4328424ddab1f",
            "placeholder": "​",
            "style": "IPY_MODEL_1380dc9702d649c482ad25df63fc9a0d",
            "value": " 1.47k/1.47k [00:00&lt;00:00, 84.3kB/s]"
          }
        },
        "9bdaaa696a0744b8ba10b85a9be7095c": {
          "model_module": "@jupyter-widgets/base",
          "model_name": "LayoutModel",
          "model_module_version": "1.2.0",
          "state": {
            "_model_module": "@jupyter-widgets/base",
            "_model_module_version": "1.2.0",
            "_model_name": "LayoutModel",
            "_view_count": null,
            "_view_module": "@jupyter-widgets/base",
            "_view_module_version": "1.2.0",
            "_view_name": "LayoutView",
            "align_content": null,
            "align_items": null,
            "align_self": null,
            "border": null,
            "bottom": null,
            "display": null,
            "flex": null,
            "flex_flow": null,
            "grid_area": null,
            "grid_auto_columns": null,
            "grid_auto_flow": null,
            "grid_auto_rows": null,
            "grid_column": null,
            "grid_gap": null,
            "grid_row": null,
            "grid_template_areas": null,
            "grid_template_columns": null,
            "grid_template_rows": null,
            "height": null,
            "justify_content": null,
            "justify_items": null,
            "left": null,
            "margin": null,
            "max_height": null,
            "max_width": null,
            "min_height": null,
            "min_width": null,
            "object_fit": null,
            "object_position": null,
            "order": null,
            "overflow": null,
            "overflow_x": null,
            "overflow_y": null,
            "padding": null,
            "right": null,
            "top": null,
            "visibility": null,
            "width": null
          }
        },
        "37b7544e18fc4f2b95ea1d3f9ea20d60": {
          "model_module": "@jupyter-widgets/base",
          "model_name": "LayoutModel",
          "model_module_version": "1.2.0",
          "state": {
            "_model_module": "@jupyter-widgets/base",
            "_model_module_version": "1.2.0",
            "_model_name": "LayoutModel",
            "_view_count": null,
            "_view_module": "@jupyter-widgets/base",
            "_view_module_version": "1.2.0",
            "_view_name": "LayoutView",
            "align_content": null,
            "align_items": null,
            "align_self": null,
            "border": null,
            "bottom": null,
            "display": null,
            "flex": null,
            "flex_flow": null,
            "grid_area": null,
            "grid_auto_columns": null,
            "grid_auto_flow": null,
            "grid_auto_rows": null,
            "grid_column": null,
            "grid_gap": null,
            "grid_row": null,
            "grid_template_areas": null,
            "grid_template_columns": null,
            "grid_template_rows": null,
            "height": null,
            "justify_content": null,
            "justify_items": null,
            "left": null,
            "margin": null,
            "max_height": null,
            "max_width": null,
            "min_height": null,
            "min_width": null,
            "object_fit": null,
            "object_position": null,
            "order": null,
            "overflow": null,
            "overflow_x": null,
            "overflow_y": null,
            "padding": null,
            "right": null,
            "top": null,
            "visibility": null,
            "width": null
          }
        },
        "cda695e51f8d497c80bcdefdb26f24af": {
          "model_module": "@jupyter-widgets/controls",
          "model_name": "DescriptionStyleModel",
          "model_module_version": "1.5.0",
          "state": {
            "_model_module": "@jupyter-widgets/controls",
            "_model_module_version": "1.5.0",
            "_model_name": "DescriptionStyleModel",
            "_view_count": null,
            "_view_module": "@jupyter-widgets/base",
            "_view_module_version": "1.2.0",
            "_view_name": "StyleView",
            "description_width": ""
          }
        },
        "d6e9d15a1c9d46fb8f48329d1bb58484": {
          "model_module": "@jupyter-widgets/base",
          "model_name": "LayoutModel",
          "model_module_version": "1.2.0",
          "state": {
            "_model_module": "@jupyter-widgets/base",
            "_model_module_version": "1.2.0",
            "_model_name": "LayoutModel",
            "_view_count": null,
            "_view_module": "@jupyter-widgets/base",
            "_view_module_version": "1.2.0",
            "_view_name": "LayoutView",
            "align_content": null,
            "align_items": null,
            "align_self": null,
            "border": null,
            "bottom": null,
            "display": null,
            "flex": null,
            "flex_flow": null,
            "grid_area": null,
            "grid_auto_columns": null,
            "grid_auto_flow": null,
            "grid_auto_rows": null,
            "grid_column": null,
            "grid_gap": null,
            "grid_row": null,
            "grid_template_areas": null,
            "grid_template_columns": null,
            "grid_template_rows": null,
            "height": null,
            "justify_content": null,
            "justify_items": null,
            "left": null,
            "margin": null,
            "max_height": null,
            "max_width": null,
            "min_height": null,
            "min_width": null,
            "object_fit": null,
            "object_position": null,
            "order": null,
            "overflow": null,
            "overflow_x": null,
            "overflow_y": null,
            "padding": null,
            "right": null,
            "top": null,
            "visibility": null,
            "width": null
          }
        },
        "da14044efe244080a43598f7ca126701": {
          "model_module": "@jupyter-widgets/controls",
          "model_name": "ProgressStyleModel",
          "model_module_version": "1.5.0",
          "state": {
            "_model_module": "@jupyter-widgets/controls",
            "_model_module_version": "1.5.0",
            "_model_name": "ProgressStyleModel",
            "_view_count": null,
            "_view_module": "@jupyter-widgets/base",
            "_view_module_version": "1.2.0",
            "_view_name": "StyleView",
            "bar_color": null,
            "description_width": ""
          }
        },
        "aeed719d36494970a8d4328424ddab1f": {
          "model_module": "@jupyter-widgets/base",
          "model_name": "LayoutModel",
          "model_module_version": "1.2.0",
          "state": {
            "_model_module": "@jupyter-widgets/base",
            "_model_module_version": "1.2.0",
            "_model_name": "LayoutModel",
            "_view_count": null,
            "_view_module": "@jupyter-widgets/base",
            "_view_module_version": "1.2.0",
            "_view_name": "LayoutView",
            "align_content": null,
            "align_items": null,
            "align_self": null,
            "border": null,
            "bottom": null,
            "display": null,
            "flex": null,
            "flex_flow": null,
            "grid_area": null,
            "grid_auto_columns": null,
            "grid_auto_flow": null,
            "grid_auto_rows": null,
            "grid_column": null,
            "grid_gap": null,
            "grid_row": null,
            "grid_template_areas": null,
            "grid_template_columns": null,
            "grid_template_rows": null,
            "height": null,
            "justify_content": null,
            "justify_items": null,
            "left": null,
            "margin": null,
            "max_height": null,
            "max_width": null,
            "min_height": null,
            "min_width": null,
            "object_fit": null,
            "object_position": null,
            "order": null,
            "overflow": null,
            "overflow_x": null,
            "overflow_y": null,
            "padding": null,
            "right": null,
            "top": null,
            "visibility": null,
            "width": null
          }
        },
        "1380dc9702d649c482ad25df63fc9a0d": {
          "model_module": "@jupyter-widgets/controls",
          "model_name": "DescriptionStyleModel",
          "model_module_version": "1.5.0",
          "state": {
            "_model_module": "@jupyter-widgets/controls",
            "_model_module_version": "1.5.0",
            "_model_name": "DescriptionStyleModel",
            "_view_count": null,
            "_view_module": "@jupyter-widgets/base",
            "_view_module_version": "1.2.0",
            "_view_name": "StyleView",
            "description_width": ""
          }
        },
        "8d50263de5494625a79e11663f01a2d8": {
          "model_module": "@jupyter-widgets/controls",
          "model_name": "HBoxModel",
          "model_module_version": "1.5.0",
          "state": {
            "_dom_classes": [],
            "_model_module": "@jupyter-widgets/controls",
            "_model_module_version": "1.5.0",
            "_model_name": "HBoxModel",
            "_view_count": null,
            "_view_module": "@jupyter-widgets/controls",
            "_view_module_version": "1.5.0",
            "_view_name": "HBoxView",
            "box_style": "",
            "children": [
              "IPY_MODEL_500ae660bcae4b26a9ed0c46fd742b0a",
              "IPY_MODEL_f705a157570e4fc9aa8e1f1ee0c6fd37",
              "IPY_MODEL_e91d36ed9aa1427299bef1556ec03eac"
            ],
            "layout": "IPY_MODEL_ba0a505757cd405ca4f66df5ece64a08"
          }
        },
        "500ae660bcae4b26a9ed0c46fd742b0a": {
          "model_module": "@jupyter-widgets/controls",
          "model_name": "HTMLModel",
          "model_module_version": "1.5.0",
          "state": {
            "_dom_classes": [],
            "_model_module": "@jupyter-widgets/controls",
            "_model_module_version": "1.5.0",
            "_model_name": "HTMLModel",
            "_view_count": null,
            "_view_module": "@jupyter-widgets/controls",
            "_view_module_version": "1.5.0",
            "_view_name": "HTMLView",
            "description": "",
            "description_tooltip": null,
            "layout": "IPY_MODEL_3b77206e8e94454094799113f6fcc6b5",
            "placeholder": "​",
            "style": "IPY_MODEL_f16199433eea42c6abb2688244230a2d",
            "value": "model.safetensors: 100%"
          }
        },
        "f705a157570e4fc9aa8e1f1ee0c6fd37": {
          "model_module": "@jupyter-widgets/controls",
          "model_name": "FloatProgressModel",
          "model_module_version": "1.5.0",
          "state": {
            "_dom_classes": [],
            "_model_module": "@jupyter-widgets/controls",
            "_model_module_version": "1.5.0",
            "_model_name": "FloatProgressModel",
            "_view_count": null,
            "_view_module": "@jupyter-widgets/controls",
            "_view_module_version": "1.5.0",
            "_view_name": "ProgressView",
            "bar_style": "success",
            "description": "",
            "description_tooltip": null,
            "layout": "IPY_MODEL_3a3473ef25e34f71a6058014d8e077f9",
            "max": 115434268,
            "min": 0,
            "orientation": "horizontal",
            "style": "IPY_MODEL_77c03223e4af4580833c1e0b8761d6c5",
            "value": 115434268
          }
        },
        "e91d36ed9aa1427299bef1556ec03eac": {
          "model_module": "@jupyter-widgets/controls",
          "model_name": "HTMLModel",
          "model_module_version": "1.5.0",
          "state": {
            "_dom_classes": [],
            "_model_module": "@jupyter-widgets/controls",
            "_model_module_version": "1.5.0",
            "_model_name": "HTMLModel",
            "_view_count": null,
            "_view_module": "@jupyter-widgets/controls",
            "_view_module_version": "1.5.0",
            "_view_name": "HTMLView",
            "description": "",
            "description_tooltip": null,
            "layout": "IPY_MODEL_b62373d0817148ce8677634483825a60",
            "placeholder": "​",
            "style": "IPY_MODEL_8cd3bdb19cbd487facd9170bad42988c",
            "value": " 115M/115M [00:00&lt;00:00, 189MB/s]"
          }
        },
        "ba0a505757cd405ca4f66df5ece64a08": {
          "model_module": "@jupyter-widgets/base",
          "model_name": "LayoutModel",
          "model_module_version": "1.2.0",
          "state": {
            "_model_module": "@jupyter-widgets/base",
            "_model_module_version": "1.2.0",
            "_model_name": "LayoutModel",
            "_view_count": null,
            "_view_module": "@jupyter-widgets/base",
            "_view_module_version": "1.2.0",
            "_view_name": "LayoutView",
            "align_content": null,
            "align_items": null,
            "align_self": null,
            "border": null,
            "bottom": null,
            "display": null,
            "flex": null,
            "flex_flow": null,
            "grid_area": null,
            "grid_auto_columns": null,
            "grid_auto_flow": null,
            "grid_auto_rows": null,
            "grid_column": null,
            "grid_gap": null,
            "grid_row": null,
            "grid_template_areas": null,
            "grid_template_columns": null,
            "grid_template_rows": null,
            "height": null,
            "justify_content": null,
            "justify_items": null,
            "left": null,
            "margin": null,
            "max_height": null,
            "max_width": null,
            "min_height": null,
            "min_width": null,
            "object_fit": null,
            "object_position": null,
            "order": null,
            "overflow": null,
            "overflow_x": null,
            "overflow_y": null,
            "padding": null,
            "right": null,
            "top": null,
            "visibility": null,
            "width": null
          }
        },
        "3b77206e8e94454094799113f6fcc6b5": {
          "model_module": "@jupyter-widgets/base",
          "model_name": "LayoutModel",
          "model_module_version": "1.2.0",
          "state": {
            "_model_module": "@jupyter-widgets/base",
            "_model_module_version": "1.2.0",
            "_model_name": "LayoutModel",
            "_view_count": null,
            "_view_module": "@jupyter-widgets/base",
            "_view_module_version": "1.2.0",
            "_view_name": "LayoutView",
            "align_content": null,
            "align_items": null,
            "align_self": null,
            "border": null,
            "bottom": null,
            "display": null,
            "flex": null,
            "flex_flow": null,
            "grid_area": null,
            "grid_auto_columns": null,
            "grid_auto_flow": null,
            "grid_auto_rows": null,
            "grid_column": null,
            "grid_gap": null,
            "grid_row": null,
            "grid_template_areas": null,
            "grid_template_columns": null,
            "grid_template_rows": null,
            "height": null,
            "justify_content": null,
            "justify_items": null,
            "left": null,
            "margin": null,
            "max_height": null,
            "max_width": null,
            "min_height": null,
            "min_width": null,
            "object_fit": null,
            "object_position": null,
            "order": null,
            "overflow": null,
            "overflow_x": null,
            "overflow_y": null,
            "padding": null,
            "right": null,
            "top": null,
            "visibility": null,
            "width": null
          }
        },
        "f16199433eea42c6abb2688244230a2d": {
          "model_module": "@jupyter-widgets/controls",
          "model_name": "DescriptionStyleModel",
          "model_module_version": "1.5.0",
          "state": {
            "_model_module": "@jupyter-widgets/controls",
            "_model_module_version": "1.5.0",
            "_model_name": "DescriptionStyleModel",
            "_view_count": null,
            "_view_module": "@jupyter-widgets/base",
            "_view_module_version": "1.2.0",
            "_view_name": "StyleView",
            "description_width": ""
          }
        },
        "3a3473ef25e34f71a6058014d8e077f9": {
          "model_module": "@jupyter-widgets/base",
          "model_name": "LayoutModel",
          "model_module_version": "1.2.0",
          "state": {
            "_model_module": "@jupyter-widgets/base",
            "_model_module_version": "1.2.0",
            "_model_name": "LayoutModel",
            "_view_count": null,
            "_view_module": "@jupyter-widgets/base",
            "_view_module_version": "1.2.0",
            "_view_name": "LayoutView",
            "align_content": null,
            "align_items": null,
            "align_self": null,
            "border": null,
            "bottom": null,
            "display": null,
            "flex": null,
            "flex_flow": null,
            "grid_area": null,
            "grid_auto_columns": null,
            "grid_auto_flow": null,
            "grid_auto_rows": null,
            "grid_column": null,
            "grid_gap": null,
            "grid_row": null,
            "grid_template_areas": null,
            "grid_template_columns": null,
            "grid_template_rows": null,
            "height": null,
            "justify_content": null,
            "justify_items": null,
            "left": null,
            "margin": null,
            "max_height": null,
            "max_width": null,
            "min_height": null,
            "min_width": null,
            "object_fit": null,
            "object_position": null,
            "order": null,
            "overflow": null,
            "overflow_x": null,
            "overflow_y": null,
            "padding": null,
            "right": null,
            "top": null,
            "visibility": null,
            "width": null
          }
        },
        "77c03223e4af4580833c1e0b8761d6c5": {
          "model_module": "@jupyter-widgets/controls",
          "model_name": "ProgressStyleModel",
          "model_module_version": "1.5.0",
          "state": {
            "_model_module": "@jupyter-widgets/controls",
            "_model_module_version": "1.5.0",
            "_model_name": "ProgressStyleModel",
            "_view_count": null,
            "_view_module": "@jupyter-widgets/base",
            "_view_module_version": "1.2.0",
            "_view_name": "StyleView",
            "bar_color": null,
            "description_width": ""
          }
        },
        "b62373d0817148ce8677634483825a60": {
          "model_module": "@jupyter-widgets/base",
          "model_name": "LayoutModel",
          "model_module_version": "1.2.0",
          "state": {
            "_model_module": "@jupyter-widgets/base",
            "_model_module_version": "1.2.0",
            "_model_name": "LayoutModel",
            "_view_count": null,
            "_view_module": "@jupyter-widgets/base",
            "_view_module_version": "1.2.0",
            "_view_name": "LayoutView",
            "align_content": null,
            "align_items": null,
            "align_self": null,
            "border": null,
            "bottom": null,
            "display": null,
            "flex": null,
            "flex_flow": null,
            "grid_area": null,
            "grid_auto_columns": null,
            "grid_auto_flow": null,
            "grid_auto_rows": null,
            "grid_column": null,
            "grid_gap": null,
            "grid_row": null,
            "grid_template_areas": null,
            "grid_template_columns": null,
            "grid_template_rows": null,
            "height": null,
            "justify_content": null,
            "justify_items": null,
            "left": null,
            "margin": null,
            "max_height": null,
            "max_width": null,
            "min_height": null,
            "min_width": null,
            "object_fit": null,
            "object_position": null,
            "order": null,
            "overflow": null,
            "overflow_x": null,
            "overflow_y": null,
            "padding": null,
            "right": null,
            "top": null,
            "visibility": null,
            "width": null
          }
        },
        "8cd3bdb19cbd487facd9170bad42988c": {
          "model_module": "@jupyter-widgets/controls",
          "model_name": "DescriptionStyleModel",
          "model_module_version": "1.5.0",
          "state": {
            "_model_module": "@jupyter-widgets/controls",
            "_model_module_version": "1.5.0",
            "_model_name": "DescriptionStyleModel",
            "_view_count": null,
            "_view_module": "@jupyter-widgets/base",
            "_view_module_version": "1.2.0",
            "_view_name": "StyleView",
            "description_width": ""
          }
        },
        "166909c19f524184a538be9935694c4d": {
          "model_module": "@jupyter-widgets/controls",
          "model_name": "HBoxModel",
          "model_module_version": "1.5.0",
          "state": {
            "_dom_classes": [],
            "_model_module": "@jupyter-widgets/controls",
            "_model_module_version": "1.5.0",
            "_model_name": "HBoxModel",
            "_view_count": null,
            "_view_module": "@jupyter-widgets/controls",
            "_view_module_version": "1.5.0",
            "_view_name": "HBoxView",
            "box_style": "",
            "children": [
              "IPY_MODEL_7b3e2008041c43e0b8ac5f1d9d160ba5",
              "IPY_MODEL_87221c2e2ec44dccb917b5269cd2cb1b",
              "IPY_MODEL_bf416d3e073b46f0a006c280bb549e17"
            ],
            "layout": "IPY_MODEL_30ba6a89b64f4b18873cff50c098b75c"
          }
        },
        "7b3e2008041c43e0b8ac5f1d9d160ba5": {
          "model_module": "@jupyter-widgets/controls",
          "model_name": "HTMLModel",
          "model_module_version": "1.5.0",
          "state": {
            "_dom_classes": [],
            "_model_module": "@jupyter-widgets/controls",
            "_model_module_version": "1.5.0",
            "_model_name": "HTMLModel",
            "_view_count": null,
            "_view_module": "@jupyter-widgets/controls",
            "_view_module_version": "1.5.0",
            "_view_name": "HTMLView",
            "description": "",
            "description_tooltip": null,
            "layout": "IPY_MODEL_9cf80c1eb31c4875b3f93615ea97d102",
            "placeholder": "​",
            "style": "IPY_MODEL_ad84924f31734c69994e465339f7ace8",
            "value": "model.safetensors: 100%"
          }
        },
        "87221c2e2ec44dccb917b5269cd2cb1b": {
          "model_module": "@jupyter-widgets/controls",
          "model_name": "FloatProgressModel",
          "model_module_version": "1.5.0",
          "state": {
            "_dom_classes": [],
            "_model_module": "@jupyter-widgets/controls",
            "_model_module_version": "1.5.0",
            "_model_name": "FloatProgressModel",
            "_view_count": null,
            "_view_module": "@jupyter-widgets/controls",
            "_view_module_version": "1.5.0",
            "_view_name": "ProgressView",
            "bar_style": "success",
            "description": "",
            "description_tooltip": null,
            "layout": "IPY_MODEL_1684de657eab4df8bffd9ab1c6a3d18c",
            "max": 46807446,
            "min": 0,
            "orientation": "horizontal",
            "style": "IPY_MODEL_12cec1197ff44de2a5b925fbfacb9657",
            "value": 46807446
          }
        },
        "bf416d3e073b46f0a006c280bb549e17": {
          "model_module": "@jupyter-widgets/controls",
          "model_name": "HTMLModel",
          "model_module_version": "1.5.0",
          "state": {
            "_dom_classes": [],
            "_model_module": "@jupyter-widgets/controls",
            "_model_module_version": "1.5.0",
            "_model_name": "HTMLModel",
            "_view_count": null,
            "_view_module": "@jupyter-widgets/controls",
            "_view_module_version": "1.5.0",
            "_view_name": "HTMLView",
            "description": "",
            "description_tooltip": null,
            "layout": "IPY_MODEL_5967634764ea47848cbd726963ced236",
            "placeholder": "​",
            "style": "IPY_MODEL_44ca1c6c9f594eaeb8b3e49f4562e64e",
            "value": " 46.8M/46.8M [00:00&lt;00:00, 171MB/s]"
          }
        },
        "30ba6a89b64f4b18873cff50c098b75c": {
          "model_module": "@jupyter-widgets/base",
          "model_name": "LayoutModel",
          "model_module_version": "1.2.0",
          "state": {
            "_model_module": "@jupyter-widgets/base",
            "_model_module_version": "1.2.0",
            "_model_name": "LayoutModel",
            "_view_count": null,
            "_view_module": "@jupyter-widgets/base",
            "_view_module_version": "1.2.0",
            "_view_name": "LayoutView",
            "align_content": null,
            "align_items": null,
            "align_self": null,
            "border": null,
            "bottom": null,
            "display": null,
            "flex": null,
            "flex_flow": null,
            "grid_area": null,
            "grid_auto_columns": null,
            "grid_auto_flow": null,
            "grid_auto_rows": null,
            "grid_column": null,
            "grid_gap": null,
            "grid_row": null,
            "grid_template_areas": null,
            "grid_template_columns": null,
            "grid_template_rows": null,
            "height": null,
            "justify_content": null,
            "justify_items": null,
            "left": null,
            "margin": null,
            "max_height": null,
            "max_width": null,
            "min_height": null,
            "min_width": null,
            "object_fit": null,
            "object_position": null,
            "order": null,
            "overflow": null,
            "overflow_x": null,
            "overflow_y": null,
            "padding": null,
            "right": null,
            "top": null,
            "visibility": null,
            "width": null
          }
        },
        "9cf80c1eb31c4875b3f93615ea97d102": {
          "model_module": "@jupyter-widgets/base",
          "model_name": "LayoutModel",
          "model_module_version": "1.2.0",
          "state": {
            "_model_module": "@jupyter-widgets/base",
            "_model_module_version": "1.2.0",
            "_model_name": "LayoutModel",
            "_view_count": null,
            "_view_module": "@jupyter-widgets/base",
            "_view_module_version": "1.2.0",
            "_view_name": "LayoutView",
            "align_content": null,
            "align_items": null,
            "align_self": null,
            "border": null,
            "bottom": null,
            "display": null,
            "flex": null,
            "flex_flow": null,
            "grid_area": null,
            "grid_auto_columns": null,
            "grid_auto_flow": null,
            "grid_auto_rows": null,
            "grid_column": null,
            "grid_gap": null,
            "grid_row": null,
            "grid_template_areas": null,
            "grid_template_columns": null,
            "grid_template_rows": null,
            "height": null,
            "justify_content": null,
            "justify_items": null,
            "left": null,
            "margin": null,
            "max_height": null,
            "max_width": null,
            "min_height": null,
            "min_width": null,
            "object_fit": null,
            "object_position": null,
            "order": null,
            "overflow": null,
            "overflow_x": null,
            "overflow_y": null,
            "padding": null,
            "right": null,
            "top": null,
            "visibility": null,
            "width": null
          }
        },
        "ad84924f31734c69994e465339f7ace8": {
          "model_module": "@jupyter-widgets/controls",
          "model_name": "DescriptionStyleModel",
          "model_module_version": "1.5.0",
          "state": {
            "_model_module": "@jupyter-widgets/controls",
            "_model_module_version": "1.5.0",
            "_model_name": "DescriptionStyleModel",
            "_view_count": null,
            "_view_module": "@jupyter-widgets/base",
            "_view_module_version": "1.2.0",
            "_view_name": "StyleView",
            "description_width": ""
          }
        },
        "1684de657eab4df8bffd9ab1c6a3d18c": {
          "model_module": "@jupyter-widgets/base",
          "model_name": "LayoutModel",
          "model_module_version": "1.2.0",
          "state": {
            "_model_module": "@jupyter-widgets/base",
            "_model_module_version": "1.2.0",
            "_model_name": "LayoutModel",
            "_view_count": null,
            "_view_module": "@jupyter-widgets/base",
            "_view_module_version": "1.2.0",
            "_view_name": "LayoutView",
            "align_content": null,
            "align_items": null,
            "align_self": null,
            "border": null,
            "bottom": null,
            "display": null,
            "flex": null,
            "flex_flow": null,
            "grid_area": null,
            "grid_auto_columns": null,
            "grid_auto_flow": null,
            "grid_auto_rows": null,
            "grid_column": null,
            "grid_gap": null,
            "grid_row": null,
            "grid_template_areas": null,
            "grid_template_columns": null,
            "grid_template_rows": null,
            "height": null,
            "justify_content": null,
            "justify_items": null,
            "left": null,
            "margin": null,
            "max_height": null,
            "max_width": null,
            "min_height": null,
            "min_width": null,
            "object_fit": null,
            "object_position": null,
            "order": null,
            "overflow": null,
            "overflow_x": null,
            "overflow_y": null,
            "padding": null,
            "right": null,
            "top": null,
            "visibility": null,
            "width": null
          }
        },
        "12cec1197ff44de2a5b925fbfacb9657": {
          "model_module": "@jupyter-widgets/controls",
          "model_name": "ProgressStyleModel",
          "model_module_version": "1.5.0",
          "state": {
            "_model_module": "@jupyter-widgets/controls",
            "_model_module_version": "1.5.0",
            "_model_name": "ProgressStyleModel",
            "_view_count": null,
            "_view_module": "@jupyter-widgets/base",
            "_view_module_version": "1.2.0",
            "_view_name": "StyleView",
            "bar_color": null,
            "description_width": ""
          }
        },
        "5967634764ea47848cbd726963ced236": {
          "model_module": "@jupyter-widgets/base",
          "model_name": "LayoutModel",
          "model_module_version": "1.2.0",
          "state": {
            "_model_module": "@jupyter-widgets/base",
            "_model_module_version": "1.2.0",
            "_model_name": "LayoutModel",
            "_view_count": null,
            "_view_module": "@jupyter-widgets/base",
            "_view_module_version": "1.2.0",
            "_view_name": "LayoutView",
            "align_content": null,
            "align_items": null,
            "align_self": null,
            "border": null,
            "bottom": null,
            "display": null,
            "flex": null,
            "flex_flow": null,
            "grid_area": null,
            "grid_auto_columns": null,
            "grid_auto_flow": null,
            "grid_auto_rows": null,
            "grid_column": null,
            "grid_gap": null,
            "grid_row": null,
            "grid_template_areas": null,
            "grid_template_columns": null,
            "grid_template_rows": null,
            "height": null,
            "justify_content": null,
            "justify_items": null,
            "left": null,
            "margin": null,
            "max_height": null,
            "max_width": null,
            "min_height": null,
            "min_width": null,
            "object_fit": null,
            "object_position": null,
            "order": null,
            "overflow": null,
            "overflow_x": null,
            "overflow_y": null,
            "padding": null,
            "right": null,
            "top": null,
            "visibility": null,
            "width": null
          }
        },
        "44ca1c6c9f594eaeb8b3e49f4562e64e": {
          "model_module": "@jupyter-widgets/controls",
          "model_name": "DescriptionStyleModel",
          "model_module_version": "1.5.0",
          "state": {
            "_model_module": "@jupyter-widgets/controls",
            "_model_module_version": "1.5.0",
            "_model_name": "DescriptionStyleModel",
            "_view_count": null,
            "_view_module": "@jupyter-widgets/base",
            "_view_module_version": "1.2.0",
            "_view_name": "StyleView",
            "description_width": ""
          }
        }
      }
    }
  },
  "nbformat": 4,
  "nbformat_minor": 5
}