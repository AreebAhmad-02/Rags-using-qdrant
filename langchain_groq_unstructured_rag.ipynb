{
  "cells": [
    {
      "cell_type": "markdown",
      "metadata": {
        "id": "view-in-github",
        "colab_type": "text"
      },
      "source": [
        "<a href=\"https://colab.research.google.com/github/AreebAhmad-02/Rags-using-qdrant/blob/main/langchain_groq_unstructured_rag.ipynb\" target=\"_parent\"><img src=\"https://colab.research.google.com/assets/colab-badge.svg\" alt=\"Open In Colab\"/></a>"
      ]
    },
    {
      "cell_type": "markdown",
      "id": "a77e4616-c43b-42d4-88bf-40eeaab5e6cf",
      "metadata": {
        "id": "a77e4616-c43b-42d4-88bf-40eeaab5e6cf"
      },
      "source": [
        "# Build Your Own Retrieval Augmented Generation (RAG) Bot\n",
        "\n",
        "\n",
        "\n",
        "## Tech used\n",
        "- LangChain [link](https://www.langchain.com/)\n",
        "- Unstructured [link](https://unstructured.io/)\n",
        "- LangSmith [link](https://smith.langchain.com/)\n",
        "- Qdrant Cloud [link](https://cloud.qdrant.io)\n",
        "- Groq API [link](https://console.groq.com/playground)\n",
        "- Llama3 via Groq API\n",
        "- Fastembed [link](https://github.com/qdrant/fastembed)\n",
        "\n",
        "## File type used\n",
        "- PDF\n",
        "- Markdown"
      ]
    },
    {
      "cell_type": "markdown",
      "id": "dc2f9ec6-b56b-444c-9d9f-6f0b39973450",
      "metadata": {
        "id": "dc2f9ec6-b56b-444c-9d9f-6f0b39973450"
      },
      "source": [
        "### Some important links\n",
        "- https://unstructured.io/\n",
        "- https://unstructured-io.github.io/unstructured/index.html\n",
        "- https://docs.unstructured.io/api-reference/api-services/python-sdk\n",
        "- https://www.deeplearning.ai/short-courses/preprocessing-unstructured-data-for-llm-applications/"
      ]
    },
    {
      "cell_type": "markdown",
      "id": "282b549f",
      "metadata": {
        "id": "282b549f"
      },
      "source": [
        "## Setup"
      ]
    },
    {
      "cell_type": "code",
      "execution_count": 1,
      "id": "2454abe1",
      "metadata": {
        "colab": {
          "base_uri": "https://localhost:8080/"
        },
        "id": "2454abe1",
        "outputId": "0157adc7-a764-4cc6-a504-f03a2642adab"
      },
      "outputs": [
        {
          "output_type": "stream",
          "name": "stdout",
          "text": [
            "Requirement already satisfied: unstructured[all-docs] in /usr/local/lib/python3.10/dist-packages (0.14.5)\n",
            "Requirement already satisfied: unstructured-client in /usr/local/lib/python3.10/dist-packages (0.23.3)\n",
            "Requirement already satisfied: watermark in /usr/local/lib/python3.10/dist-packages (2.4.3)\n",
            "Requirement already satisfied: langchain-groq in /usr/local/lib/python3.10/dist-packages (0.1.5)\n",
            "Requirement already satisfied: langchain in /usr/local/lib/python3.10/dist-packages (0.2.3)\n",
            "Requirement already satisfied: fastembed in /usr/local/lib/python3.10/dist-packages (0.3.0)\n",
            "Requirement already satisfied: qdrant_client in /usr/local/lib/python3.10/dist-packages (1.9.1)\n",
            "Requirement already satisfied: python-dotenv in /usr/local/lib/python3.10/dist-packages (1.0.1)\n",
            "Requirement already satisfied: chardet in /usr/local/lib/python3.10/dist-packages (from unstructured[all-docs]) (5.2.0)\n",
            "Requirement already satisfied: filetype in /usr/local/lib/python3.10/dist-packages (from unstructured[all-docs]) (1.2.0)\n",
            "Requirement already satisfied: python-magic in /usr/local/lib/python3.10/dist-packages (from unstructured[all-docs]) (0.4.27)\n",
            "Requirement already satisfied: lxml in /usr/local/lib/python3.10/dist-packages (from unstructured[all-docs]) (4.9.4)\n",
            "Requirement already satisfied: nltk in /usr/local/lib/python3.10/dist-packages (from unstructured[all-docs]) (3.8.1)\n",
            "Requirement already satisfied: tabulate in /usr/local/lib/python3.10/dist-packages (from unstructured[all-docs]) (0.9.0)\n",
            "Requirement already satisfied: requests in /usr/local/lib/python3.10/dist-packages (from unstructured[all-docs]) (2.31.0)\n",
            "Requirement already satisfied: beautifulsoup4 in /usr/local/lib/python3.10/dist-packages (from unstructured[all-docs]) (4.12.3)\n",
            "Requirement already satisfied: emoji in /usr/local/lib/python3.10/dist-packages (from unstructured[all-docs]) (2.12.1)\n",
            "Requirement already satisfied: dataclasses-json in /usr/local/lib/python3.10/dist-packages (from unstructured[all-docs]) (0.6.7)\n",
            "Requirement already satisfied: python-iso639 in /usr/local/lib/python3.10/dist-packages (from unstructured[all-docs]) (2024.4.27)\n",
            "Requirement already satisfied: langdetect in /usr/local/lib/python3.10/dist-packages (from unstructured[all-docs]) (1.0.9)\n",
            "Requirement already satisfied: numpy in /usr/local/lib/python3.10/dist-packages (from unstructured[all-docs]) (1.25.2)\n",
            "Requirement already satisfied: rapidfuzz in /usr/local/lib/python3.10/dist-packages (from unstructured[all-docs]) (3.9.3)\n",
            "Requirement already satisfied: backoff in /usr/local/lib/python3.10/dist-packages (from unstructured[all-docs]) (2.2.1)\n",
            "Requirement already satisfied: typing-extensions in /usr/local/lib/python3.10/dist-packages (from unstructured[all-docs]) (4.12.1)\n",
            "Requirement already satisfied: wrapt in /usr/local/lib/python3.10/dist-packages (from unstructured[all-docs]) (1.14.1)\n",
            "Requirement already satisfied: pandas in /usr/local/lib/python3.10/dist-packages (from unstructured[all-docs]) (2.0.3)\n",
            "Requirement already satisfied: python-oxmsg in /usr/local/lib/python3.10/dist-packages (from unstructured[all-docs]) (0.0.1)\n",
            "Requirement already satisfied: pypandoc in /usr/local/lib/python3.10/dist-packages (from unstructured[all-docs]) (1.13)\n",
            "Requirement already satisfied: markdown in /usr/local/lib/python3.10/dist-packages (from unstructured[all-docs]) (3.6)\n",
            "Requirement already satisfied: networkx in /usr/local/lib/python3.10/dist-packages (from unstructured[all-docs]) (3.3)\n",
            "Requirement already satisfied: pikepdf in /usr/local/lib/python3.10/dist-packages (from unstructured[all-docs]) (9.0.0)\n",
            "Requirement already satisfied: pdfminer.six in /usr/local/lib/python3.10/dist-packages (from unstructured[all-docs]) (20231228)\n",
            "Requirement already satisfied: pypdf in /usr/local/lib/python3.10/dist-packages (from unstructured[all-docs]) (4.2.0)\n",
            "Requirement already satisfied: xlrd in /usr/local/lib/python3.10/dist-packages (from unstructured[all-docs]) (2.0.1)\n",
            "Requirement already satisfied: onnx in /usr/local/lib/python3.10/dist-packages (from unstructured[all-docs]) (1.16.1)\n",
            "Requirement already satisfied: python-docx>=1.1.2 in /usr/local/lib/python3.10/dist-packages (from unstructured[all-docs]) (1.1.2)\n",
            "Requirement already satisfied: pytesseract in /usr/local/lib/python3.10/dist-packages (from unstructured[all-docs]) (0.3.10)\n",
            "Requirement already satisfied: google-cloud-vision in /usr/local/lib/python3.10/dist-packages (from unstructured[all-docs]) (2.7.2)\n",
            "Requirement already satisfied: unstructured.pytesseract>=0.3.12 in /usr/local/lib/python3.10/dist-packages (from unstructured[all-docs]) (0.3.12)\n",
            "Requirement already satisfied: openpyxl in /usr/local/lib/python3.10/dist-packages (from unstructured[all-docs]) (3.1.3)\n",
            "Requirement already satisfied: effdet in /usr/local/lib/python3.10/dist-packages (from unstructured[all-docs]) (0.4.1)\n",
            "Requirement already satisfied: pdf2image in /usr/local/lib/python3.10/dist-packages (from unstructured[all-docs]) (1.17.0)\n",
            "Requirement already satisfied: python-pptx<=0.6.23 in /usr/local/lib/python3.10/dist-packages (from unstructured[all-docs]) (0.6.23)\n",
            "Requirement already satisfied: unstructured-inference==0.7.33 in /usr/local/lib/python3.10/dist-packages (from unstructured[all-docs]) (0.7.33)\n",
            "Requirement already satisfied: pillow-heif in /usr/local/lib/python3.10/dist-packages (from unstructured[all-docs]) (0.16.0)\n",
            "Requirement already satisfied: layoutparser in /usr/local/lib/python3.10/dist-packages (from unstructured-inference==0.7.33->unstructured[all-docs]) (0.3.4)\n",
            "Requirement already satisfied: python-multipart in /usr/local/lib/python3.10/dist-packages (from unstructured-inference==0.7.33->unstructured[all-docs]) (0.0.9)\n",
            "Requirement already satisfied: huggingface-hub in /usr/local/lib/python3.10/dist-packages (from unstructured-inference==0.7.33->unstructured[all-docs]) (0.23.2)\n",
            "Requirement already satisfied: opencv-python!=4.7.0.68 in /usr/local/lib/python3.10/dist-packages (from unstructured-inference==0.7.33->unstructured[all-docs]) (4.8.0.76)\n",
            "Requirement already satisfied: onnxruntime>=1.17.0 in /usr/local/lib/python3.10/dist-packages (from unstructured-inference==0.7.33->unstructured[all-docs]) (1.18.0)\n",
            "Requirement already satisfied: matplotlib in /usr/local/lib/python3.10/dist-packages (from unstructured-inference==0.7.33->unstructured[all-docs]) (3.7.1)\n",
            "Requirement already satisfied: torch in /usr/local/lib/python3.10/dist-packages (from unstructured-inference==0.7.33->unstructured[all-docs]) (2.3.0+cu121)\n",
            "Requirement already satisfied: timm in /usr/local/lib/python3.10/dist-packages (from unstructured-inference==0.7.33->unstructured[all-docs]) (1.0.3)\n",
            "Requirement already satisfied: transformers>=4.25.1 in /usr/local/lib/python3.10/dist-packages (from unstructured-inference==0.7.33->unstructured[all-docs]) (4.41.2)\n",
            "Requirement already satisfied: certifi>=2023.7.22 in /usr/local/lib/python3.10/dist-packages (from unstructured-client) (2024.6.2)\n",
            "Requirement already satisfied: charset-normalizer>=3.2.0 in /usr/local/lib/python3.10/dist-packages (from unstructured-client) (3.3.2)\n",
            "Requirement already satisfied: deepdiff>=6.0 in /usr/local/lib/python3.10/dist-packages (from unstructured-client) (7.0.1)\n",
            "Requirement already satisfied: httpx>=0.27.0 in /usr/local/lib/python3.10/dist-packages (from unstructured-client) (0.27.0)\n",
            "Requirement already satisfied: idna>=3.4 in /usr/local/lib/python3.10/dist-packages (from unstructured-client) (3.7)\n",
            "Requirement already satisfied: jsonpath-python>=1.0.6 in /usr/local/lib/python3.10/dist-packages (from unstructured-client) (1.0.6)\n",
            "Requirement already satisfied: marshmallow>=3.19.0 in /usr/local/lib/python3.10/dist-packages (from unstructured-client) (3.21.3)\n",
            "Requirement already satisfied: mypy-extensions>=1.0.0 in /usr/local/lib/python3.10/dist-packages (from unstructured-client) (1.0.0)\n",
            "Requirement already satisfied: nest-asyncio>=1.6.0 in /usr/local/lib/python3.10/dist-packages (from unstructured-client) (1.6.0)\n",
            "Requirement already satisfied: packaging>=23.1 in /usr/local/lib/python3.10/dist-packages (from unstructured-client) (23.2)\n",
            "Requirement already satisfied: python-dateutil>=2.8.2 in /usr/local/lib/python3.10/dist-packages (from unstructured-client) (2.8.2)\n",
            "Requirement already satisfied: requests-toolbelt>=1.0.0 in /usr/local/lib/python3.10/dist-packages (from unstructured-client) (1.0.0)\n",
            "Requirement already satisfied: six>=1.16.0 in /usr/local/lib/python3.10/dist-packages (from unstructured-client) (1.16.0)\n",
            "Requirement already satisfied: typing-inspect>=0.9.0 in /usr/local/lib/python3.10/dist-packages (from unstructured-client) (0.9.0)\n",
            "Requirement already satisfied: urllib3>=1.26.18 in /usr/local/lib/python3.10/dist-packages (from unstructured-client) (2.0.7)\n",
            "Requirement already satisfied: ipython>=6.0 in /usr/local/lib/python3.10/dist-packages (from watermark) (7.34.0)\n",
            "Requirement already satisfied: importlib-metadata>=1.4 in /usr/local/lib/python3.10/dist-packages (from watermark) (7.1.0)\n",
            "Requirement already satisfied: setuptools in /usr/local/lib/python3.10/dist-packages (from watermark) (67.7.2)\n",
            "Requirement already satisfied: groq<1,>=0.4.1 in /usr/local/lib/python3.10/dist-packages (from langchain-groq) (0.8.0)\n",
            "Requirement already satisfied: langchain-core<0.3,>=0.1.45 in /usr/local/lib/python3.10/dist-packages (from langchain-groq) (0.2.5)\n",
            "Requirement already satisfied: PyYAML>=5.3 in /usr/local/lib/python3.10/dist-packages (from langchain) (6.0.1)\n",
            "Requirement already satisfied: SQLAlchemy<3,>=1.4 in /usr/local/lib/python3.10/dist-packages (from langchain) (2.0.30)\n",
            "Requirement already satisfied: aiohttp<4.0.0,>=3.8.3 in /usr/local/lib/python3.10/dist-packages (from langchain) (3.9.5)\n",
            "Requirement already satisfied: async-timeout<5.0.0,>=4.0.0 in /usr/local/lib/python3.10/dist-packages (from langchain) (4.0.3)\n",
            "Requirement already satisfied: langchain-text-splitters<0.3.0,>=0.2.0 in /usr/local/lib/python3.10/dist-packages (from langchain) (0.2.1)\n",
            "Requirement already satisfied: langsmith<0.2.0,>=0.1.17 in /usr/local/lib/python3.10/dist-packages (from langchain) (0.1.76)\n",
            "Requirement already satisfied: pydantic<3,>=1 in /usr/local/lib/python3.10/dist-packages (from langchain) (2.7.3)\n",
            "Requirement already satisfied: tenacity<9.0.0,>=8.1.0 in /usr/local/lib/python3.10/dist-packages (from langchain) (8.3.0)\n",
            "Requirement already satisfied: PyStemmer<3.0.0,>=2.2.0 in /usr/local/lib/python3.10/dist-packages (from fastembed) (2.2.0.1)\n",
            "Requirement already satisfied: loguru<0.8.0,>=0.7.2 in /usr/local/lib/python3.10/dist-packages (from fastembed) (0.7.2)\n",
            "Requirement already satisfied: mmh3<5.0,>=4.0 in /usr/local/lib/python3.10/dist-packages (from fastembed) (4.1.0)\n",
            "Requirement already satisfied: pillow<11.0.0,>=10.3.0 in /usr/local/lib/python3.10/dist-packages (from fastembed) (10.3.0)\n",
            "Requirement already satisfied: snowballstemmer<3.0.0,>=2.2.0 in /usr/local/lib/python3.10/dist-packages (from fastembed) (2.2.0)\n",
            "Requirement already satisfied: tokenizers<1.0,>=0.15 in /usr/local/lib/python3.10/dist-packages (from fastembed) (0.19.1)\n",
            "Requirement already satisfied: tqdm<5.0,>=4.66 in /usr/local/lib/python3.10/dist-packages (from fastembed) (4.66.4)\n",
            "Requirement already satisfied: grpcio>=1.41.0 in /usr/local/lib/python3.10/dist-packages (from qdrant_client) (1.64.1)\n",
            "Requirement already satisfied: grpcio-tools>=1.41.0 in /usr/local/lib/python3.10/dist-packages (from qdrant_client) (1.64.1)\n",
            "Requirement already satisfied: portalocker<3.0.0,>=2.7.0 in /usr/local/lib/python3.10/dist-packages (from qdrant_client) (2.8.2)\n",
            "Requirement already satisfied: aiosignal>=1.1.2 in /usr/local/lib/python3.10/dist-packages (from aiohttp<4.0.0,>=3.8.3->langchain) (1.3.1)\n",
            "Requirement already satisfied: attrs>=17.3.0 in /usr/local/lib/python3.10/dist-packages (from aiohttp<4.0.0,>=3.8.3->langchain) (23.2.0)\n",
            "Requirement already satisfied: frozenlist>=1.1.1 in /usr/local/lib/python3.10/dist-packages (from aiohttp<4.0.0,>=3.8.3->langchain) (1.4.1)\n",
            "Requirement already satisfied: multidict<7.0,>=4.5 in /usr/local/lib/python3.10/dist-packages (from aiohttp<4.0.0,>=3.8.3->langchain) (6.0.5)\n",
            "Requirement already satisfied: yarl<2.0,>=1.0 in /usr/local/lib/python3.10/dist-packages (from aiohttp<4.0.0,>=3.8.3->langchain) (1.9.4)\n",
            "Requirement already satisfied: ordered-set<4.2.0,>=4.1.0 in /usr/local/lib/python3.10/dist-packages (from deepdiff>=6.0->unstructured-client) (4.1.0)\n",
            "Requirement already satisfied: anyio<5,>=3.5.0 in /usr/local/lib/python3.10/dist-packages (from groq<1,>=0.4.1->langchain-groq) (3.7.1)\n",
            "Requirement already satisfied: distro<2,>=1.7.0 in /usr/lib/python3/dist-packages (from groq<1,>=0.4.1->langchain-groq) (1.7.0)\n",
            "Requirement already satisfied: sniffio in /usr/local/lib/python3.10/dist-packages (from groq<1,>=0.4.1->langchain-groq) (1.3.1)\n",
            "Requirement already satisfied: protobuf<6.0dev,>=5.26.1 in /usr/local/lib/python3.10/dist-packages (from grpcio-tools>=1.41.0->qdrant_client) (5.27.1)\n",
            "Requirement already satisfied: httpcore==1.* in /usr/local/lib/python3.10/dist-packages (from httpx>=0.27.0->unstructured-client) (1.0.5)\n",
            "Requirement already satisfied: h11<0.15,>=0.13 in /usr/local/lib/python3.10/dist-packages (from httpcore==1.*->httpx>=0.27.0->unstructured-client) (0.14.0)\n",
            "Requirement already satisfied: h2<5,>=3 in /usr/local/lib/python3.10/dist-packages (from httpx>=0.27.0->unstructured-client) (4.1.0)\n",
            "Requirement already satisfied: filelock in /usr/local/lib/python3.10/dist-packages (from huggingface-hub->unstructured-inference==0.7.33->unstructured[all-docs]) (3.14.0)\n",
            "Requirement already satisfied: fsspec>=2023.5.0 in /usr/local/lib/python3.10/dist-packages (from huggingface-hub->unstructured-inference==0.7.33->unstructured[all-docs]) (2023.6.0)\n",
            "Requirement already satisfied: zipp>=0.5 in /usr/local/lib/python3.10/dist-packages (from importlib-metadata>=1.4->watermark) (3.19.1)\n",
            "Requirement already satisfied: jedi>=0.16 in /usr/local/lib/python3.10/dist-packages (from ipython>=6.0->watermark) (0.19.1)\n",
            "Requirement already satisfied: decorator in /usr/local/lib/python3.10/dist-packages (from ipython>=6.0->watermark) (4.4.2)\n",
            "Requirement already satisfied: pickleshare in /usr/local/lib/python3.10/dist-packages (from ipython>=6.0->watermark) (0.7.5)\n",
            "Requirement already satisfied: traitlets>=4.2 in /usr/local/lib/python3.10/dist-packages (from ipython>=6.0->watermark) (5.7.1)\n",
            "Requirement already satisfied: prompt-toolkit!=3.0.0,!=3.0.1,<3.1.0,>=2.0.0 in /usr/local/lib/python3.10/dist-packages (from ipython>=6.0->watermark) (3.0.45)\n",
            "Requirement already satisfied: pygments in /usr/local/lib/python3.10/dist-packages (from ipython>=6.0->watermark) (2.16.1)\n",
            "Requirement already satisfied: backcall in /usr/local/lib/python3.10/dist-packages (from ipython>=6.0->watermark) (0.2.0)\n",
            "Requirement already satisfied: matplotlib-inline in /usr/local/lib/python3.10/dist-packages (from ipython>=6.0->watermark) (0.1.7)\n",
            "Requirement already satisfied: pexpect>4.3 in /usr/local/lib/python3.10/dist-packages (from ipython>=6.0->watermark) (4.9.0)\n",
            "Requirement already satisfied: jsonpatch<2.0,>=1.33 in /usr/local/lib/python3.10/dist-packages (from langchain-core<0.3,>=0.1.45->langchain-groq) (1.33)\n",
            "Requirement already satisfied: orjson<4.0.0,>=3.9.14 in /usr/local/lib/python3.10/dist-packages (from langsmith<0.2.0,>=0.1.17->langchain) (3.10.4)\n",
            "Requirement already satisfied: coloredlogs in /usr/local/lib/python3.10/dist-packages (from onnxruntime>=1.17.0->unstructured-inference==0.7.33->unstructured[all-docs]) (15.0.1)\n",
            "Requirement already satisfied: flatbuffers in /usr/local/lib/python3.10/dist-packages (from onnxruntime>=1.17.0->unstructured-inference==0.7.33->unstructured[all-docs]) (24.3.25)\n",
            "Requirement already satisfied: sympy in /usr/local/lib/python3.10/dist-packages (from onnxruntime>=1.17.0->unstructured-inference==0.7.33->unstructured[all-docs]) (1.12.1)\n",
            "Requirement already satisfied: annotated-types>=0.4.0 in /usr/local/lib/python3.10/dist-packages (from pydantic<3,>=1->langchain) (0.7.0)\n",
            "Requirement already satisfied: pydantic-core==2.18.4 in /usr/local/lib/python3.10/dist-packages (from pydantic<3,>=1->langchain) (2.18.4)\n",
            "Requirement already satisfied: XlsxWriter>=0.5.7 in /usr/local/lib/python3.10/dist-packages (from python-pptx<=0.6.23->unstructured[all-docs]) (3.2.0)\n",
            "Requirement already satisfied: greenlet!=0.4.17 in /usr/local/lib/python3.10/dist-packages (from SQLAlchemy<3,>=1.4->langchain) (3.0.3)\n",
            "Requirement already satisfied: soupsieve>1.2 in /usr/local/lib/python3.10/dist-packages (from beautifulsoup4->unstructured[all-docs]) (2.5)\n",
            "Requirement already satisfied: torchvision in /usr/local/lib/python3.10/dist-packages (from effdet->unstructured[all-docs]) (0.18.0+cu121)\n",
            "Requirement already satisfied: pycocotools>=2.0.2 in /usr/local/lib/python3.10/dist-packages (from effdet->unstructured[all-docs]) (2.0.7)\n",
            "Requirement already satisfied: omegaconf>=2.0 in /usr/local/lib/python3.10/dist-packages (from effdet->unstructured[all-docs]) (2.3.0)\n",
            "Requirement already satisfied: google-api-core[grpc]!=2.0.*,!=2.1.*,!=2.2.*,!=2.3.0,<3.0.0dev,>=1.31.5 in /usr/local/lib/python3.10/dist-packages (from google-cloud-vision->unstructured[all-docs]) (2.8.0)\n",
            "Requirement already satisfied: proto-plus>=1.15.0 in /usr/local/lib/python3.10/dist-packages (from google-cloud-vision->unstructured[all-docs]) (1.20.4)\n",
            "Requirement already satisfied: click in /usr/local/lib/python3.10/dist-packages (from nltk->unstructured[all-docs]) (8.1.7)\n",
            "Requirement already satisfied: joblib in /usr/local/lib/python3.10/dist-packages (from nltk->unstructured[all-docs]) (1.4.2)\n",
            "Requirement already satisfied: regex>=2021.8.3 in /usr/local/lib/python3.10/dist-packages (from nltk->unstructured[all-docs]) (2024.5.15)\n",
            "Requirement already satisfied: et-xmlfile in /usr/local/lib/python3.10/dist-packages (from openpyxl->unstructured[all-docs]) (1.1.0)\n",
            "Requirement already satisfied: pytz>=2020.1 in /usr/local/lib/python3.10/dist-packages (from pandas->unstructured[all-docs]) (2023.4)\n",
            "Requirement already satisfied: tzdata>=2022.1 in /usr/local/lib/python3.10/dist-packages (from pandas->unstructured[all-docs]) (2024.1)\n",
            "Requirement already satisfied: cryptography>=36.0.0 in /usr/local/lib/python3.10/dist-packages (from pdfminer.six->unstructured[all-docs]) (42.0.7)\n",
            "Requirement already satisfied: Deprecated in /usr/local/lib/python3.10/dist-packages (from pikepdf->unstructured[all-docs]) (1.2.14)\n",
            "Requirement already satisfied: olefile in /usr/local/lib/python3.10/dist-packages (from python-oxmsg->unstructured[all-docs]) (0.47)\n",
            "Requirement already satisfied: exceptiongroup in /usr/local/lib/python3.10/dist-packages (from anyio<5,>=3.5.0->groq<1,>=0.4.1->langchain-groq) (1.2.1)\n",
            "Requirement already satisfied: cffi>=1.12 in /usr/local/lib/python3.10/dist-packages (from cryptography>=36.0.0->pdfminer.six->unstructured[all-docs]) (1.16.0)\n",
            "Requirement already satisfied: googleapis-common-protos<2.0dev,>=1.52.0 in /usr/local/lib/python3.10/dist-packages (from google-api-core[grpc]!=2.0.*,!=2.1.*,!=2.2.*,!=2.3.0,<3.0.0dev,>=1.31.5->google-cloud-vision->unstructured[all-docs]) (1.63.1)\n",
            "Requirement already satisfied: google-auth<3.0dev,>=1.25.0 in /usr/local/lib/python3.10/dist-packages (from google-api-core[grpc]!=2.0.*,!=2.1.*,!=2.2.*,!=2.3.0,<3.0.0dev,>=1.31.5->google-cloud-vision->unstructured[all-docs]) (2.27.0)\n",
            "Requirement already satisfied: grpcio-status<2.0dev,>=1.33.2 in /usr/local/lib/python3.10/dist-packages (from google-api-core[grpc]!=2.0.*,!=2.1.*,!=2.2.*,!=2.3.0,<3.0.0dev,>=1.31.5->google-cloud-vision->unstructured[all-docs]) (1.48.2)\n",
            "Requirement already satisfied: hyperframe<7,>=6.0 in /usr/local/lib/python3.10/dist-packages (from h2<5,>=3->httpx>=0.27.0->unstructured-client) (6.0.1)\n",
            "Requirement already satisfied: hpack<5,>=4.0 in /usr/local/lib/python3.10/dist-packages (from h2<5,>=3->httpx>=0.27.0->unstructured-client) (4.0.0)\n",
            "Requirement already satisfied: parso<0.9.0,>=0.8.3 in /usr/local/lib/python3.10/dist-packages (from jedi>=0.16->ipython>=6.0->watermark) (0.8.4)\n",
            "Requirement already satisfied: jsonpointer>=1.9 in /usr/local/lib/python3.10/dist-packages (from jsonpatch<2.0,>=1.33->langchain-core<0.3,>=0.1.45->langchain-groq) (3.0.0)\n",
            "Requirement already satisfied: antlr4-python3-runtime==4.9.* in /usr/local/lib/python3.10/dist-packages (from omegaconf>=2.0->effdet->unstructured[all-docs]) (4.9.3)\n",
            "Requirement already satisfied: ptyprocess>=0.5 in /usr/local/lib/python3.10/dist-packages (from pexpect>4.3->ipython>=6.0->watermark) (0.7.0)\n",
            "Requirement already satisfied: wcwidth in /usr/local/lib/python3.10/dist-packages (from prompt-toolkit!=3.0.0,!=3.0.1,<3.1.0,>=2.0.0->ipython>=6.0->watermark) (0.2.13)\n",
            "Requirement already satisfied: contourpy>=1.0.1 in /usr/local/lib/python3.10/dist-packages (from matplotlib->unstructured-inference==0.7.33->unstructured[all-docs]) (1.2.1)\n",
            "Requirement already satisfied: cycler>=0.10 in /usr/local/lib/python3.10/dist-packages (from matplotlib->unstructured-inference==0.7.33->unstructured[all-docs]) (0.12.1)\n",
            "Requirement already satisfied: fonttools>=4.22.0 in /usr/local/lib/python3.10/dist-packages (from matplotlib->unstructured-inference==0.7.33->unstructured[all-docs]) (4.53.0)\n",
            "Requirement already satisfied: kiwisolver>=1.0.1 in /usr/local/lib/python3.10/dist-packages (from matplotlib->unstructured-inference==0.7.33->unstructured[all-docs]) (1.4.5)\n",
            "Requirement already satisfied: pyparsing>=2.3.1 in /usr/local/lib/python3.10/dist-packages (from matplotlib->unstructured-inference==0.7.33->unstructured[all-docs]) (3.1.2)\n",
            "Requirement already satisfied: safetensors in /usr/local/lib/python3.10/dist-packages (from timm->unstructured-inference==0.7.33->unstructured[all-docs]) (0.4.3)\n",
            "Requirement already satisfied: jinja2 in /usr/local/lib/python3.10/dist-packages (from torch->unstructured-inference==0.7.33->unstructured[all-docs]) (3.1.4)\n",
            "Requirement already satisfied: nvidia-cuda-nvrtc-cu12==12.1.105 in /usr/local/lib/python3.10/dist-packages (from torch->unstructured-inference==0.7.33->unstructured[all-docs]) (12.1.105)\n",
            "Requirement already satisfied: nvidia-cuda-runtime-cu12==12.1.105 in /usr/local/lib/python3.10/dist-packages (from torch->unstructured-inference==0.7.33->unstructured[all-docs]) (12.1.105)\n",
            "Requirement already satisfied: nvidia-cuda-cupti-cu12==12.1.105 in /usr/local/lib/python3.10/dist-packages (from torch->unstructured-inference==0.7.33->unstructured[all-docs]) (12.1.105)\n",
            "Requirement already satisfied: nvidia-cudnn-cu12==8.9.2.26 in /usr/local/lib/python3.10/dist-packages (from torch->unstructured-inference==0.7.33->unstructured[all-docs]) (8.9.2.26)\n",
            "Requirement already satisfied: nvidia-cublas-cu12==12.1.3.1 in /usr/local/lib/python3.10/dist-packages (from torch->unstructured-inference==0.7.33->unstructured[all-docs]) (12.1.3.1)\n",
            "Requirement already satisfied: nvidia-cufft-cu12==11.0.2.54 in /usr/local/lib/python3.10/dist-packages (from torch->unstructured-inference==0.7.33->unstructured[all-docs]) (11.0.2.54)\n",
            "Requirement already satisfied: nvidia-curand-cu12==10.3.2.106 in /usr/local/lib/python3.10/dist-packages (from torch->unstructured-inference==0.7.33->unstructured[all-docs]) (10.3.2.106)\n",
            "Requirement already satisfied: nvidia-cusolver-cu12==11.4.5.107 in /usr/local/lib/python3.10/dist-packages (from torch->unstructured-inference==0.7.33->unstructured[all-docs]) (11.4.5.107)\n",
            "Requirement already satisfied: nvidia-cusparse-cu12==12.1.0.106 in /usr/local/lib/python3.10/dist-packages (from torch->unstructured-inference==0.7.33->unstructured[all-docs]) (12.1.0.106)\n",
            "Requirement already satisfied: nvidia-nccl-cu12==2.20.5 in /usr/local/lib/python3.10/dist-packages (from torch->unstructured-inference==0.7.33->unstructured[all-docs]) (2.20.5)\n",
            "Requirement already satisfied: nvidia-nvtx-cu12==12.1.105 in /usr/local/lib/python3.10/dist-packages (from torch->unstructured-inference==0.7.33->unstructured[all-docs]) (12.1.105)\n",
            "Requirement already satisfied: triton==2.3.0 in /usr/local/lib/python3.10/dist-packages (from torch->unstructured-inference==0.7.33->unstructured[all-docs]) (2.3.0)\n",
            "Requirement already satisfied: nvidia-nvjitlink-cu12 in /usr/local/lib/python3.10/dist-packages (from nvidia-cusolver-cu12==11.4.5.107->torch->unstructured-inference==0.7.33->unstructured[all-docs]) (12.5.40)\n",
            "Requirement already satisfied: humanfriendly>=9.1 in /usr/local/lib/python3.10/dist-packages (from coloredlogs->onnxruntime>=1.17.0->unstructured-inference==0.7.33->unstructured[all-docs]) (10.0)\n",
            "Requirement already satisfied: scipy in /usr/local/lib/python3.10/dist-packages (from layoutparser->unstructured-inference==0.7.33->unstructured[all-docs]) (1.11.4)\n",
            "Requirement already satisfied: iopath in /usr/local/lib/python3.10/dist-packages (from layoutparser->unstructured-inference==0.7.33->unstructured[all-docs]) (0.1.10)\n",
            "Requirement already satisfied: pdfplumber in /usr/local/lib/python3.10/dist-packages (from layoutparser->unstructured-inference==0.7.33->unstructured[all-docs]) (0.11.0)\n",
            "Requirement already satisfied: mpmath<1.4.0,>=1.1.0 in /usr/local/lib/python3.10/dist-packages (from sympy->onnxruntime>=1.17.0->unstructured-inference==0.7.33->unstructured[all-docs]) (1.3.0)\n",
            "Requirement already satisfied: pycparser in /usr/local/lib/python3.10/dist-packages (from cffi>=1.12->cryptography>=36.0.0->pdfminer.six->unstructured[all-docs]) (2.22)\n",
            "Requirement already satisfied: cachetools<6.0,>=2.0.0 in /usr/local/lib/python3.10/dist-packages (from google-auth<3.0dev,>=1.25.0->google-api-core[grpc]!=2.0.*,!=2.1.*,!=2.2.*,!=2.3.0,<3.0.0dev,>=1.31.5->google-cloud-vision->unstructured[all-docs]) (5.3.3)\n",
            "Requirement already satisfied: pyasn1-modules>=0.2.1 in /usr/local/lib/python3.10/dist-packages (from google-auth<3.0dev,>=1.25.0->google-api-core[grpc]!=2.0.*,!=2.1.*,!=2.2.*,!=2.3.0,<3.0.0dev,>=1.31.5->google-cloud-vision->unstructured[all-docs]) (0.4.0)\n",
            "Requirement already satisfied: rsa<5,>=3.1.4 in /usr/local/lib/python3.10/dist-packages (from google-auth<3.0dev,>=1.25.0->google-api-core[grpc]!=2.0.*,!=2.1.*,!=2.2.*,!=2.3.0,<3.0.0dev,>=1.31.5->google-cloud-vision->unstructured[all-docs]) (4.9)\n",
            "Requirement already satisfied: MarkupSafe>=2.0 in /usr/local/lib/python3.10/dist-packages (from jinja2->torch->unstructured-inference==0.7.33->unstructured[all-docs]) (2.1.5)\n",
            "Requirement already satisfied: pypdfium2>=4.18.0 in /usr/local/lib/python3.10/dist-packages (from pdfplumber->layoutparser->unstructured-inference==0.7.33->unstructured[all-docs]) (4.30.0)\n",
            "Requirement already satisfied: pyasn1<0.7.0,>=0.4.6 in /usr/local/lib/python3.10/dist-packages (from pyasn1-modules>=0.2.1->google-auth<3.0dev,>=1.25.0->google-api-core[grpc]!=2.0.*,!=2.1.*,!=2.2.*,!=2.3.0,<3.0.0dev,>=1.31.5->google-cloud-vision->unstructured[all-docs]) (0.6.0)\n"
          ]
        }
      ],
      "source": [
        "#%%capture\n",
        "!pip install \"unstructured[all-docs]\" unstructured-client watermark langchain-groq langchain fastembed qdrant_client python-dotenv"
      ]
    },
    {
      "cell_type": "code",
      "source": [
        "# Install Requirements\n",
        "!apt-get -qq install poppler-utils tesseract-ocr\n",
        "# Upgrade Pillow to latest version\n",
        "%pip install -q --user --upgrade pillow"
      ],
      "metadata": {
        "colab": {
          "base_uri": "https://localhost:8080/"
        },
        "id": "rC9tdyjhtDHt",
        "outputId": "f1c6ba63-6004-478e-f2a6-1afd1368a80b"
      },
      "id": "rC9tdyjhtDHt",
      "execution_count": 2,
      "outputs": [
        {
          "output_type": "stream",
          "name": "stdout",
          "text": [
            "Selecting previously unselected package poppler-utils.\n",
            "(Reading database ... 121913 files and directories currently installed.)\n",
            "Preparing to unpack .../poppler-utils_22.02.0-2ubuntu0.4_amd64.deb ...\n",
            "Unpacking poppler-utils (22.02.0-2ubuntu0.4) ...\n",
            "Selecting previously unselected package tesseract-ocr-eng.\n",
            "Preparing to unpack .../tesseract-ocr-eng_1%3a4.00~git30-7274cfa-1.1_all.deb ...\n",
            "Unpacking tesseract-ocr-eng (1:4.00~git30-7274cfa-1.1) ...\n",
            "Selecting previously unselected package tesseract-ocr-osd.\n",
            "Preparing to unpack .../tesseract-ocr-osd_1%3a4.00~git30-7274cfa-1.1_all.deb ...\n",
            "Unpacking tesseract-ocr-osd (1:4.00~git30-7274cfa-1.1) ...\n",
            "Selecting previously unselected package tesseract-ocr.\n",
            "Preparing to unpack .../tesseract-ocr_4.1.1-2.1build1_amd64.deb ...\n",
            "Unpacking tesseract-ocr (4.1.1-2.1build1) ...\n",
            "Setting up tesseract-ocr-eng (1:4.00~git30-7274cfa-1.1) ...\n",
            "Setting up tesseract-ocr-osd (1:4.00~git30-7274cfa-1.1) ...\n",
            "Setting up poppler-utils (22.02.0-2ubuntu0.4) ...\n",
            "Setting up tesseract-ocr (4.1.1-2.1build1) ...\n",
            "Processing triggers for man-db (2.10.2-1) ...\n"
          ]
        }
      ]
    },
    {
      "cell_type": "code",
      "execution_count": 18,
      "id": "44c93749",
      "metadata": {
        "id": "44c93749",
        "colab": {
          "base_uri": "https://localhost:8080/"
        },
        "outputId": "fa6e0e3b-d591-4a90-c5d6-edbc1da99afa"
      },
      "outputs": [
        {
          "output_type": "stream",
          "name": "stdout",
          "text": [
            "The watermark extension is already loaded. To reload it, use:\n",
            "  %reload_ext watermark\n"
          ]
        }
      ],
      "source": [
        "%load_ext watermark"
      ]
    },
    {
      "cell_type": "code",
      "execution_count": 19,
      "id": "30697566-ee92-47f1-a8eb-c17848e9a03b",
      "metadata": {
        "id": "30697566-ee92-47f1-a8eb-c17848e9a03b"
      },
      "outputs": [],
      "source": [
        "# Warning control\n",
        "import warnings\n",
        "warnings.filterwarnings('ignore')"
      ]
    },
    {
      "cell_type": "code",
      "execution_count": null,
      "id": "916a2cac-7bc8-4cd8-ae26-3d1076e8384b",
      "metadata": {
        "id": "916a2cac-7bc8-4cd8-ae26-3d1076e8384b"
      },
      "outputs": [],
      "source": [
        "from unstructured.chunking.title import chunk_by_title\n",
        "from unstructured.partition.md import partition_md\n",
        "from unstructured.partition.pdf import partition_pdf\n",
        "from unstructured.staging.base import dict_to_elements"
      ]
    },
    {
      "cell_type": "code",
      "execution_count": null,
      "id": "edc87392",
      "metadata": {
        "id": "edc87392"
      },
      "outputs": [],
      "source": [
        "#import langchain, groq, fastembed, qdrant_client, unstructured"
      ]
    },
    {
      "cell_type": "code",
      "execution_count": 20,
      "id": "2a74718c",
      "metadata": {
        "colab": {
          "base_uri": "https://localhost:8080/"
        },
        "id": "2a74718c",
        "outputId": "54527711-d4ad-4315-feb4-e671c64adc1a"
      },
      "outputs": [
        {
          "output_type": "stream",
          "name": "stdout",
          "text": [
            "google      : 2.0.3\n",
            "unstructured: 0.14.5\n",
            "\n"
          ]
        }
      ],
      "source": [
        "%watermark --iversions"
      ]
    },
    {
      "cell_type": "code",
      "execution_count": 21,
      "id": "6588244d",
      "metadata": {
        "colab": {
          "base_uri": "https://localhost:8080/"
        },
        "id": "6588244d",
        "outputId": "849757b7-0b0f-4f92-c983-536c7d8423f1"
      },
      "outputs": [
        {
          "output_type": "stream",
          "name": "stdout",
          "text": [
            "Help on package unstructured.partition in unstructured:\n",
            "\n",
            "NAME\n",
            "    unstructured.partition\n",
            "\n",
            "PACKAGE CONTENTS\n",
            "    api\n",
            "    auto\n",
            "    common\n",
            "    csv\n",
            "    doc\n",
            "    docx\n",
            "    email\n",
            "    epub\n",
            "    html\n",
            "    image\n",
            "    json\n",
            "    lang\n",
            "    md\n",
            "    model_init\n",
            "    msg\n",
            "    odt\n",
            "    org\n",
            "    pdf\n",
            "    pdf_image (package)\n",
            "    ppt\n",
            "    pptx\n",
            "    rst\n",
            "    rtf\n",
            "    strategies\n",
            "    text\n",
            "    text_type\n",
            "    tsv\n",
            "    utils (package)\n",
            "    xlsx\n",
            "    xml\n",
            "\n",
            "FILE\n",
            "    /usr/local/lib/python3.10/dist-packages/unstructured/partition/__init__.py\n",
            "\n",
            "\n"
          ]
        }
      ],
      "source": [
        "import unstructured.partition\n",
        "\n",
        "help(unstructured.partition)"
      ]
    },
    {
      "cell_type": "markdown",
      "id": "76132dfe-7360-4147-a5b1-0e571917e08b",
      "metadata": {
        "id": "76132dfe-7360-4147-a5b1-0e571917e08b"
      },
      "source": [
        "## Preprocess the PDF"
      ]
    },
    {
      "cell_type": "code",
      "execution_count": 26,
      "id": "7be519e2",
      "metadata": {
        "id": "7be519e2"
      },
      "outputs": [],
      "source": [
        "partition_pdf??"
      ]
    },
    {
      "cell_type": "code",
      "source": [
        "import os.path\n",
        "from google.colab import files\n",
        "# Specify the path to your file\n",
        "filename = \"/content/data/The_Alchemist.pdf\"\n",
        "\n",
        "\n",
        "\n",
        "\n",
        "# Check if the file exists\n",
        "if os.path.exists(filename):\n",
        "    print(\"The file exists.\")\n",
        "else:\n",
        "    print(\"The file does not exist.\")"
      ],
      "metadata": {
        "colab": {
          "base_uri": "https://localhost:8080/"
        },
        "id": "BLb613-nj2_e",
        "outputId": "2bd65311-2bf4-4931-c12e-7402a5cb68a0"
      },
      "id": "BLb613-nj2_e",
      "execution_count": 29,
      "outputs": [
        {
          "output_type": "stream",
          "name": "stdout",
          "text": [
            "The file exists.\n"
          ]
        }
      ]
    },
    {
      "cell_type": "code",
      "source": [
        "!pip install poppler"
      ],
      "metadata": {
        "colab": {
          "base_uri": "https://localhost:8080/"
        },
        "id": "_GQ37zmDpooI",
        "outputId": "294f670e-2aaa-4579-9506-d90bcf78b1f4"
      },
      "id": "_GQ37zmDpooI",
      "execution_count": 30,
      "outputs": [
        {
          "output_type": "stream",
          "name": "stdout",
          "text": [
            "\u001b[31mERROR: Could not find a version that satisfies the requirement poppler (from versions: none)\u001b[0m\u001b[31m\n",
            "\u001b[0m\u001b[31mERROR: No matching distribution found for poppler\u001b[0m\u001b[31m\n",
            "\u001b[0m"
          ]
        }
      ]
    },
    {
      "cell_type": "code",
      "source": [
        "!pip install poppler-utils\n"
      ],
      "metadata": {
        "colab": {
          "base_uri": "https://localhost:8080/"
        },
        "id": "NPNqGjE3mMe9",
        "outputId": "80ede05c-c9bd-462d-8aee-fc921517da6f"
      },
      "id": "NPNqGjE3mMe9",
      "execution_count": null,
      "outputs": [
        {
          "output_type": "stream",
          "name": "stdout",
          "text": [
            "Requirement already satisfied: poppler-utils in /usr/local/lib/python3.10/dist-packages (0.1.0)\n",
            "Requirement already satisfied: Click>=7.0 in /usr/local/lib/python3.10/dist-packages (from poppler-utils) (8.1.7)\n"
          ]
        }
      ]
    },
    {
      "cell_type": "code",
      "source": [
        "poppler --version"
      ],
      "metadata": {
        "colab": {
          "base_uri": "https://localhost:8080/",
          "height": 141
        },
        "id": "QnCNy2UBmQ9S",
        "outputId": "03e98d4b-69fa-479e-8500-51c7764e1a67"
      },
      "id": "QnCNy2UBmQ9S",
      "execution_count": null,
      "outputs": [
        {
          "output_type": "error",
          "ename": "NameError",
          "evalue": "name 'poppler' is not defined",
          "traceback": [
            "\u001b[0;31m---------------------------------------------------------------------------\u001b[0m",
            "\u001b[0;31mNameError\u001b[0m                                 Traceback (most recent call last)",
            "\u001b[0;32m<ipython-input-12-d86dcf6f5abc>\u001b[0m in \u001b[0;36m<cell line: 1>\u001b[0;34m()\u001b[0m\n\u001b[0;32m----> 1\u001b[0;31m \u001b[0mpoppler\u001b[0m \u001b[0;34m-\u001b[0m\u001b[0;34m-\u001b[0m\u001b[0mversion\u001b[0m\u001b[0;34m\u001b[0m\u001b[0;34m\u001b[0m\u001b[0m\n\u001b[0m",
            "\u001b[0;31mNameError\u001b[0m: name 'poppler' is not defined"
          ]
        }
      ]
    },
    {
      "cell_type": "code",
      "execution_count": null,
      "id": "9b75d977-7d80-427d-9b24-4fcf1384fc7f",
      "metadata": {
        "id": "9b75d977-7d80-427d-9b24-4fcf1384fc7f"
      },
      "outputs": [],
      "source": [
        "from unstructured.partition.pdf import partition_pdf\n",
        "\n",
        "# Specify the path to your PDF file\n",
        "filename = \"/content/data/The_Alchemist.pdf\"\n",
        "\n",
        "#path = \"images\"\n",
        "\n",
        "# Extract images, tables, and chunk text\n",
        "pdf_elements = partition_pdf(\n",
        "    filename=filename,\n",
        "    extract_images_in_pdf=True,\n",
        "    strategy = \"hi_res\",\n",
        "    # hi_res_model_name=\"yolox\",\n",
        "    infer_table_structure=True,\n",
        "    chunking_strategy=\"by_title\",\n",
        "    # max_characters=3000,\n",
        "    new_after_n_chars=3000,\n",
        "    combine_text_under_n_chars=200,\n",
        "    #extract_image_block_output_dir=path,\n",
        ")"
      ]
    },
    {
      "cell_type": "code",
      "execution_count": null,
      "id": "2b035bac",
      "metadata": {
        "id": "2b035bac",
        "outputId": "f86c9638-1843-403c-a234-b7f2f71f4887"
      },
      "outputs": [
        {
          "data": {
            "text/plain": [
              "{\"<class 'unstructured.documents.elements.CompositeElement'>\": 15,\n",
              " \"<class 'unstructured.documents.elements.TableChunk'>\": 2}"
            ]
          },
          "execution_count": 12,
          "metadata": {},
          "output_type": "execute_result"
        }
      ],
      "source": [
        "# Create a dictionary to store counts of each type\n",
        "category_counts = {}\n",
        "\n",
        "for element in pdf_elements:\n",
        "    category = str(type(element))\n",
        "    if category in category_counts:\n",
        "        category_counts[category] += 1\n",
        "    else:\n",
        "        category_counts[category] = 1\n",
        "\n",
        "# Unique_categories will have unique elements\n",
        "unique_categories = set(category_counts.keys())\n",
        "category_counts"
      ]
    },
    {
      "cell_type": "code",
      "execution_count": null,
      "id": "e196d030",
      "metadata": {
        "id": "e196d030",
        "outputId": "e83bd0b0-02ed-48eb-c2c9-51705667ec51"
      },
      "outputs": [
        {
          "name": "stdout",
          "output_type": "stream",
          "text": [
            "{'Table', 'CompositeElement'}\n"
          ]
        }
      ],
      "source": [
        "element_dict = [el.to_dict() for el in pdf_elements]\n",
        "\n",
        "unique_types = set()\n",
        "\n",
        "for item in element_dict:\n",
        "    unique_types.add(item['type'])\n",
        "\n",
        "print(unique_types)"
      ]
    },
    {
      "cell_type": "code",
      "execution_count": null,
      "id": "0cda6772",
      "metadata": {
        "id": "0cda6772",
        "outputId": "219c90de-176f-47f5-f1ee-9c9e84f0b138"
      },
      "outputs": [
        {
          "name": "stdout",
          "output_type": "stream",
          "text": [
            "{\"<class 'unstructured.documents.elements.CompositeElement'>\": 15, \"<class 'unstructured.documents.elements.TableChunk'>\": 2, \"<class 'unstructured.documents.elements.Text'>\": 11, \"<class 'unstructured.documents.elements.Header'>\": 1, \"<class 'unstructured.documents.elements.Title'>\": 22, \"<class 'unstructured.documents.elements.NarrativeText'>\": 32, \"<class 'unstructured.documents.elements.Footer'>\": 1, \"<class 'unstructured.documents.elements.Image'>\": 6, \"<class 'unstructured.documents.elements.FigureCaption'>\": 2, \"<class 'unstructured.documents.elements.Table'>\": 1, \"<class 'unstructured.documents.elements.ListItem'>\": 29}\n",
            "{'Title', 'UncategorizedText', 'Footer', 'Table', 'FigureCaption', 'NarrativeText', 'ListItem', 'Header', 'Image'}\n"
          ]
        }
      ],
      "source": [
        "# Extract images, tables, and chunk text\n",
        "pdf_elements = partition_pdf(\n",
        "    filename=filename,\n",
        "    extract_images_in_pdf=False,\n",
        "    strategy = \"hi_res\",\n",
        "    hi_res_model_name=\"yolox\",\n",
        "    infer_table_structure=True,\n",
        "    #chunking_strategy=\"by_title\",\n",
        "    max_characters=3000,\n",
        "    #new_after_n_chars=3800,\n",
        "    combine_text_under_n_chars=200,\n",
        "    #extract_image_block_output_dir=path,\n",
        ")\n",
        "\n",
        "for element in pdf_elements:\n",
        "    category = str(type(element))\n",
        "    if category in category_counts:\n",
        "        category_counts[category] += 1\n",
        "    else:\n",
        "        category_counts[category] = 1\n",
        "\n",
        "# Unique_categories will have unique elements\n",
        "unique_categories = set(category_counts.keys())\n",
        "print(category_counts)\n",
        "\n",
        "element_dict = [el.to_dict() for el in pdf_elements]\n",
        "\n",
        "unique_types = set()\n",
        "\n",
        "for item in element_dict:\n",
        "    unique_types.add(item['type'])\n",
        "\n",
        "print(unique_types)"
      ]
    },
    {
      "cell_type": "code",
      "execution_count": null,
      "id": "8ed8e92e-5d85-4d9e-9867-6ed8a190b9d5",
      "metadata": {
        "id": "8ed8e92e-5d85-4d9e-9867-6ed8a190b9d5",
        "outputId": "9911ecef-c14f-490c-d8bb-8f377ff77ca1"
      },
      "outputs": [
        {
          "data": {
            "text/plain": [
              "{'type': 'UncategorizedText',\n",
              " 'element_id': 'b0c5cfcf93a217591e27d5c97845f59b',\n",
              " 'text': '3 2 0 2',\n",
              " 'metadata': {'coordinates': {'points': ((45.388888888888886,\n",
              "     732.8055555555557),\n",
              "    (45.388888888888886, 843.9166666666669),\n",
              "    (100.94444444444446, 843.9166666666669),\n",
              "    (100.94444444444446, 732.8055555555557)),\n",
              "   'system': 'PixelSpace',\n",
              "   'layout_width': 1654,\n",
              "   'layout_height': 2339},\n",
              "  'last_modified': '2024-05-03T13:31:00',\n",
              "  'filetype': 'application/pdf',\n",
              "  'languages': ['eng'],\n",
              "  'page_number': 1,\n",
              "  'file_directory': 'data',\n",
              "  'filename': 'gpt4all.pdf'}}"
            ]
          },
          "execution_count": 15,
          "metadata": {},
          "output_type": "execute_result"
        }
      ],
      "source": [
        "pdf_elements[0].to_dict()"
      ]
    },
    {
      "cell_type": "code",
      "execution_count": null,
      "id": "f50942e5-33e4-43d9-ad89-a3840a944ed8",
      "metadata": {
        "id": "f50942e5-33e4-43d9-ad89-a3840a944ed8"
      },
      "outputs": [],
      "source": [
        "tables = [el for el in pdf_elements if el.category == \"Table\"]"
      ]
    },
    {
      "cell_type": "code",
      "execution_count": null,
      "id": "a733c9d8-d6a5-4bad-8ba0-b1393165b6e7",
      "metadata": {
        "id": "a733c9d8-d6a5-4bad-8ba0-b1393165b6e7"
      },
      "outputs": [],
      "source": [
        "table_html = tables[0].metadata.text_as_html"
      ]
    },
    {
      "cell_type": "code",
      "execution_count": null,
      "id": "27481fdb-e8d1-430d-8919-46205765c044",
      "metadata": {
        "id": "27481fdb-e8d1-430d-8919-46205765c044",
        "outputId": "315defc6-2cff-4bc3-b23b-9d8063e3a077"
      },
      "outputs": [
        {
          "name": "stdout",
          "output_type": "stream",
          "text": [
            "<table>\n",
            "  <thead>\n",
            "    <th>Model</th>\n",
            "    <th>BoolQ</th>\n",
            "    <th>PIQA</th>\n",
            "    <th>HellaSwag</th>\n",
            "    <th>WinoG.</th>\n",
            "    <th>ARC-e</th>\n",
            "    <th>ARC-c</th>\n",
            "    <th>OBQA</th>\n",
            "    <th>Avg.</th>\n",
            "  </thead>\n",
            "  <tr>\n",
            "    <td>GPT4AII-J 6B v1.0*</td>\n",
            "    <td>73.4</td>\n",
            "    <td>74.8</td>\n",
            "    <td>63.4</td>\n",
            "    <td>64.7</td>\n",
            "    <td>54.9</td>\n",
            "    <td>36</td>\n",
            "    <td>40.2</td>\n",
            "    <td>58.2</td>\n",
            "  </tr>\n",
            "  <tr>\n",
            "    <td>GPT4AIl-J v1.1-breezy*</td>\n",
            "    <td>74</td>\n",
            "    <td>75.1</td>\n",
            "    <td>63.2</td>\n",
            "    <td>63.6</td>\n",
            "    <td>55.4</td>\n",
            "    <td>34.9</td>\n",
            "    <td>38.4</td>\n",
            "    <td>57.8</td>\n",
            "  </tr>\n",
            "  <tr>\n",
            "    <td>GPT4AII-J v1.2-jazzy*</td>\n",
            "    <td>74.8</td>\n",
            "    <td>74.9</td>\n",
            "    <td>63.6</td>\n",
            "    <td>63.8</td>\n",
            "    <td>56.6</td>\n",
            "    <td>35.3</td>\n",
            "    <td>41</td>\n",
            "    <td>58.6</td>\n",
            "  </tr>\n",
            "  <tr>\n",
            "    <td>GPT4AII-J v1.3-groovy*</td>\n",
            "    <td>73.6</td>\n",
            "    <td>74.3</td>\n",
            "    <td>63.8</td>\n",
            "    <td>63.5</td>\n",
            "    <td>57.7</td>\n",
            "    <td>35</td>\n",
            "    <td>38.8</td>\n",
            "    <td>58.1</td>\n",
            "  </tr>\n",
            "  <tr>\n",
            "    <td>GPT4AII-J Lora 6B*</td>\n",
            "    <td>68.6</td>\n",
            "    <td>75.8</td>\n",
            "    <td>66.2</td>\n",
            "    <td>63.5</td>\n",
            "    <td>56.4</td>\n",
            "    <td>35.7</td>\n",
            "    <td>40.2</td>\n",
            "    <td>58.1</td>\n",
            "  </tr>\n",
            "  <tr>\n",
            "    <td>GPT4All LLaMa Lora 7B*</td>\n",
            "    <td>73.1</td>\n",
            "    <td>771.6</td>\n",
            "    <td>72.1</td>\n",
            "    <td>67.8</td>\n",
            "    <td>S11</td>\n",
            "    <td>40.4</td>\n",
            "    <td>40.2</td>\n",
            "    <td>60.3</td>\n",
            "  </tr>\n",
            "  <tr>\n",
            "    <td>GPT4AIl 13B snoozy*</td>\n",
            "    <td>83.3</td>\n",
            "    <td>79.2</td>\n",
            "    <td>75</td>\n",
            "    <td>71.3</td>\n",
            "    <td>60.9</td>\n",
            "    <td>44.2</td>\n",
            "    <td>43.4</td>\n",
            "    <td>65.3</td>\n",
            "  </tr>\n",
            "  <tr>\n",
            "    <td>GPT4All Falcon</td>\n",
            "    <td>771.6</td>\n",
            "    <td>79.8</td>\n",
            "    <td>74.9</td>\n",
            "    <td>70.1</td>\n",
            "    <td>67.9</td>\n",
            "    <td>43.4</td>\n",
            "    <td>42.6</td>\n",
            "    <td>65.2</td>\n",
            "  </tr>\n",
            "  <tr>\n",
            "    <td>Nous-Hermes (Nous-Research, 2023b)</td>\n",
            "    <td>79.5</td>\n",
            "    <td>78.9</td>\n",
            "    <td>80</td>\n",
            "    <td>71.9</td>\n",
            "    <td>74.2</td>\n",
            "    <td>50.9</td>\n",
            "    <td>46.4</td>\n",
            "    <td>68.8</td>\n",
            "  </tr>\n",
            "  <tr>\n",
            "    <td>Nous-Hermes2 (Nous-Research, 2023c)</td>\n",
            "    <td>83.9</td>\n",
            "    <td>80.7</td>\n",
            "    <td>80.1</td>\n",
            "    <td>71.3</td>\n",
            "    <td>75.7</td>\n",
            "    <td>52.1</td>\n",
            "    <td>46.2</td>\n",
            "    <td>70.0</td>\n",
            "  </tr>\n",
            "  <tr>\n",
            "    <td>Nous-Puffin (Nous-Research, 2023d)</td>\n",
            "    <td>81.5</td>\n",
            "    <td>80.7</td>\n",
            "    <td>80.4</td>\n",
            "    <td>72.5</td>\n",
            "    <td>77.6</td>\n",
            "    <td>50.7</td>\n",
            "    <td>45.6</td>\n",
            "    <td>69.9</td>\n",
            "  </tr>\n",
            "  <tr>\n",
            "    <td>6B* (Conover et al., 2023a)</td>\n",
            "    <td>68.8</td>\n",
            "    <td>77.3</td>\n",
            "    <td/>\n",
            "    <td>63.9</td>\n",
            "    <td>62.9</td>\n",
            "    <td>38.7</td>\n",
            "    <td>412</td>\n",
            "    <td>60.1</td>\n",
            "  </tr>\n",
            "  <tr>\n",
            "    <td>Dolly</td>\n",
            "    <td/>\n",
            "    <td/>\n",
            "    <td/>\n",
            "    <td/>\n",
            "    <td/>\n",
            "    <td/>\n",
            "    <td/>\n",
            "    <td/>\n",
            "  </tr>\n",
            "  <tr>\n",
            "    <td>Dolly 12B* (Conover et al., 2023b)</td>\n",
            "    <td>56.7</td>\n",
            "    <td>75.4</td>\n",
            "    <td/>\n",
            "    <td>62.2</td>\n",
            "    <td>64.6</td>\n",
            "    <td>38.5</td>\n",
            "    <td>40.4</td>\n",
            "    <td>58.4</td>\n",
            "  </tr>\n",
            "  <tr>\n",
            "    <td>Alpaca 7B* (Taori et al., 2023)</td>\n",
            "    <td>73.9</td>\n",
            "    <td>77.2</td>\n",
            "    <td/>\n",
            "    <td>66.1</td>\n",
            "    <td>59.8</td>\n",
            "    <td>43.3</td>\n",
            "    <td>43.4</td>\n",
            "    <td>62.5</td>\n",
            "  </tr>\n",
            "  <tr>\n",
            "    <td>Alpaca Lora 7B* (Wang, 2023)</td>\n",
            "    <td>74.3</td>\n",
            "    <td>79.3</td>\n",
            "    <td/>\n",
            "    <td>68.8</td>\n",
            "    <td>56.6</td>\n",
            "    <td>43.9</td>\n",
            "    <td>42.6</td>\n",
            "    <td>62.8</td>\n",
            "  </tr>\n",
            "  <tr>\n",
            "    <td>GPT-J* 6.7B and Komatsuzaki,</td>\n",
            "    <td>65.4</td>\n",
            "    <td>76.2</td>\n",
            "    <td/>\n",
            "    <td>64.1</td>\n",
            "    <td>62.2</td>\n",
            "    <td>36.6</td>\n",
            "    <td>38.2</td>\n",
            "    <td>58.4</td>\n",
            "  </tr>\n",
            "  <tr>\n",
            "    <td>(Wang 2021)</td>\n",
            "    <td/>\n",
            "    <td/>\n",
            "    <td/>\n",
            "    <td/>\n",
            "    <td/>\n",
            "    <td/>\n",
            "    <td/>\n",
            "    <td/>\n",
            "  </tr>\n",
            "  <tr>\n",
            "    <td>LLama 7B* (Touvron et al., 2023)</td>\n",
            "    <td>73.1</td>\n",
            "    <td>714</td>\n",
            "    <td/>\n",
            "    <td>66.9</td>\n",
            "    <td>52.5</td>\n",
            "    <td>41.4</td>\n",
            "    <td>42.4</td>\n",
            "    <td>61.0</td>\n",
            "  </tr>\n",
            "  <tr>\n",
            "    <td>LLama 13B* (Touvron et al., 2023)</td>\n",
            "    <td>68.5</td>\n",
            "    <td>79.1</td>\n",
            "    <td/>\n",
            "    <td>70.1</td>\n",
            "    <td>60</td>\n",
            "    <td>44.6</td>\n",
            "    <td>42.2</td>\n",
            "    <td>63.0</td>\n",
            "  </tr>\n",
            "  <tr>\n",
            "    <td>Pythia 6.7B* (Biderman et al., 2023)</td>\n",
            "    <td>63.5</td>\n",
            "    <td>76.3</td>\n",
            "    <td/>\n",
            "    <td>61.1</td>\n",
            "    <td>61.3</td>\n",
            "    <td>35.2</td>\n",
            "    <td>37.2</td>\n",
            "    <td>56.9</td>\n",
            "  </tr>\n",
            "  <tr>\n",
            "    <td>Pythia 12B* (Biderman et al., 2023)</td>\n",
            "    <td>67.7</td>\n",
            "    <td>76.6</td>\n",
            "    <td/>\n",
            "    <td>63.8</td>\n",
            "    <td>63.9</td>\n",
            "    <td>34.8</td>\n",
            "    <td>38</td>\n",
            "    <td>58.9</td>\n",
            "  </tr>\n",
            "  <tr>\n",
            "    <td>Fastchat T5* (Zheng et al., 2023)</td>\n",
            "    <td>81.5</td>\n",
            "    <td>64.6</td>\n",
            "    <td/>\n",
            "    <td>61.8</td>\n",
            "    <td>49.3</td>\n",
            "    <td>33.3</td>\n",
            "    <td>39.4</td>\n",
            "    <td>53.7</td>\n",
            "  </tr>\n",
            "  <tr>\n",
            "    <td>Fastchat Vicufia* 7B (Zheng et al., 2023)</td>\n",
            "    <td>76.6</td>\n",
            "    <td>77.2</td>\n",
            "    <td/>\n",
            "    <td>67.3</td>\n",
            "    <td>53.5</td>\n",
            "    <td>41.2</td>\n",
            "    <td>40.8</td>\n",
            "    <td>61.0</td>\n",
            "  </tr>\n",
            "  <tr>\n",
            "    <td>Fastchat Vicufia 13B* et al., 2023)</td>\n",
            "    <td>81.5</td>\n",
            "    <td>76.8</td>\n",
            "    <td/>\n",
            "    <td>66.7</td>\n",
            "    <td>57.4</td>\n",
            "    <td>42.7</td>\n",
            "    <td>43.6</td>\n",
            "    <td>63.1</td>\n",
            "  </tr>\n",
            "  <tr>\n",
            "    <td>(Zheng</td>\n",
            "    <td/>\n",
            "    <td/>\n",
            "    <td/>\n",
            "    <td/>\n",
            "    <td/>\n",
            "    <td/>\n",
            "    <td/>\n",
            "    <td/>\n",
            "  </tr>\n",
            "  <tr>\n",
            "    <td>StableVicufia RLHF* (Stability-AI, 2023)</td>\n",
            "    <td>82.3</td>\n",
            "    <td>78.6</td>\n",
            "    <td/>\n",
            "    <td>70.9</td>\n",
            "    <td>61</td>\n",
            "    <td>43.5</td>\n",
            "    <td>44.4</td>\n",
            "    <td>65.0</td>\n",
            "  </tr>\n",
            "  <tr>\n",
            "    <td>StableLM Tuned* (Stability-AI, 2023)</td>\n",
            "    <td>62.5</td>\n",
            "    <td>71.2</td>\n",
            "    <td/>\n",
            "    <td>54.8</td>\n",
            "    <td>52.4</td>\n",
            "    <td>31.1</td>\n",
            "    <td>33.4</td>\n",
            "    <td>51.3</td>\n",
            "  </tr>\n",
            "  <tr>\n",
            "    <td>StableLM Base* (Stability-AI, 2023)</td>\n",
            "    <td>60.1</td>\n",
            "    <td>67.4</td>\n",
            "    <td/>\n",
            "    <td>50.1</td>\n",
            "    <td>44.9</td>\n",
            "    <td>27</td>\n",
            "    <td>32</td>\n",
            "    <td>46.1</td>\n",
            "  </tr>\n",
            "  <tr>\n",
            "    <td>Koala 13B* (Geng et al., 2023)</td>\n",
            "    <td>76.5</td>\n",
            "    <td>7719</td>\n",
            "    <td/>\n",
            "    <td>68.8</td>\n",
            "    <td>54.3</td>\n",
            "    <td>4l</td>\n",
            "    <td>42.8</td>\n",
            "    <td>62.0</td>\n",
            "  </tr>\n",
            "  <tr>\n",
            "    <td>Open Assistant Pythia 12B*</td>\n",
            "    <td>67.9</td>\n",
            "    <td>78</td>\n",
            "    <td/>\n",
            "    <td>65</td>\n",
            "    <td>64.2</td>\n",
            "    <td>40.4</td>\n",
            "    <td>43.2</td>\n",
            "    <td>61.0</td>\n",
            "  </tr>\n",
            "  <tr>\n",
            "    <td>Mosaic MPT7B (MosaicML-Team, 2023)</td>\n",
            "    <td>74.8</td>\n",
            "    <td>79.3</td>\n",
            "    <td/>\n",
            "    <td>68.6</td>\n",
            "    <td>70</td>\n",
            "    <td>42.2</td>\n",
            "    <td>42.6</td>\n",
            "    <td>64.8</td>\n",
            "  </tr>\n",
            "  <tr>\n",
            "    <td>Mosaic mpt-instruct (MosaicML-Team, 2023)</td>\n",
            "    <td>74.3</td>\n",
            "    <td>80.4</td>\n",
            "    <td/>\n",
            "    <td>67.8</td>\n",
            "    <td>72.2</td>\n",
            "    <td>44.6</td>\n",
            "    <td>4B</td>\n",
            "    <td>65.6</td>\n",
            "  </tr>\n",
            "  <tr>\n",
            "    <td>Mosaic mpt-chat (MosaicML-Team, 2023)</td>\n",
            "    <td>771</td>\n",
            "    <td>78.2</td>\n",
            "    <td/>\n",
            "    <td>67.5</td>\n",
            "    <td>69.4</td>\n",
            "    <td>43.3</td>\n",
            "    <td>44.2</td>\n",
            "    <td>64.9</td>\n",
            "  </tr>\n",
            "  <tr>\n",
            "    <td>Wizard 7B (Xu et al., 2023)</td>\n",
            "    <td>78.4</td>\n",
            "    <td>77.2</td>\n",
            "    <td/>\n",
            "    <td>66.5</td>\n",
            "    <td>56.8</td>\n",
            "    <td>40.5</td>\n",
            "    <td>42.6</td>\n",
            "    <td>61.7</td>\n",
            "  </tr>\n",
            "  <tr>\n",
            "    <td>Wizard 7B Uncensored (Xu et al., 2023)</td>\n",
            "    <td>777</td>\n",
            "    <td>74.2</td>\n",
            "    <td/>\n",
            "    <td>65.2</td>\n",
            "    <td>53.5</td>\n",
            "    <td>38.7</td>\n",
            "    <td>41.6</td>\n",
            "    <td>59.8</td>\n",
            "  </tr>\n",
            "  <tr>\n",
            "    <td>Wizard 13B Uncensored (Xu et al., 2023)</td>\n",
            "    <td>78.4</td>\n",
            "    <td>75.5</td>\n",
            "    <td/>\n",
            "    <td>69.5</td>\n",
            "    <td>57.5</td>\n",
            "    <td>40.4</td>\n",
            "    <td>44</td>\n",
            "    <td>62.5</td>\n",
            "  </tr>\n",
            "  <tr>\n",
            "    <td>GPT4-x-Vicuna-13b (Nous-Research, 2023a)</td>\n",
            "    <td>81.3</td>\n",
            "    <td>75</td>\n",
            "    <td/>\n",
            "    <td>65</td>\n",
            "    <td>58.7</td>\n",
            "    <td>43.9</td>\n",
            "    <td>43.6</td>\n",
            "    <td>63.2</td>\n",
            "  </tr>\n",
            "  <tr>\n",
            "    <td>Falcon 7b (Almazrouei et al., 2023)</td>\n",
            "    <td>73.6</td>\n",
            "    <td>80.7</td>\n",
            "    <td/>\n",
            "    <td>67.3</td>\n",
            "    <td>71</td>\n",
            "    <td>43.3</td>\n",
            "    <td>44.4</td>\n",
            "    <td>65.2</td>\n",
            "  </tr>\n",
            "  <tr>\n",
            "    <td>Falcon 7b instruct (Almazrouei et al., 2023)</td>\n",
            "    <td>70.9</td>\n",
            "    <td>78.6</td>\n",
            "    <td/>\n",
            "    <td>66.7</td>\n",
            "    <td>67.9</td>\n",
            "    <td>42.7</td>\n",
            "    <td>412</td>\n",
            "    <td>62.5</td>\n",
            "  </tr>\n",
            "</table>\n",
            "\n"
          ]
        }
      ],
      "source": [
        "from io import StringIO\n",
        "from lxml import etree\n",
        "\n",
        "parser = etree.XMLParser(remove_blank_text=True)\n",
        "file_obj = StringIO(table_html)\n",
        "tree = etree.parse(file_obj, parser)\n",
        "print(etree.tostring(tree, pretty_print=True).decode())"
      ]
    },
    {
      "cell_type": "code",
      "execution_count": null,
      "id": "ffd80c89-5c09-4b89-b36b-9017d334499a",
      "metadata": {
        "id": "ffd80c89-5c09-4b89-b36b-9017d334499a"
      },
      "outputs": [],
      "source": [
        "# Find the element with text \"References\" and category \"Title\"\n",
        "reference_title = [\n",
        "    el for el in pdf_elements\n",
        "    if el.text == \"References\"\n",
        "    and el.category == \"Title\"\n",
        "][0]"
      ]
    },
    {
      "cell_type": "code",
      "execution_count": null,
      "id": "7c16d2b4-2039-4f08-ac63-9a4f27d0bc1f",
      "metadata": {
        "id": "7c16d2b4-2039-4f08-ac63-9a4f27d0bc1f",
        "outputId": "e8d1904e-9986-494c-b1cf-13f5a17bb7a2"
      },
      "outputs": [
        {
          "data": {
            "text/plain": [
              "{'type': 'Title',\n",
              " 'element_id': 'd3f115969fa159c8ae83287b2de7a62e',\n",
              " 'text': 'References',\n",
              " 'metadata': {'detection_class_prob': 0.8571382164955139,\n",
              "  'coordinates': {'points': ((196.85, 199.78396606445312),\n",
              "    (196.85, 235.40411376953125),\n",
              "    (351.13720722222223, 235.40411376953125),\n",
              "    (351.13720722222223, 199.78396606445312)),\n",
              "   'system': 'PixelSpace',\n",
              "   'layout_width': 1654,\n",
              "   'layout_height': 2339},\n",
              "  'last_modified': '2024-05-03T13:31:00',\n",
              "  'filetype': 'application/pdf',\n",
              "  'languages': ['eng'],\n",
              "  'page_number': 5,\n",
              "  'file_directory': 'data',\n",
              "  'filename': 'gpt4all.pdf'}}"
            ]
          },
          "execution_count": 20,
          "metadata": {},
          "output_type": "execute_result"
        }
      ],
      "source": [
        "reference_title.to_dict()"
      ]
    },
    {
      "cell_type": "code",
      "execution_count": null,
      "id": "303b9220-6367-4acc-a301-72e90620ed6f",
      "metadata": {
        "id": "303b9220-6367-4acc-a301-72e90620ed6f"
      },
      "outputs": [],
      "source": [
        "# Get the ID of the reference title element\n",
        "references_id = reference_title.id"
      ]
    },
    {
      "cell_type": "code",
      "execution_count": null,
      "id": "2b1b9656-0018-4936-a9c9-3beac7a7c610",
      "metadata": {
        "id": "2b1b9656-0018-4936-a9c9-3beac7a7c610",
        "outputId": "db345deb-e358-4bf8-b783-c92587d9bc9b"
      },
      "outputs": [
        {
          "name": "stdout",
          "output_type": "stream",
          "text": [
            "Nomic AI. 2023. Atlas. https://atlas.nomic.ai/.\n"
          ]
        }
      ],
      "source": [
        "for element in pdf_elements:\n",
        "    if element.metadata.parent_id == references_id:\n",
        "        print(element)\n",
        "        break"
      ]
    },
    {
      "cell_type": "code",
      "execution_count": null,
      "id": "c7c9c2ce-433c-493f-8d01-3d257bf1eff1",
      "metadata": {
        "id": "c7c9c2ce-433c-493f-8d01-3d257bf1eff1"
      },
      "outputs": [],
      "source": [
        "# Filter out elements with a parent_id matching references_id\n",
        "pdf_elements = [el for el in pdf_elements if el.metadata.parent_id != references_id]"
      ]
    },
    {
      "cell_type": "markdown",
      "id": "b3495de3-1ad8-4f81-b979-d67de01bd8d2",
      "metadata": {
        "id": "b3495de3-1ad8-4f81-b979-d67de01bd8d2"
      },
      "source": [
        "### Filter out headers"
      ]
    },
    {
      "cell_type": "code",
      "execution_count": null,
      "id": "29593c8d-a579-454f-872f-9001caa5613c",
      "metadata": {
        "id": "29593c8d-a579-454f-872f-9001caa5613c"
      },
      "outputs": [],
      "source": [
        "headers = [el for el in pdf_elements if el.category == \"Header\"]"
      ]
    },
    {
      "cell_type": "code",
      "execution_count": null,
      "id": "7d7e6a38",
      "metadata": {
        "id": "7d7e6a38",
        "outputId": "32e7025e-b7ec-416d-a94d-513af0b242d1"
      },
      "outputs": [
        {
          "data": {
            "text/plain": [
              "1"
            ]
          },
          "execution_count": 25,
          "metadata": {},
          "output_type": "execute_result"
        }
      ],
      "source": [
        "len(headers)"
      ]
    },
    {
      "cell_type": "code",
      "execution_count": null,
      "id": "2e2a006f-9125-4c13-a2ee-a86452b59b2b",
      "metadata": {
        "id": "2e2a006f-9125-4c13-a2ee-a86452b59b2b",
        "outputId": "24b83c9f-9d99-48aa-f747-bec2436c8849"
      },
      "outputs": [
        {
          "data": {
            "text/plain": [
              "{'type': 'Header',\n",
              " 'element_id': '4bff1bcde9e4a6e875fb8a8fc7b79e19',\n",
              " 'text': 'v o N 6 ] L C . s c [',\n",
              " 'metadata': {'detection_class_prob': 0.5846725702285767,\n",
              "  'coordinates': {'points': ((45.388888888888886, 816.0743408203125),\n",
              "    (45.388888888888886, 1539.7510986328125),\n",
              "    (100.94444444444446, 1539.7510986328125),\n",
              "    (100.94444444444446, 816.0743408203125)),\n",
              "   'system': 'PixelSpace',\n",
              "   'layout_width': 1654,\n",
              "   'layout_height': 2339},\n",
              "  'last_modified': '2024-05-03T13:31:00',\n",
              "  'filetype': 'application/pdf',\n",
              "  'languages': ['eng'],\n",
              "  'page_number': 1,\n",
              "  'file_directory': 'data',\n",
              "  'filename': 'gpt4all.pdf'}}"
            ]
          },
          "execution_count": 26,
          "metadata": {},
          "output_type": "execute_result"
        }
      ],
      "source": [
        "headers[0].to_dict()"
      ]
    },
    {
      "cell_type": "code",
      "execution_count": null,
      "id": "4c40d66a-4be5-4051-8226-5be421118ab3",
      "metadata": {
        "id": "4c40d66a-4be5-4051-8226-5be421118ab3"
      },
      "outputs": [],
      "source": [
        "# Filters out elements from the `pdf_elements` list that have the category \"Header\".\n",
        "pdf_elements = [el for el in pdf_elements if el.category != \"Header\"]"
      ]
    },
    {
      "cell_type": "code",
      "execution_count": null,
      "id": "3b88af65",
      "metadata": {
        "id": "3b88af65",
        "outputId": "e930f0dc-304e-47d4-d8bf-0f3d542e2116"
      },
      "outputs": [
        {
          "data": {
            "text/plain": [
              "72"
            ]
          },
          "execution_count": 28,
          "metadata": {},
          "output_type": "execute_result"
        }
      ],
      "source": [
        "len(pdf_elements)"
      ]
    },
    {
      "cell_type": "code",
      "execution_count": null,
      "id": "81dcbbc3",
      "metadata": {
        "id": "81dcbbc3",
        "outputId": "75d2cee3-174c-48ec-aa29-892598ef0c94"
      },
      "outputs": [
        {
          "data": {
            "text/plain": [
              "{'type': 'Title',\n",
              " 'element_id': '12c1dd0555bedb5ccc2a4d6366af96c7',\n",
              " 'text': '3 From a Model to an Ecosystem',\n",
              " 'metadata': {'detection_class_prob': 0.8266856670379639,\n",
              "  'coordinates': {'points': ((193.63523864746094, 1666.2607421875),\n",
              "    (193.63523864746094, 1700.904488611111),\n",
              "    (686.5115356445312, 1700.904488611111),\n",
              "    (686.5115356445312, 1666.2607421875)),\n",
              "   'system': 'PixelSpace',\n",
              "   'layout_width': 1654,\n",
              "   'layout_height': 2339},\n",
              "  'last_modified': '2024-05-03T13:31:00',\n",
              "  'filetype': 'application/pdf',\n",
              "  'languages': ['eng'],\n",
              "  'page_number': 2,\n",
              "  'file_directory': 'data',\n",
              "  'filename': 'gpt4all.pdf'}}"
            ]
          },
          "execution_count": 29,
          "metadata": {},
          "output_type": "execute_result"
        }
      ],
      "source": [
        "# lets again see some random index\n",
        "pdf_elements[33].to_dict()"
      ]
    },
    {
      "cell_type": "markdown",
      "id": "527495ff-0e84-400e-b6a6-982a5288f2f5",
      "metadata": {
        "id": "527495ff-0e84-400e-b6a6-982a5288f2f5"
      },
      "source": [
        "## Preprocess the README"
      ]
    },
    {
      "cell_type": "code",
      "execution_count": null,
      "id": "b2e35d92-78bc-46be-985e-6baba4830b12",
      "metadata": {
        "id": "b2e35d92-78bc-46be-985e-6baba4830b12"
      },
      "outputs": [],
      "source": [
        "filename_md = \"data/uber_10q_march_2022.md\""
      ]
    },
    {
      "cell_type": "code",
      "execution_count": null,
      "id": "946d2081-9070-423b-99f0-ce260e9a6491",
      "metadata": {
        "id": "946d2081-9070-423b-99f0-ce260e9a6491"
      },
      "outputs": [],
      "source": [
        "md_elements = partition_md(filename=filename_md)"
      ]
    },
    {
      "cell_type": "code",
      "execution_count": null,
      "id": "9eee4f04",
      "metadata": {
        "id": "9eee4f04",
        "outputId": "ac818062-0acf-421c-d6e4-e07062c17de4"
      },
      "outputs": [
        {
          "data": {
            "text/plain": [
              "({'type': 'Title',\n",
              "  'element_id': 'd7e7b8d880ae1ff8fd2f389fd1f21329',\n",
              "  'text': 'PART I - FINANCIAL INFORMATION',\n",
              "  'metadata': {'last_modified': '2024-03-23T21:26:32',\n",
              "   'languages': ['eng'],\n",
              "   'filetype': 'text/markdown',\n",
              "   'file_directory': 'data',\n",
              "   'filename': 'uber_10q_march_2022.md'}},\n",
              " {'type': 'Title',\n",
              "  'element_id': '12c1dd0555bedb5ccc2a4d6366af96c7',\n",
              "  'text': '3 From a Model to an Ecosystem',\n",
              "  'metadata': {'detection_class_prob': 0.8266856670379639,\n",
              "   'coordinates': {'points': ((193.63523864746094, 1666.2607421875),\n",
              "     (193.63523864746094, 1700.904488611111),\n",
              "     (686.5115356445312, 1700.904488611111),\n",
              "     (686.5115356445312, 1666.2607421875)),\n",
              "    'system': 'PixelSpace',\n",
              "    'layout_width': 1654,\n",
              "    'layout_height': 2339},\n",
              "   'last_modified': '2024-05-03T13:31:00',\n",
              "   'filetype': 'application/pdf',\n",
              "   'languages': ['eng'],\n",
              "   'page_number': 2,\n",
              "   'file_directory': 'data',\n",
              "   'filename': 'gpt4all.pdf'}})"
            ]
          },
          "execution_count": 32,
          "metadata": {},
          "output_type": "execute_result"
        }
      ],
      "source": [
        "# lets again see some random index\n",
        "md_elements[33].to_dict(), pdf_elements[33].to_dict()"
      ]
    },
    {
      "cell_type": "markdown",
      "id": "b5533a29-62fe-432b-bfa0-499d4029fdbf",
      "metadata": {
        "id": "b5533a29-62fe-432b-bfa0-499d4029fdbf"
      },
      "source": [
        "#### Let's still do some more exploration"
      ]
    },
    {
      "cell_type": "code",
      "execution_count": null,
      "id": "b00b8c11",
      "metadata": {
        "id": "b00b8c11",
        "outputId": "4e9af1ca-2cec-4f64-f1e6-d08e9de1b3ce"
      },
      "outputs": [
        {
          "data": {
            "text/plain": [
              "(72, 1506)"
            ]
          },
          "execution_count": 33,
          "metadata": {},
          "output_type": "execute_result"
        }
      ],
      "source": [
        "len(pdf_elements), len(md_elements)"
      ]
    },
    {
      "cell_type": "code",
      "execution_count": null,
      "id": "6b739a36-8f61-46ac-861b-641f56b140f0",
      "metadata": {
        "id": "6b739a36-8f61-46ac-861b-641f56b140f0"
      },
      "outputs": [],
      "source": [
        "elements = chunk_by_title(pdf_elements + md_elements) # you can play around with the chunk_by_title arguments"
      ]
    },
    {
      "cell_type": "code",
      "execution_count": null,
      "id": "2df9e6ae",
      "metadata": {
        "id": "2df9e6ae",
        "outputId": "1360b075-e81b-4f29-b3bd-800d86dfc963"
      },
      "outputs": [
        {
          "data": {
            "text/plain": [
              "731"
            ]
          },
          "execution_count": 35,
          "metadata": {},
          "output_type": "execute_result"
        }
      ],
      "source": [
        "len(elements)"
      ]
    },
    {
      "cell_type": "code",
      "execution_count": null,
      "id": "3d69d3d0",
      "metadata": {
        "id": "3d69d3d0",
        "outputId": "3e682b96-a95a-4caa-e9c6-22523905afff"
      },
      "outputs": [
        {
          "data": {
            "text/plain": [
              "{'type': 'UncategorizedText',\n",
              " 'element_id': 'b0c5cfcf93a217591e27d5c97845f59b',\n",
              " 'text': '3 2 0 2',\n",
              " 'metadata': {'coordinates': {'points': ((45.388888888888886,\n",
              "     732.8055555555557),\n",
              "    (45.388888888888886, 843.9166666666669),\n",
              "    (100.94444444444446, 843.9166666666669),\n",
              "    (100.94444444444446, 732.8055555555557)),\n",
              "   'system': 'PixelSpace',\n",
              "   'layout_width': 1654,\n",
              "   'layout_height': 2339},\n",
              "  'last_modified': '2024-05-03T13:31:00',\n",
              "  'filetype': 'application/pdf',\n",
              "  'languages': ['eng'],\n",
              "  'page_number': 1,\n",
              "  'file_directory': 'data',\n",
              "  'filename': 'gpt4all.pdf'}}"
            ]
          },
          "execution_count": 36,
          "metadata": {},
          "output_type": "execute_result"
        }
      ],
      "source": [
        "pdf_elements[0].to_dict()"
      ]
    },
    {
      "cell_type": "code",
      "execution_count": null,
      "id": "b2789bb8",
      "metadata": {
        "id": "b2789bb8",
        "outputId": "a12ab77b-e380-4516-f6f8-05ac1e2cd200"
      },
      "outputs": [
        {
          "data": {
            "text/plain": [
              "{'type': 'UncategorizedText',\n",
              " 'element_id': '07edc40df2508eb1259212408427c16f',\n",
              " 'text': '1 v 1 3 9 4 0 . 1 1 3 2 : v i X r a',\n",
              " 'metadata': {'coordinates': {'points': ((45.388888888888886,\n",
              "     1218.8611111111109),\n",
              "    (45.388888888888886, 1680.25),\n",
              "    (100.94444444444446, 1680.25),\n",
              "    (100.94444444444446, 1218.8611111111109)),\n",
              "   'system': 'PixelSpace',\n",
              "   'layout_width': 1654,\n",
              "   'layout_height': 2339},\n",
              "  'last_modified': '2024-05-03T13:31:00',\n",
              "  'filetype': 'application/pdf',\n",
              "  'languages': ['eng'],\n",
              "  'page_number': 1,\n",
              "  'parent_id': '4bff1bcde9e4a6e875fb8a8fc7b79e19',\n",
              "  'file_directory': 'data',\n",
              "  'filename': 'gpt4all.pdf'}}"
            ]
          },
          "execution_count": 37,
          "metadata": {},
          "output_type": "execute_result"
        }
      ],
      "source": [
        "pdf_elements[1].to_dict()"
      ]
    },
    {
      "cell_type": "code",
      "execution_count": null,
      "id": "ab0af605",
      "metadata": {
        "id": "ab0af605",
        "outputId": "b342fb67-bfa8-49eb-8f78-a54ebbeee2d1"
      },
      "outputs": [
        {
          "data": {
            "text/plain": [
              "{'type': 'CompositeElement',\n",
              " 'element_id': 'de7552d5-35e4-4f67-9e92-8bb73a59f958',\n",
              " 'text': '3 2 0 2\\n\\n1 v 1 3 9 4 0 . 1 1 3 2 : v i X r a\\n\\nGPT4All: An Ecosystem of Open Source Compressed Language Models\\n\\nYuvanesh Anand Nomic AI yuvanesh@nomic.ai\\n\\nZach Nussbaum Nomic AI zach@nomic.ai\\n\\nAdam Treat Nomic AI adam@nomic.ai\\n\\nAaron Miller Nomic AI aaron@nomic.ai\\n\\nRichard Guo Nomic AI richard@nomic.ai\\n\\nBen Schmidt Nomic AI ben@nomic.ai\\n\\nGPT4All Community Planet Earth\\n\\nBrandon Duderstadt∗ Nomic AI brandon@nomic.ai\\n\\nAndriy Mulyar∗ Nomic AI andriy@nomic.ai',\n",
              " 'metadata': {'file_directory': 'data',\n",
              "  'filename': 'gpt4all.pdf',\n",
              "  'filetype': 'application/pdf',\n",
              "  'languages': ['eng'],\n",
              "  'last_modified': '2024-05-03T13:31:00',\n",
              "  'page_number': 1,\n",
              "  'orig_elements': 'eJzlWNtuGzcQ/RVCz86W94uf6rRBUKBJg8YF2rqBwMvQWmAvwmqVRgny75292FZiubEL6MH1k3QOh1guz+FwZi8+LaCCGpp+WabFKVkEGlXMMTvhOTPKMeAmqeiMlSorFxYnZFFD75PvPcZ/WsS27VLZ+B42I678rt32yxWUl6seGS6Ewzkz/XeZ+hWyTCuJ7Lotm36Yd3EhVYGMEbyw707IDK0UhRsgo7Rwt/EUjsRis9v0UA9v8Kb8ANXbtY+w+IwDuaxgmcoOYt92uyFgXPo80vgaBu5y3UtfVcU65auhfrceh/x6XZXR92XbfDcPV7653PrL8Y0vFtBcLt6N7KZf1m0qcwnjXnLK5TOqnlFxzsSpYKeUDrPXOHPZbOsA3bATwyJ7+DDs1UIQTijhQ9TV439r8Nlw2XblR0jnQxxO+Fo1aiBFSVPmiloIjCvHGZfUSm4i0/nIqjHO7KTLjLWlBd/T6TYxzXjcyo1Md6OCDDmzEBM4kF6DNSoH622OJhgHzC32pWbkPWFEEEckSl7g/wFxcop8SX4nHfEPtoF30qYA3GfDldXeZ0s9c1qppDgP5mg24IwW6oRgxphO7xVWpjCj6lLYQhwixhn/aoMEPToANVxG1GmzXHdtwDBaSMsV+9/75OWbc3lWVafkrCEvYjttE2kz+WUNDXnbbrsI5Ie2Xnew2UAiP88rJ6/aBNVm30PnZV/BQd+ADMxkIVQU3KJ4uCZGM+VWGpZkOppvmGOFPSGCqsk3M5ZMz+nEyILdxlP8E04ef2zf+wY2KzSFbxJ53dZlJGc/kd3Mf98MTOHLe8lvWbBRM9BeOOYd2KBUoMZb6xE5ejT5FV4Xbk/+GV/LbYwqzG385OX/08cVeb3dbILf1jfqf0T6YconlDnpQH1STAtnEhfGgzHORO+th6Mpb6384uDP+FppNtQJ5gDx5LU/S74m5x34/kZ41Kd+4JF3jnPnTRSSowmC8CxIaWjikguw+ngZn1M7lAY3KX8mJBaEeioNJCvoAeIe0t9ZK3AlrXyM3vjmCf3CG75rG/KqrCro9twxsAft8dp3Hb7Ke7iroExRUxtjFJCUMkZ4pXgMwdKYXPL5eDbhxo0esKwQY0E5YWxrCjndFLLQt/EU/4Szw69lXPkukZfb9sYA3UQ+LENE4SRlnGNu4DYGEbSxQoHlWeug1fFqQsPZWARcST9j5cSUMBwfO4ev8T2kv7uTwPfUj9Eb3zyf+954PvQLcVXjzt94I8B/TA1UgWE6K4vWdABRS66jsYplllJO8ng3CLVubAquDHJFKCVnAq07fIa4RTz59DA3k0O/WG+bst+RN7g46MkL3+F23ycv4EkxFMsyzrISFH8jzykYrfEM4SOP+IGQiuEK0EpMos7YaFvQMU9QdwhP8U9Y8+cdtohYFvy4TdBtUJj+ry3nzOzlgCniYfcDliGGqcS48Ci+SdRSE7F6DNpmF7w9mg+cscNZvvbBjAfd5VRQ4oVADxD3cMKdNwQ2xoo/Rqt887h+UT82qSt35NW22vnua5f4cfA+l8W7fwDSHD2i'}}"
            ]
          },
          "execution_count": 38,
          "metadata": {},
          "output_type": "execute_result"
        }
      ],
      "source": [
        "elements[0].to_dict()"
      ]
    },
    {
      "cell_type": "code",
      "execution_count": null,
      "id": "c63851b7",
      "metadata": {
        "id": "c63851b7",
        "outputId": "e14fe23f-101f-4d7a-d0eb-e8a85fa27415"
      },
      "outputs": [
        {
          "name": "stdout",
          "output_type": "stream",
          "text": [
            "\u001b[0;31mSignature:\u001b[0m\n",
            "\u001b[0mchunk_by_title\u001b[0m\u001b[0;34m(\u001b[0m\u001b[0;34m\u001b[0m\n",
            "\u001b[0;34m\u001b[0m    \u001b[0melements\u001b[0m\u001b[0;34m:\u001b[0m \u001b[0;34m'Iterable[Element]'\u001b[0m\u001b[0;34m,\u001b[0m\u001b[0;34m\u001b[0m\n",
            "\u001b[0;34m\u001b[0m    \u001b[0;34m*\u001b[0m\u001b[0;34m,\u001b[0m\u001b[0;34m\u001b[0m\n",
            "\u001b[0;34m\u001b[0m    \u001b[0mcombine_text_under_n_chars\u001b[0m\u001b[0;34m:\u001b[0m \u001b[0;34m'Optional[int]'\u001b[0m \u001b[0;34m=\u001b[0m \u001b[0;32mNone\u001b[0m\u001b[0;34m,\u001b[0m\u001b[0;34m\u001b[0m\n",
            "\u001b[0;34m\u001b[0m    \u001b[0minclude_orig_elements\u001b[0m\u001b[0;34m:\u001b[0m \u001b[0;34m'Optional[bool]'\u001b[0m \u001b[0;34m=\u001b[0m \u001b[0;32mNone\u001b[0m\u001b[0;34m,\u001b[0m\u001b[0;34m\u001b[0m\n",
            "\u001b[0;34m\u001b[0m    \u001b[0mmax_characters\u001b[0m\u001b[0;34m:\u001b[0m \u001b[0;34m'Optional[int]'\u001b[0m \u001b[0;34m=\u001b[0m \u001b[0;32mNone\u001b[0m\u001b[0;34m,\u001b[0m\u001b[0;34m\u001b[0m\n",
            "\u001b[0;34m\u001b[0m    \u001b[0mmultipage_sections\u001b[0m\u001b[0;34m:\u001b[0m \u001b[0;34m'Optional[bool]'\u001b[0m \u001b[0;34m=\u001b[0m \u001b[0;32mNone\u001b[0m\u001b[0;34m,\u001b[0m\u001b[0;34m\u001b[0m\n",
            "\u001b[0;34m\u001b[0m    \u001b[0mnew_after_n_chars\u001b[0m\u001b[0;34m:\u001b[0m \u001b[0;34m'Optional[int]'\u001b[0m \u001b[0;34m=\u001b[0m \u001b[0;32mNone\u001b[0m\u001b[0;34m,\u001b[0m\u001b[0;34m\u001b[0m\n",
            "\u001b[0;34m\u001b[0m    \u001b[0moverlap\u001b[0m\u001b[0;34m:\u001b[0m \u001b[0;34m'Optional[int]'\u001b[0m \u001b[0;34m=\u001b[0m \u001b[0;32mNone\u001b[0m\u001b[0;34m,\u001b[0m\u001b[0;34m\u001b[0m\n",
            "\u001b[0;34m\u001b[0m    \u001b[0moverlap_all\u001b[0m\u001b[0;34m:\u001b[0m \u001b[0;34m'Optional[bool]'\u001b[0m \u001b[0;34m=\u001b[0m \u001b[0;32mNone\u001b[0m\u001b[0;34m,\u001b[0m\u001b[0;34m\u001b[0m\n",
            "\u001b[0;34m\u001b[0m\u001b[0;34m)\u001b[0m \u001b[0;34m->\u001b[0m \u001b[0;34m'list[Element]'\u001b[0m\u001b[0;34m\u001b[0m\u001b[0;34m\u001b[0m\u001b[0m\n",
            "\u001b[0;31mSource:\u001b[0m   \n",
            "\u001b[0;32mdef\u001b[0m \u001b[0mchunk_by_title\u001b[0m\u001b[0;34m(\u001b[0m\u001b[0;34m\u001b[0m\n",
            "\u001b[0;34m\u001b[0m    \u001b[0melements\u001b[0m\u001b[0;34m:\u001b[0m \u001b[0mIterable\u001b[0m\u001b[0;34m[\u001b[0m\u001b[0mElement\u001b[0m\u001b[0;34m]\u001b[0m\u001b[0;34m,\u001b[0m\u001b[0;34m\u001b[0m\n",
            "\u001b[0;34m\u001b[0m    \u001b[0;34m*\u001b[0m\u001b[0;34m,\u001b[0m\u001b[0;34m\u001b[0m\n",
            "\u001b[0;34m\u001b[0m    \u001b[0mcombine_text_under_n_chars\u001b[0m\u001b[0;34m:\u001b[0m \u001b[0mOptional\u001b[0m\u001b[0;34m[\u001b[0m\u001b[0mint\u001b[0m\u001b[0;34m]\u001b[0m \u001b[0;34m=\u001b[0m \u001b[0;32mNone\u001b[0m\u001b[0;34m,\u001b[0m\u001b[0;34m\u001b[0m\n",
            "\u001b[0;34m\u001b[0m    \u001b[0minclude_orig_elements\u001b[0m\u001b[0;34m:\u001b[0m \u001b[0mOptional\u001b[0m\u001b[0;34m[\u001b[0m\u001b[0mbool\u001b[0m\u001b[0;34m]\u001b[0m \u001b[0;34m=\u001b[0m \u001b[0;32mNone\u001b[0m\u001b[0;34m,\u001b[0m\u001b[0;34m\u001b[0m\n",
            "\u001b[0;34m\u001b[0m    \u001b[0mmax_characters\u001b[0m\u001b[0;34m:\u001b[0m \u001b[0mOptional\u001b[0m\u001b[0;34m[\u001b[0m\u001b[0mint\u001b[0m\u001b[0;34m]\u001b[0m \u001b[0;34m=\u001b[0m \u001b[0;32mNone\u001b[0m\u001b[0;34m,\u001b[0m\u001b[0;34m\u001b[0m\n",
            "\u001b[0;34m\u001b[0m    \u001b[0mmultipage_sections\u001b[0m\u001b[0;34m:\u001b[0m \u001b[0mOptional\u001b[0m\u001b[0;34m[\u001b[0m\u001b[0mbool\u001b[0m\u001b[0;34m]\u001b[0m \u001b[0;34m=\u001b[0m \u001b[0;32mNone\u001b[0m\u001b[0;34m,\u001b[0m\u001b[0;34m\u001b[0m\n",
            "\u001b[0;34m\u001b[0m    \u001b[0mnew_after_n_chars\u001b[0m\u001b[0;34m:\u001b[0m \u001b[0mOptional\u001b[0m\u001b[0;34m[\u001b[0m\u001b[0mint\u001b[0m\u001b[0;34m]\u001b[0m \u001b[0;34m=\u001b[0m \u001b[0;32mNone\u001b[0m\u001b[0;34m,\u001b[0m\u001b[0;34m\u001b[0m\n",
            "\u001b[0;34m\u001b[0m    \u001b[0moverlap\u001b[0m\u001b[0;34m:\u001b[0m \u001b[0mOptional\u001b[0m\u001b[0;34m[\u001b[0m\u001b[0mint\u001b[0m\u001b[0;34m]\u001b[0m \u001b[0;34m=\u001b[0m \u001b[0;32mNone\u001b[0m\u001b[0;34m,\u001b[0m\u001b[0;34m\u001b[0m\n",
            "\u001b[0;34m\u001b[0m    \u001b[0moverlap_all\u001b[0m\u001b[0;34m:\u001b[0m \u001b[0mOptional\u001b[0m\u001b[0;34m[\u001b[0m\u001b[0mbool\u001b[0m\u001b[0;34m]\u001b[0m \u001b[0;34m=\u001b[0m \u001b[0;32mNone\u001b[0m\u001b[0;34m,\u001b[0m\u001b[0;34m\u001b[0m\n",
            "\u001b[0;34m\u001b[0m\u001b[0;34m)\u001b[0m \u001b[0;34m->\u001b[0m \u001b[0mlist\u001b[0m\u001b[0;34m[\u001b[0m\u001b[0mElement\u001b[0m\u001b[0;34m]\u001b[0m\u001b[0;34m:\u001b[0m\u001b[0;34m\u001b[0m\n",
            "\u001b[0;34m\u001b[0m    \u001b[0;34m\"\"\"Uses title elements to identify sections within the document for chunking.\u001b[0m\n",
            "\u001b[0;34m\u001b[0m\n",
            "\u001b[0;34m    Splits off into a new CompositeElement when a title is detected or if metadata changes, which\u001b[0m\n",
            "\u001b[0;34m    happens when page numbers or sections change. Cuts off sections once they have exceeded a\u001b[0m\n",
            "\u001b[0;34m    character length of max_characters.\u001b[0m\n",
            "\u001b[0;34m\u001b[0m\n",
            "\u001b[0;34m    Parameters\u001b[0m\n",
            "\u001b[0;34m    ----------\u001b[0m\n",
            "\u001b[0;34m    elements\u001b[0m\n",
            "\u001b[0;34m        A list of unstructured elements. Usually the output of a partition function.\u001b[0m\n",
            "\u001b[0;34m    combine_text_under_n_chars\u001b[0m\n",
            "\u001b[0;34m        Combines elements (for example a series of titles) until a section reaches a length of\u001b[0m\n",
            "\u001b[0;34m        n characters. Defaults to `max_characters` which combines chunks whenever space allows.\u001b[0m\n",
            "\u001b[0;34m        Specifying 0 for this argument suppresses combining of small chunks. Note this value is\u001b[0m\n",
            "\u001b[0;34m        \"capped\" at the `new_after_n_chars` value since a value higher than that would not change\u001b[0m\n",
            "\u001b[0;34m        this parameter's effect.\u001b[0m\n",
            "\u001b[0;34m    include_orig_elements\u001b[0m\n",
            "\u001b[0;34m        When `True` (default), add elements from pre-chunk to the `.metadata.orig_elements` field\u001b[0m\n",
            "\u001b[0;34m        of the chunk(s) formed from that pre-chunk. Among other things, this allows access to\u001b[0m\n",
            "\u001b[0;34m        original-element metadata that cannot be consolidated and is dropped in the course of\u001b[0m\n",
            "\u001b[0;34m        chunking.\u001b[0m\n",
            "\u001b[0;34m    max_characters\u001b[0m\n",
            "\u001b[0;34m        Chunks elements text and text_as_html (if present) into chunks of length\u001b[0m\n",
            "\u001b[0;34m        n characters (hard max)\u001b[0m\n",
            "\u001b[0;34m    multipage_sections\u001b[0m\n",
            "\u001b[0;34m        If True, sections can span multiple pages. Defaults to True.\u001b[0m\n",
            "\u001b[0;34m    new_after_n_chars\u001b[0m\n",
            "\u001b[0;34m        Cuts off new sections once they reach a length of n characters (soft max). Defaults to\u001b[0m\n",
            "\u001b[0;34m        `max_characters` when not specified, which effectively disables any soft window.\u001b[0m\n",
            "\u001b[0;34m        Specifying 0 for this argument causes each element to appear in a chunk by itself (although\u001b[0m\n",
            "\u001b[0;34m        an element with text longer than `max_characters` will be still be split into two or more\u001b[0m\n",
            "\u001b[0;34m        chunks).\u001b[0m\n",
            "\u001b[0;34m    overlap\u001b[0m\n",
            "\u001b[0;34m        Specifies the length of a string (\"tail\") to be drawn from each chunk and prefixed to the\u001b[0m\n",
            "\u001b[0;34m        next chunk as a context-preserving mechanism. By default, this only applies to split-chunks\u001b[0m\n",
            "\u001b[0;34m        where an oversized element is divided into multiple chunks by text-splitting.\u001b[0m\n",
            "\u001b[0;34m    overlap_all\u001b[0m\n",
            "\u001b[0;34m        Default: `False`. When `True`, apply overlap between \"normal\" chunks formed from whole\u001b[0m\n",
            "\u001b[0;34m        elements and not subject to text-splitting. Use this with caution as it entails a certain\u001b[0m\n",
            "\u001b[0;34m        level of \"pollution\" of otherwise clean semantic chunk boundaries.\u001b[0m\n",
            "\u001b[0;34m    \"\"\"\u001b[0m\u001b[0;34m\u001b[0m\n",
            "\u001b[0;34m\u001b[0m    \u001b[0mopts\u001b[0m \u001b[0;34m=\u001b[0m \u001b[0m_ByTitleChunkingOptions\u001b[0m\u001b[0;34m.\u001b[0m\u001b[0mnew\u001b[0m\u001b[0;34m(\u001b[0m\u001b[0;34m\u001b[0m\n",
            "\u001b[0;34m\u001b[0m        \u001b[0mcombine_text_under_n_chars\u001b[0m\u001b[0;34m=\u001b[0m\u001b[0mcombine_text_under_n_chars\u001b[0m\u001b[0;34m,\u001b[0m\u001b[0;34m\u001b[0m\n",
            "\u001b[0;34m\u001b[0m        \u001b[0minclude_orig_elements\u001b[0m\u001b[0;34m=\u001b[0m\u001b[0minclude_orig_elements\u001b[0m\u001b[0;34m,\u001b[0m\u001b[0;34m\u001b[0m\n",
            "\u001b[0;34m\u001b[0m        \u001b[0mmax_characters\u001b[0m\u001b[0;34m=\u001b[0m\u001b[0mmax_characters\u001b[0m\u001b[0;34m,\u001b[0m\u001b[0;34m\u001b[0m\n",
            "\u001b[0;34m\u001b[0m        \u001b[0mmultipage_sections\u001b[0m\u001b[0;34m=\u001b[0m\u001b[0mmultipage_sections\u001b[0m\u001b[0;34m,\u001b[0m\u001b[0;34m\u001b[0m\n",
            "\u001b[0;34m\u001b[0m        \u001b[0mnew_after_n_chars\u001b[0m\u001b[0;34m=\u001b[0m\u001b[0mnew_after_n_chars\u001b[0m\u001b[0;34m,\u001b[0m\u001b[0;34m\u001b[0m\n",
            "\u001b[0;34m\u001b[0m        \u001b[0moverlap\u001b[0m\u001b[0;34m=\u001b[0m\u001b[0moverlap\u001b[0m\u001b[0;34m,\u001b[0m\u001b[0;34m\u001b[0m\n",
            "\u001b[0;34m\u001b[0m        \u001b[0moverlap_all\u001b[0m\u001b[0;34m=\u001b[0m\u001b[0moverlap_all\u001b[0m\u001b[0;34m,\u001b[0m\u001b[0;34m\u001b[0m\n",
            "\u001b[0;34m\u001b[0m    \u001b[0;34m)\u001b[0m\u001b[0;34m\u001b[0m\n",
            "\u001b[0;34m\u001b[0m    \u001b[0;32mreturn\u001b[0m \u001b[0m_chunk_by_title\u001b[0m\u001b[0;34m(\u001b[0m\u001b[0melements\u001b[0m\u001b[0;34m,\u001b[0m \u001b[0mopts\u001b[0m\u001b[0;34m)\u001b[0m\u001b[0;34m\u001b[0m\u001b[0;34m\u001b[0m\u001b[0m\n",
            "\u001b[0;31mFile:\u001b[0m      ~/Documents/yt-code/youtube-stuffs/data-cleaning/.venv/lib/python3.11/site-packages/unstructured/chunking/title.py\n",
            "\u001b[0;31mType:\u001b[0m      function"
          ]
        }
      ],
      "source": [
        "chunk_by_title??"
      ]
    },
    {
      "cell_type": "code",
      "execution_count": null,
      "id": "5def9454",
      "metadata": {
        "id": "5def9454"
      },
      "outputs": [],
      "source": [
        "#chunk_elements = chunk_by_title((pdf_elements + md_elements),combine_text_under_n_chars=100,max_characters=3000)\n",
        "#len(chunk_elements)"
      ]
    },
    {
      "cell_type": "markdown",
      "id": "178d0ac3",
      "metadata": {
        "id": "178d0ac3"
      },
      "source": [
        "## Load the Documents into the Vector DB"
      ]
    },
    {
      "cell_type": "code",
      "execution_count": null,
      "id": "a87e5924-6c42-47ab-8cd1-2c22caed71c6",
      "metadata": {
        "id": "a87e5924-6c42-47ab-8cd1-2c22caed71c6"
      },
      "outputs": [],
      "source": [
        "import os\n",
        "from langchain_core.documents import Document\n",
        "from langchain_community.embeddings.fastembed import FastEmbedEmbeddings\n",
        "from langchain_community.vectorstores import Qdrant"
      ]
    },
    {
      "cell_type": "code",
      "execution_count": null,
      "id": "9af0f348-0697-4bed-8f97-a0ee03475ffe",
      "metadata": {
        "id": "9af0f348-0697-4bed-8f97-a0ee03475ffe"
      },
      "outputs": [],
      "source": [
        "documents = []\n",
        "for element in elements:\n",
        "    metadata = element.metadata.to_dict()\n",
        "    del metadata[\"languages\"]\n",
        "    metadata[\"source\"] = metadata[\"filename\"]\n",
        "    documents.append(Document(page_content=element.text, metadata=metadata))"
      ]
    },
    {
      "cell_type": "code",
      "execution_count": null,
      "id": "187514ca",
      "metadata": {
        "id": "187514ca",
        "outputId": "185f384c-9a0a-4d8d-99bb-8834b328f617"
      },
      "outputs": [
        {
          "data": {
            "text/plain": [
              "731"
            ]
          },
          "execution_count": 94,
          "metadata": {},
          "output_type": "execute_result"
        }
      ],
      "source": [
        "len(documents)"
      ]
    },
    {
      "cell_type": "code",
      "execution_count": null,
      "id": "cbd8d9e9",
      "metadata": {
        "id": "cbd8d9e9",
        "outputId": "aa9d40d5-87ba-45c3-bc28-ecee325c0b36"
      },
      "outputs": [
        {
          "data": {
            "text/plain": [
              "True"
            ]
          },
          "execution_count": 43,
          "metadata": {},
          "output_type": "execute_result"
        }
      ],
      "source": [
        "from dotenv import load_dotenv\n",
        "load_dotenv()"
      ]
    },
    {
      "cell_type": "code",
      "execution_count": null,
      "id": "e5502d16",
      "metadata": {
        "id": "e5502d16"
      },
      "outputs": [],
      "source": [
        "qdrant_url = os.getenv(\"QDRANT_URL\")\n",
        "qdrant_api_key = os.getenv(\"QDRANT_API_KEY\")\n",
        "groq_api_key = os.getenv(\"GROQ_API_KEY\")"
      ]
    },
    {
      "cell_type": "code",
      "execution_count": null,
      "id": "43ce7dc4-a23f-4024-b647-1eae469efc77",
      "metadata": {
        "id": "43ce7dc4-a23f-4024-b647-1eae469efc77",
        "outputId": "88fcf2b8-9216-4a6c-a831-2d69918deea7"
      },
      "outputs": [
        {
          "name": "stderr",
          "output_type": "stream",
          "text": [
            "Fetching 5 files: 100%|██████████| 5/5 [00:00<00:00, 78251.94it/s]\n"
          ]
        }
      ],
      "source": [
        "embeddings = FastEmbedEmbeddings()"
      ]
    },
    {
      "cell_type": "code",
      "execution_count": null,
      "id": "b2bc691d-18e8-4833-9009-e13f7fa13e0e",
      "metadata": {
        "id": "b2bc691d-18e8-4833-9009-e13f7fa13e0e"
      },
      "outputs": [],
      "source": [
        "# this will take some time, patience is the key :)\n",
        "vectorstore = Qdrant.from_documents(documents=documents,\n",
        "                                    embedding = embeddings,\n",
        "                                    url = qdrant_url,\n",
        "                                    collection_name=\"rag\",\n",
        "                                    api_key=qdrant_api_key)"
      ]
    },
    {
      "cell_type": "code",
      "execution_count": null,
      "id": "a775b466-16af-4bf1-94d5-c96563ce50d0",
      "metadata": {
        "id": "a775b466-16af-4bf1-94d5-c96563ce50d0"
      },
      "outputs": [],
      "source": [
        "retriever = vectorstore.as_retriever(\n",
        "    search_type=\"similarity\",\n",
        "    search_kwargs={\"k\": 3}\n",
        ")"
      ]
    },
    {
      "cell_type": "markdown",
      "id": "61aadbc2",
      "metadata": {
        "id": "61aadbc2"
      },
      "source": [
        "## Let's create RAG (Qdrant, Groq, LangChain, Llama3)"
      ]
    },
    {
      "cell_type": "code",
      "execution_count": null,
      "id": "6b3a5fa6-7169-4f1f-aabd-15eec4da8f53",
      "metadata": {
        "id": "6b3a5fa6-7169-4f1f-aabd-15eec4da8f53"
      },
      "outputs": [],
      "source": [
        "from langchain.prompts.prompt import PromptTemplate\n",
        "from langchain_groq import ChatGroq\n",
        "from langchain.chains import chat_history_aware_retriever\n",
        "from langchain.chains.qa_with_sources import load_qa_with_sources_chain"
      ]
    },
    {
      "cell_type": "code",
      "execution_count": null,
      "id": "238ea8c4-c099-490a-877c-2050b65fd2b0",
      "metadata": {
        "id": "238ea8c4-c099-490a-877c-2050b65fd2b0"
      },
      "outputs": [],
      "source": [
        "template = \"\"\"You are an AI assistant for answering questions about the GPT4All paper and Quarterly Report Pursuant to Section 13 or 15(d) of the Securities Exchange Act of 1934 for the quarterly period ended March 31, 2022.\n",
        "You are given the following extracted parts of a long document and a question. Provide a conversational answer.\n",
        "If you don't know the answer, just say \"Hmm, I'm not sure.\" Don't try to make up an answer.\n",
        "Question: {question}\n",
        "=========\n",
        "{context}\n",
        "=========\n",
        "Answer in Markdown:\"\"\"\n",
        "prompt = PromptTemplate(template=template, input_variables=[\"question\", \"context\"])"
      ]
    },
    {
      "cell_type": "code",
      "execution_count": null,
      "id": "42096f06-ae93-4d5d-acb6-02b760745b9e",
      "metadata": {
        "id": "42096f06-ae93-4d5d-acb6-02b760745b9e"
      },
      "outputs": [],
      "source": [
        "llm = ChatGroq(temperature=0,model_name=\"llama3-8b-8192\")\n",
        "\n",
        "doc_chain = load_qa_with_sources_chain(llm, chain_type=\"map_reduce\")\n",
        "question_generator_chain = LLMChain(llm=llm, prompt=prompt)\n",
        "qa_chain = ConversationalRetrievalChain(\n",
        "    retriever=retriever,\n",
        "    question_generator=question_generator_chain,\n",
        "    combine_docs_chain=doc_chain,\n",
        ")"
      ]
    },
    {
      "cell_type": "code",
      "execution_count": null,
      "id": "d9329374-1a3f-44aa-8cd0-14a6d8bcae7e",
      "metadata": {
        "id": "d9329374-1a3f-44aa-8cd0-14a6d8bcae7e",
        "outputId": "5f1da69a-eac8-4237-e9cd-9dd47f49ee89"
      },
      "outputs": [
        {
          "data": {
            "text/plain": [
              "'The net loss including non-controlling interests of Uber in 2021 was $(122) million.\\nSOURCES: uber_10q_march_2022.md'"
            ]
          },
          "execution_count": 61,
          "metadata": {},
          "output_type": "execute_result"
        }
      ],
      "source": [
        "qa_chain.invoke({\n",
        "    \"question\": \"What was the net loss including non-controlling interests of Uber in 2021\", #line 533\n",
        "    \"chat_history\": []\n",
        "})[\"answer\"]"
      ]
    },
    {
      "cell_type": "code",
      "execution_count": null,
      "id": "c2f3d9ab-9cb4-4b64-8ed6-db3467f2a548",
      "metadata": {
        "id": "c2f3d9ab-9cb4-4b64-8ed6-db3467f2a548"
      },
      "outputs": [],
      "source": [
        "# hybrid search in action\n",
        "filter_retriever = vectorstore.as_retriever(\n",
        "    search_type=\"similarity\",\n",
        "    search_kwargs={\"k\": 1, \"filter\": {\"source\": \"gpt4all.pdf\"}}\n",
        ")"
      ]
    },
    {
      "cell_type": "code",
      "execution_count": null,
      "id": "ebca3607-5cc0-46e3-9f1e-ef60955d3abd",
      "metadata": {
        "id": "ebca3607-5cc0-46e3-9f1e-ef60955d3abd"
      },
      "outputs": [],
      "source": [
        "filter_chain = ConversationalRetrievalChain(\n",
        "    retriever=filter_retriever,\n",
        "    question_generator=question_generator_chain,\n",
        "    combine_docs_chain=doc_chain,\n",
        ")"
      ]
    },
    {
      "cell_type": "code",
      "execution_count": null,
      "id": "67c0ff39-291e-4cd1-9aef-b2db960a728b",
      "metadata": {
        "id": "67c0ff39-291e-4cd1-9aef-b2db960a728b",
        "outputId": "4620ad90-4300-4f60-d8bf-0a6bd01b8a51"
      },
      "outputs": [
        {
          "data": {
            "text/plain": [
              "\"I'm happy to help!\\n\\nFINAL ANSWER: The president did not mention Michael Jackson.\\nSOURCES:\\n\\nFINAL ANSWER: This Agreement is governed by English law.\\nSOURCES: 28-pl\\n\\nFINAL ANSWER: The president did not mention Michael Jackson.\\nSOURCES:\\n\\nFINAL ANSWER: GPT4All-Snoozy was developed using roughly the same procedure as the previous GPT4All models, but with a few key modifications.\\nSOURCES: gpt4all.pdf\""
            ]
          },
          "execution_count": 92,
          "metadata": {},
          "output_type": "execute_result"
        }
      ],
      "source": [
        "filter_chain.invoke({\n",
        "    \"question\": \"How was GPT4All-Snoozy developed ?\",\n",
        "    \"chat_history\": [],\n",
        "    \"filter\": filter,\n",
        "})[\"answer\"]"
      ]
    },
    {
      "cell_type": "code",
      "execution_count": null,
      "id": "64114f95-ca0e-4de8-a335-fa8a4849da96",
      "metadata": {
        "id": "64114f95-ca0e-4de8-a335-fa8a4849da96"
      },
      "outputs": [],
      "source": []
    }
  ],
  "metadata": {
    "kernelspec": {
      "display_name": "Python 3",
      "name": "python3"
    },
    "language_info": {
      "codemirror_mode": {
        "name": "ipython",
        "version": 3
      },
      "file_extension": ".py",
      "mimetype": "text/x-python",
      "name": "python",
      "nbconvert_exporter": "python",
      "pygments_lexer": "ipython3",
      "version": "3.11.0"
    },
    "colab": {
      "provenance": [],
      "gpuType": "T4",
      "include_colab_link": true
    },
    "accelerator": "GPU"
  },
  "nbformat": 4,
  "nbformat_minor": 5
}